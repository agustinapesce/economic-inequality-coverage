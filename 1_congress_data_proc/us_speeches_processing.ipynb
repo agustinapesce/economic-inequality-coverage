{
 "cells": [
  {
   "cell_type": "markdown",
   "metadata": {},
   "source": [
    "### Speeches"
   ]
  },
  {
   "cell_type": "markdown",
   "metadata": {},
   "source": [
    "#### Import"
   ]
  },
  {
   "cell_type": "code",
   "execution_count": 1,
   "metadata": {},
   "outputs": [],
   "source": [
    "#pip freeze | findstr spacy\n",
    "#pip uninstall -y spacy spacy-legacy spacy-loggers pydantic pydantic-core\n",
    "#pip install spacy==3.7.4 pydantic==1.10.19\n",
    "#!python -m spacy download en_core_web_sm"
   ]
  },
  {
   "cell_type": "code",
   "execution_count": null,
   "metadata": {},
   "outputs": [
    {
     "name": "stderr",
     "output_type": "stream",
     "text": [
      "c:\\Users\\agust\\anaconda3\\lib\\site-packages\\pandas\\core\\computation\\expressions.py:21: UserWarning: Pandas requires version '2.8.4' or newer of 'numexpr' (version '2.8.3' currently installed).\n",
      "  from pandas.core.computation.check import NUMEXPR_INSTALLED\n",
      "c:\\Users\\agust\\anaconda3\\lib\\site-packages\\pandas\\core\\arrays\\masked.py:60: UserWarning: Pandas requires version '1.3.6' or newer of 'bottleneck' (version '1.3.5' currently installed).\n",
      "  from pandas.core import (\n"
     ]
    }
   ],
   "source": [
    "import os\n",
    "import yaml\n",
    "import pickle\n",
    "import numpy as np\n",
    "import pandas as pd\n",
    "import matplotlib.pyplot as plt\n",
    "\n",
    "# Set tqdm to work with pandas apply\n",
    "from tqdm import tqdm\n",
    "tqdm.pandas()\n",
    "\n",
    "import re\n",
    "import spacy\n",
    "from nltk.tokenize import word_tokenize\n",
    "\n",
    "import matplotlib.pyplot as plt\n",
    "import seaborn as sns\n",
    "import numpy as np\n",
    "import matplotlib.ticker as ticker"
   ]
  },
  {
   "cell_type": "markdown",
   "metadata": {},
   "source": [
    "#### All speeches"
   ]
  },
  {
   "cell_type": "markdown",
   "metadata": {},
   "source": [
    "##### Speeches from EMI dataset (1879-2022)"
   ]
  },
  {
   "cell_type": "code",
   "execution_count": 3,
   "metadata": {},
   "outputs": [
    {
     "name": "stderr",
     "output_type": "stream",
     "text": [
      "C:\\Users\\agust\\AppData\\Local\\Temp\\ipykernel_13324\\856093044.py:4: DtypeWarning: Columns (0,3,7) have mixed types. Specify dtype option on import or set low_memory=False.\n",
      "  old_speeches = pd.read_csv('US_Congressional_speeches_EMI/datasets/osfstorage-archive/speeches_filtered/combined_congress1879_till_2022_filtered_nonprocedural.csv.gzip',\n"
     ]
    }
   ],
   "source": [
    "##Long upload\n",
    "\n",
    "# Load the gzip file into a DataFrame\n",
    "old_speeches = pd.read_csv('US_Congressional_speeches_EMI/datasets/osfstorage-archive/speeches_filtered/combined_congress1879_till_2022_filtered_nonprocedural.csv.gzip', \n",
    "                 compression='gzip')"
   ]
  },
  {
   "cell_type": "code",
   "execution_count": 4,
   "metadata": {},
   "outputs": [
    {
     "data": {
      "text/html": [
       "<div>\n",
       "<style scoped>\n",
       "    .dataframe tbody tr th:only-of-type {\n",
       "        vertical-align: middle;\n",
       "    }\n",
       "\n",
       "    .dataframe tbody tr th {\n",
       "        vertical-align: top;\n",
       "    }\n",
       "\n",
       "    .dataframe thead th {\n",
       "        text-align: right;\n",
       "    }\n",
       "</style>\n",
       "<table border=\"1\" class=\"dataframe\">\n",
       "  <thead>\n",
       "    <tr style=\"text-align: right;\">\n",
       "      <th></th>\n",
       "      <th>speech_id</th>\n",
       "      <th>text</th>\n",
       "      <th>speaker</th>\n",
       "      <th>bioguide_id</th>\n",
       "      <th>date</th>\n",
       "      <th>last_name</th>\n",
       "      <th>first_name</th>\n",
       "      <th>middle_name</th>\n",
       "      <th>gender</th>\n",
       "      <th>party</th>\n",
       "      <th>chamber</th>\n",
       "      <th>year</th>\n",
       "    </tr>\n",
       "  </thead>\n",
       "  <tbody>\n",
       "    <tr>\n",
       "      <th>0</th>\n",
       "      <td>CREC-2015-01-02-pt1-PgE1855-2-2</td>\n",
       "      <td>Mr. Speaker, I rise today to honor Joe W. Stri...</td>\n",
       "      <td>Mr. BOEHNER</td>\n",
       "      <td>B000589</td>\n",
       "      <td>2015-01-02</td>\n",
       "      <td>Boehner</td>\n",
       "      <td>John</td>\n",
       "      <td>A.</td>\n",
       "      <td>M</td>\n",
       "      <td>Republican</td>\n",
       "      <td>H</td>\n",
       "      <td>2015</td>\n",
       "    </tr>\n",
       "    <tr>\n",
       "      <th>1</th>\n",
       "      <td>CREC-2015-01-02-pt1-PgE1856-2-2</td>\n",
       "      <td>Mr. Speaker, since before the terrorist attack...</td>\n",
       "      <td>Mr. WAXMAN</td>\n",
       "      <td>W000215</td>\n",
       "      <td>2015-01-02</td>\n",
       "      <td>Waxman</td>\n",
       "      <td>Henry</td>\n",
       "      <td>A.</td>\n",
       "      <td>M</td>\n",
       "      <td>Democrat</td>\n",
       "      <td>H</td>\n",
       "      <td>2015</td>\n",
       "    </tr>\n",
       "  </tbody>\n",
       "</table>\n",
       "</div>"
      ],
      "text/plain": [
       "                         speech_id  \\\n",
       "0  CREC-2015-01-02-pt1-PgE1855-2-2   \n",
       "1  CREC-2015-01-02-pt1-PgE1856-2-2   \n",
       "\n",
       "                                                text      speaker bioguide_id  \\\n",
       "0  Mr. Speaker, I rise today to honor Joe W. Stri...  Mr. BOEHNER     B000589   \n",
       "1  Mr. Speaker, since before the terrorist attack...   Mr. WAXMAN     W000215   \n",
       "\n",
       "         date last_name first_name middle_name gender       party chamber  \\\n",
       "0  2015-01-02   Boehner       John          A.      M  Republican       H   \n",
       "1  2015-01-02    Waxman      Henry          A.      M    Democrat       H   \n",
       "\n",
       "   year  \n",
       "0  2015  \n",
       "1  2015  "
      ]
     },
     "execution_count": 4,
     "metadata": {},
     "output_type": "execute_result"
    }
   ],
   "source": [
    "old_speeches.head(2)"
   ]
  },
  {
   "cell_type": "markdown",
   "metadata": {},
   "source": [
    "Handle 2015 and 2016 duplicates"
   ]
  },
  {
   "cell_type": "code",
   "execution_count": 5,
   "metadata": {},
   "outputs": [],
   "source": [
    "old_speeches = old_speeches[\n",
    "    (~old_speeches[\"year\"].isin([2015, 2016])) |\n",
    "    (old_speeches[\"year\"].isin([2015, 2016]) & old_speeches[\"speech_id\"].str.startswith(\"CREC\"))\n",
    "]"
   ]
  },
  {
   "cell_type": "markdown",
   "metadata": {},
   "source": [
    "##### Add 2023 and 2024"
   ]
  },
  {
   "cell_type": "code",
   "execution_count": 6,
   "metadata": {},
   "outputs": [],
   "source": [
    "#Import and rename according to old_speeches\n",
    "new_speeches = pd.read_csv('US_Congressional_speeches_EMI/crec_procflag.csv')\n",
    "new_speeches.rename(columns={'speech': 'text', 'speaker_bioguide':'bioguide_id'}, inplace=True)"
   ]
  },
  {
   "cell_type": "code",
   "execution_count": 7,
   "metadata": {},
   "outputs": [],
   "source": [
    "#select non-procedural\n",
    "new_speeches_non_proc = new_speeches[new_speeches[\"procedural_flag\"] == 0]\n",
    "\n",
    "columns = [\"speech_id\", \"text\", \"speaker\", \"bioguide_id\", \"date\", \"chamber\"]\n",
    "new_speeches_non_proc = new_speeches_non_proc.loc[:, columns]"
   ]
  },
  {
   "cell_type": "code",
   "execution_count": 8,
   "metadata": {},
   "outputs": [],
   "source": [
    "# Create the \"year\" column from the first 4 characters of the \"date\" column\n",
    "new_speeches_non_proc = new_speeches_non_proc.assign(year=new_speeches_non_proc[\"date\"].str[:4])"
   ]
  },
  {
   "cell_type": "code",
   "execution_count": 9,
   "metadata": {},
   "outputs": [],
   "source": [
    "def extract_legislator_info_from_dataframe(df, bioguide_col, data_dir=\".\"):\n",
    "    \"\"\"\n",
    "    Extract legislator details and fill the specified DataFrame columns from current and historical data.\n",
    "    \n",
    "    Args:\n",
    "        df (pd.DataFrame): The DataFrame containing a column with bioguide IDs.\n",
    "        bioguide_col (str): The column name in the DataFrame containing bioguide IDs.\n",
    "        data_dir (str): Directory containing YAML files.\n",
    "        \n",
    "    Returns:\n",
    "        pd.DataFrame: Updated DataFrame with legislator information.\n",
    "    \"\"\"\n",
    "    # Files containing legislator data\n",
    "    current_file = os.path.join(data_dir, \"legislators-current.yaml\")\n",
    "    historical_file = os.path.join(data_dir, \"legislators-historical.yaml\")\n",
    "    \n",
    "    if not os.path.exists(current_file) or not os.path.exists(historical_file):\n",
    "        raise FileNotFoundError(\"Ensure both 'legislators-current.yaml' and 'legislators-historical.yaml' are present.\")\n",
    "    \n",
    "    # Load YAML data\n",
    "    with open(current_file, \"r\") as file:\n",
    "        current_legislators = yaml.safe_load(file)\n",
    "    with open(historical_file, \"r\") as file:\n",
    "        historical_legislators = yaml.safe_load(file)\n",
    "    \n",
    "    # Combine current and historical data\n",
    "    all_legislators = current_legislators + historical_legislators\n",
    "    \n",
    "    # Create a lookup dictionary for quick access\n",
    "    legislator_dict = {}\n",
    "    for leg in all_legislators:\n",
    "        bioguide = leg.get(\"id\", {}).get(\"bioguide\")\n",
    "        if bioguide:\n",
    "            name = leg.get(\"name\", {})\n",
    "            terms = leg.get(\"terms\", [])\n",
    "            # Safely access the 'party' key, defaulting to \"Unknown\" if missing\n",
    "            last_party = terms[-1].get(\"party\", \"Unknown\") if terms else \"Unknown\"\n",
    "            legislator_dict[bioguide] = {\n",
    "                \"last_name\": name.get(\"last\"),\n",
    "                \"first_name\": name.get(\"first\"),\n",
    "                \"middle_name\": name.get(\"middle\"),\n",
    "                \"gender\": leg.get(\"bio\", {}).get(\"gender\"),\n",
    "                \"party\": last_party,\n",
    "            }\n",
    "    \n",
    "    # Add new columns to the DataFrame\n",
    "    df[\"last_name\"] = df[bioguide_col].map(lambda x: legislator_dict.get(x, {}).get(\"last_name\"))\n",
    "    df[\"first_name\"] = df[bioguide_col].map(lambda x: legislator_dict.get(x, {}).get(\"first_name\"))\n",
    "    df[\"middle_name\"] = df[bioguide_col].map(lambda x: legislator_dict.get(x, {}).get(\"middle_name\"))\n",
    "    df[\"gender\"] = df[bioguide_col].map(lambda x: legislator_dict.get(x, {}).get(\"gender\"))\n",
    "    df[\"party\"] = df[bioguide_col].map(lambda x: legislator_dict.get(x, {}).get(\"party\"))\n",
    "    \n",
    "    return df"
   ]
  },
  {
   "cell_type": "code",
   "execution_count": 10,
   "metadata": {},
   "outputs": [],
   "source": [
    "# Replace with the directory containing YAML files\n",
    "DATA_DIR = \"US_Congressional_speeches_EMI\"\n",
    "\n",
    "# Extract legislator information\n",
    "new_speeches_non_proc = extract_legislator_info_from_dataframe(new_speeches_non_proc, \"bioguide_id\", DATA_DIR)"
   ]
  },
  {
   "cell_type": "code",
   "execution_count": 11,
   "metadata": {},
   "outputs": [
    {
     "data": {
      "text/plain": [
       "Index(['speech_id', 'text', 'speaker', 'bioguide_id', 'date', 'chamber',\n",
       "       'year', 'last_name', 'first_name', 'middle_name', 'gender', 'party'],\n",
       "      dtype='object')"
      ]
     },
     "execution_count": 11,
     "metadata": {},
     "output_type": "execute_result"
    }
   ],
   "source": [
    "new_speeches_non_proc.columns"
   ]
  },
  {
   "cell_type": "markdown",
   "metadata": {},
   "source": [
    "Concatenate old and new speeches"
   ]
  },
  {
   "cell_type": "code",
   "execution_count": 12,
   "metadata": {},
   "outputs": [],
   "source": [
    "speeches = pd.concat([old_speeches, new_speeches_non_proc], ignore_index=True, sort=False)"
   ]
  },
  {
   "cell_type": "code",
   "execution_count": 13,
   "metadata": {},
   "outputs": [],
   "source": [
    "speeches['year'] = speeches['year'].astype(int)  "
   ]
  },
  {
   "cell_type": "code",
   "execution_count": 14,
   "metadata": {},
   "outputs": [],
   "source": [
    "#Save number or total speeches per year for all the dataset\n",
    "total_speeches_per_year = speeches.groupby('year', group_keys=False).size()"
   ]
  },
  {
   "cell_type": "code",
   "execution_count": 15,
   "metadata": {},
   "outputs": [],
   "source": [
    "with open('python_objects/total_speeches_per_year.pkl', 'wb') as f:\n",
    "     pickle.dump(total_speeches_per_year, f)"
   ]
  },
  {
   "cell_type": "markdown",
   "metadata": {},
   "source": [
    "#### Load yearly totals"
   ]
  },
  {
   "cell_type": "code",
   "execution_count": 3,
   "metadata": {},
   "outputs": [],
   "source": [
    "total_speeches_per_year = pd.read_pickle('python_objects/total_speeches_per_year.pkl')"
   ]
  },
  {
   "cell_type": "code",
   "execution_count": 4,
   "metadata": {},
   "outputs": [],
   "source": [
    "def get_total_speeches_in_span(total_speeches_per_year, start_year, end_year):\n",
    "    # Filter the Series for the specified range of years and calculate the sum\n",
    "    total_speeches_in_span = total_speeches_per_year[(total_speeches_per_year.index >= start_year) &\n",
    "                                                     (total_speeches_per_year.index <= end_year)].sum()\n",
    "    return total_speeches_in_span"
   ]
  },
  {
   "cell_type": "code",
   "execution_count": 5,
   "metadata": {},
   "outputs": [
    {
     "name": "stdout",
     "output_type": "stream",
     "text": [
      "Total speeches from 1939 to 2024: 4944727\n",
      "Total speeches from 1980 to 2024: 2180206\n"
     ]
    }
   ],
   "source": [
    "start_year = 1939\n",
    "end_year = 2024\n",
    "\n",
    "total39_speeches = get_total_speeches_in_span(total_speeches_per_year, start_year, end_year)\n",
    "print(f\"Total speeches from {start_year} to {end_year}: {total39_speeches}\")\n",
    "\n",
    "start_year = 1980\n",
    "total80_speeches = get_total_speeches_in_span(total_speeches_per_year, start_year, end_year)\n",
    "\n",
    "\n",
    "print(f\"Total speeches from {start_year} to {end_year}: {total80_speeches}\")\n",
    "#4.944.727"
   ]
  },
  {
   "cell_type": "markdown",
   "metadata": {},
   "source": [
    "### Process the congress speeches from 1939 onwards"
   ]
  },
  {
   "cell_type": "code",
   "execution_count": 6,
   "metadata": {},
   "outputs": [
    {
     "ename": "NameError",
     "evalue": "name 'speeches' is not defined",
     "output_type": "error",
     "traceback": [
      "\u001b[1;31m---------------------------------------------------------------------------\u001b[0m",
      "\u001b[1;31mNameError\u001b[0m                                 Traceback (most recent call last)",
      "\u001b[1;32m~\\AppData\\Local\\Temp\\ipykernel_11604\\1283444514.py\u001b[0m in \u001b[0;36m<module>\u001b[1;34m\u001b[0m\n\u001b[1;32m----> 1\u001b[1;33m \u001b[0mspeeches_39_onward\u001b[0m \u001b[1;33m=\u001b[0m \u001b[0mspeeches\u001b[0m\u001b[1;33m[\u001b[0m\u001b[0mspeeches\u001b[0m\u001b[1;33m[\u001b[0m\u001b[1;34m'year'\u001b[0m\u001b[1;33m]\u001b[0m \u001b[1;33m>=\u001b[0m \u001b[1;36m1939\u001b[0m\u001b[1;33m]\u001b[0m\u001b[1;33m\u001b[0m\u001b[1;33m\u001b[0m\u001b[0m\n\u001b[0m\u001b[0;32m      2\u001b[0m \u001b[0mprint\u001b[0m\u001b[1;33m(\u001b[0m\u001b[1;34m\"1939:\"\u001b[0m\u001b[1;33m,\u001b[0m \u001b[0mlen\u001b[0m\u001b[1;33m(\u001b[0m\u001b[0mspeeches_39_onward\u001b[0m\u001b[1;33m)\u001b[0m\u001b[1;33m)\u001b[0m\u001b[1;33m\u001b[0m\u001b[1;33m\u001b[0m\u001b[0m\n",
      "\u001b[1;31mNameError\u001b[0m: name 'speeches' is not defined"
     ]
    }
   ],
   "source": [
    "speeches_39_onward = speeches[speeches['year'] >= 1939]\n",
    "print(\"1939:\", len(speeches_39_onward))"
   ]
  },
  {
   "cell_type": "code",
   "execution_count": 37,
   "metadata": {},
   "outputs": [
    {
     "data": {
      "text/plain": [
       "party\n",
       "Democrat       56.713928\n",
       "Republican     43.282854\n",
       "Independent     0.003218\n",
       "Name: proportion, dtype: float64"
      ]
     },
     "execution_count": 37,
     "metadata": {},
     "output_type": "execute_result"
    }
   ],
   "source": [
    "speeches_39_onward[\"party\"].value_counts(normalize=True) * 100"
   ]
  },
  {
   "cell_type": "code",
   "execution_count": 38,
   "metadata": {},
   "outputs": [
    {
     "name": "stdout",
     "output_type": "stream",
     "text": [
      "1980: 2180206\n"
     ]
    }
   ],
   "source": [
    "speeches_80_onward = speeches[speeches['year'] >= 1980]\n",
    "print(\"1980:\",len(speeches_80_onward))"
   ]
  },
  {
   "cell_type": "code",
   "execution_count": 39,
   "metadata": {},
   "outputs": [
    {
     "data": {
      "text/plain": [
       "party\n",
       "Democrat       51.912561\n",
       "Republican     48.080134\n",
       "Independent     0.007305\n",
       "Name: proportion, dtype: float64"
      ]
     },
     "execution_count": 39,
     "metadata": {},
     "output_type": "execute_result"
    }
   ],
   "source": [
    "speeches_80_onward[\"party\"].value_counts(normalize=True) * 100"
   ]
  },
  {
   "cell_type": "markdown",
   "metadata": {},
   "source": [
    "Graph yearly totals"
   ]
  },
  {
   "cell_type": "markdown",
   "metadata": {},
   "source": [
    "Visualization for total speeches"
   ]
  },
  {
   "cell_type": "code",
   "execution_count": 8,
   "metadata": {},
   "outputs": [],
   "source": [
    "# Data preparation: Filter and ensure numeric years\n",
    "total_speeches_per_year = total_speeches_per_year[total_speeches_per_year.index >= 1980]\n",
    "years = total_speeches_per_year.index.astype(int)"
   ]
  },
  {
   "cell_type": "code",
   "execution_count": 9,
   "metadata": {},
   "outputs": [
    {
     "data": {
      "image/png": "[encoded data removed]",
      "text/plain": [
       "<Figure size 650x400 with 1 Axes>"
      ]
     },
     "metadata": {},
     "output_type": "display_data"
    }
   ],
   "source": [
    "# Set up the plotting theme and font\n",
    "sns.set_theme(style=\"whitegrid\")\n",
    "plt.rcParams['font.family'] = 'Times New Roman'\n",
    "\n",
    "# Create figure with size based on LaTeX's linewidth\n",
    "fig_width_inch = 6.5  # Typical figure width for LaTeX\n",
    "fig_height_inch = 4   # Adjust to maintain aspect ratio\n",
    "plt.figure(figsize=(fig_width_inch, fig_height_inch))\n",
    "\n",
    "# Define color for bars\n",
    "bar_color = \"#117733\"\n",
    "\n",
    "# Plot the data\n",
    "plt.bar(years, total_speeches_per_year.values, color=bar_color, edgecolor=\"black\", width=0.8, align=\"center\")\n",
    "\n",
    "# Titles and labels\n",
    "plt.xlabel(\"Year\", fontsize=12, fontweight=\"bold\")\n",
    "plt.ylabel(\"Number of Speeches\", fontsize=12, fontweight=\"bold\")\n",
    "plt.title(\"Annual distribution of speeches in the US Congress\", fontsize=14, fontweight=\"bold\", pad=25)\n",
    "\n",
    "# Set x-axis ticks every 10 years (adjust to your data range)\n",
    "tick_positions = np.arange(1980, max(years) + 1, 5).tolist()  \n",
    "tick_positions.append(2024)\n",
    "plt.xticks(tick_positions, fontsize=12)\n",
    "\n",
    "# Format y-axis ticks to display values in 'k' for thousands\n",
    "plt.ylim(0, 185000)\n",
    "plt.yticks(np.arange(0, 180001, 20000), fontsize=12)\n",
    "plt.gca().yaxis.set_major_formatter(ticker.FuncFormatter(lambda x, pos: f'{int(x*1e-3)}k' if x >= 1000 else str(int(x))))\n",
    "\n",
    "# Make tick marks stand out outside the axis\n",
    "plt.gca().tick_params(which=\"both\", bottom=True, left=True, length=6, width=1, color='#D9D9D9', labelsize=10)\n",
    "\n",
    "# Remove unnecessary spines for cleaner appearance\n",
    "plt.gca().spines['right'].set_visible(False)\n",
    "plt.gca().spines['top'].set_visible(False)\n",
    "\n",
    "# Adjust layout for better spacing\n",
    "plt.tight_layout()\n",
    "\n",
    "# Save the plot as a high-quality PNG image\n",
    "plt.savefig(\"annual_speeches_distribution.png\", dpi=300, bbox_inches=\"tight\")\n",
    "\n",
    "# Display the plot\n",
    "plt.show()\n"
   ]
  },
  {
   "cell_type": "markdown",
   "metadata": {},
   "source": [
    "#### Extract speeches with \"inequ|gap|disparit\" cases"
   ]
  },
  {
   "cell_type": "markdown",
   "metadata": {},
   "source": [
    "Regex test"
   ]
  },
  {
   "cell_type": "code",
   "execution_count": null,
   "metadata": {},
   "outputs": [
    {
     "name": "stderr",
     "output_type": "stream",
     "text": [
      "C:\\Users\\agust\\AppData\\Local\\Temp\\ipykernel_29856\\1800661815.py:5: UserWarning: This pattern has match groups. To actually get the groups, use str.extract.\n",
      "  pd.Series([txt]).str.contains(test_pattern,\n"
     ]
    },
    {
     "data": {
      "text/plain": [
       "0    False\n",
       "dtype: bool"
      ]
     },
     "execution_count": 20,
     "metadata": {},
     "output_type": "execute_result"
    }
   ],
   "source": [
    "#regex test\n",
    "test_pattern = r'\\b(inequ|gap|disparit)\\w*'\n",
    "\n",
    "txt = \"in1equalities are in the rise wages\"\n",
    "pd.Series([txt]).str.contains(test_pattern, \n",
    "                              case=False, \n",
    "                              na=False, \n",
    "                              regex=True)"
   ]
  },
  {
   "cell_type": "markdown",
   "metadata": {},
   "source": [
    "Reduce dataset size for more detailed token querying afterwards"
   ]
  },
  {
   "cell_type": "code",
   "execution_count": null,
   "metadata": {},
   "outputs": [],
   "source": [
    "#pattern1_new = r'\\b(inequ|gap|disparit)\\w*'\n",
    "pattern1 = r'\\b(inequ|gap)\\w*'"
   ]
  },
  {
   "cell_type": "code",
   "execution_count": null,
   "metadata": {},
   "outputs": [
    {
     "name": "stderr",
     "output_type": "stream",
     "text": [
      "C:\\Users\\agust\\AppData\\Local\\Temp\\ipykernel_29856\\2925529808.py:2: UserWarning: This pattern has match groups. To actually get the groups, use str.extract.\n",
      "  inequality_df = speeches_39_onward[speeches_39_onward['text'].str.contains(pattern1,\n"
     ]
    }
   ],
   "source": [
    "# Filter rows where the 'text' column contains the pattern\n",
    "inequality_df = speeches_39_onward[speeches_39_onward['text'].str.contains(pattern1, \n",
    "                                                                             case=False, \n",
    "                                                                             na=False, \n",
    "                                                                             regex=True)]"
   ]
  },
  {
   "cell_type": "code",
   "execution_count": null,
   "metadata": {},
   "outputs": [
    {
     "name": "stdout",
     "output_type": "stream",
     "text": [
      "4944727\n",
      "63330\n",
      "Ineq vs. total speeches: 1.28 %\n"
     ]
    }
   ],
   "source": [
    "#total39_speeches\n",
    "print(total39_speeches)\n",
    "\n",
    "ineq_speeches_n = len(inequality_df)\n",
    "print(ineq_speeches_n)\n",
    "\n",
    "ineq_speeches_percent = ineq_speeches_n/total39_speeches*100\n",
    "print(\"Ineq vs. total speeches:\", round(ineq_speeches_percent, 2),\"%\")"
   ]
  },
  {
   "cell_type": "code",
   "execution_count": null,
   "metadata": {},
   "outputs": [],
   "source": [
    "inequality_df.to_csv('python_objects/congress39_ineq_2401.csv', index=False)"
   ]
  },
  {
   "cell_type": "markdown",
   "metadata": {},
   "source": [
    "#### From ineq speeches extract those with economical terms"
   ]
  },
  {
   "cell_type": "code",
   "execution_count": null,
   "metadata": {},
   "outputs": [],
   "source": [
    "inequality_df = pd.read_csv('python_objects/congress39_ineq_2401.csv')\n",
    "#inequality_df = pd.read_csv('python_objects/congress39_ineq_0212_nyt_query.csv')\n",
    "#inequality_df = pd.read_csv('python_objects/congress39_econ_ineq_2911_new_query.csv')"
   ]
  },
  {
   "cell_type": "code",
   "execution_count": null,
   "metadata": {},
   "outputs": [],
   "source": [
    "# Economical terms pattern\n",
    "#pattern2_new = r'\\b(income|incomes|salary|salaries|wage|wages|compensation|compensations|rich|richs|poor|poors|pay|wealth)\\b(?!\\w)|\\b(economic)\\w*\\b'\n",
    "pattern2 = r'\\b(income|salary|wage|compensation|pay|wealth|economic)\\w*\\b'\n"
   ]
  },
  {
   "cell_type": "code",
   "execution_count": null,
   "metadata": {},
   "outputs": [
    {
     "name": "stderr",
     "output_type": "stream",
     "text": [
      "C:\\Users\\agust\\AppData\\Local\\Temp\\ipykernel_29856\\208698655.py:2: UserWarning: This pattern has match groups. To actually get the groups, use str.extract.\n",
      "  econ_inequ_df = inequality_df[inequality_df['text'].str.contains(pattern2,\n"
     ]
    }
   ],
   "source": [
    "# Filter rows where the 'text' column contains the pattern\n",
    "econ_inequ_df = inequality_df[inequality_df['text'].str.contains(pattern2, \n",
    "                                                                case=False, \n",
    "                                                                na=False, \n",
    "                                                                regex=True)]"
   ]
  },
  {
   "cell_type": "code",
   "execution_count": null,
   "metadata": {},
   "outputs": [
    {
     "name": "stdout",
     "output_type": "stream",
     "text": [
      "Ineq speeches: 63330\n",
      "Econ ineq speeches: 39102\n",
      "Econ ineq vs. ineq: 61.74 %\n",
      "\n",
      "Ineq vs. total speeches: 1.28 %\n",
      "Econ ineq vs. total speeches: 0.79 %\n",
      "% difference: 0.49 %\n"
     ]
    }
   ],
   "source": [
    "print(\"Ineq speeches:\",ineq_speeches_n)\n",
    "\n",
    "econ_ineq_speeches_n = len(econ_inequ_df)\n",
    "print(\"Econ ineq speeches:\", econ_ineq_speeches_n)\n",
    "\n",
    "print(\"Econ ineq vs. ineq:\", round(econ_ineq_speeches_n/ineq_speeches_n*100, 2),\"%\")\n",
    "print()\n",
    "\n",
    "print(\"Ineq vs. total speeches:\", round(ineq_speeches_percent, 2),\"%\")\n",
    "econ_ineq_speeches_percent = econ_ineq_speeches_n/total39_speeches*100\n",
    "print(\"Econ ineq vs. total speeches:\", round(econ_ineq_speeches_percent, 2),\"%\")\n",
    "print(\"% difference:\", round(ineq_speeches_percent - econ_ineq_speeches_percent, 3),\"%\")"
   ]
  },
  {
   "cell_type": "markdown",
   "metadata": {},
   "source": [
    "### Tokenize for \"window query\""
   ]
  },
  {
   "cell_type": "markdown",
   "metadata": {},
   "source": [
    "Test tokenizer"
   ]
  },
  {
   "cell_type": "code",
   "execution_count": null,
   "metadata": {},
   "outputs": [
    {
     "name": "stdout",
     "output_type": "stream",
     "text": [
      "['the', 'quick', 'brown', 'fox', 'over', 'the', 'lazy', 'dog']\n",
      "\n",
      "Text: #, Lemma: , POS: , Is stop word: False\n",
      "Text: the, Lemma: , POS: , Is stop word: True\n",
      "Text: %, Lemma: , POS: , Is stop word: False\n",
      "Text: quick, Lemma: , POS: , Is stop word: False\n",
      "Text: >, Lemma: , POS: , Is stop word: False\n",
      "Text: brown, Lemma: , POS: , Is stop word: False\n",
      "Text: -, Lemma: , POS: , Is stop word: False\n",
      "Text: fox, Lemma: , POS: , Is stop word: False\n",
      "Text: jum!ps, Lemma: , POS: , Is stop word: False\n",
      "Text: over, Lemma: , POS: , Is stop word: True\n",
      "Text: ', Lemma: , POS: , Is stop word: False\n",
      "Text: 34, Lemma: , POS: , Is stop word: False\n",
      "Text: case1, Lemma: , POS: , Is stop word: False\n",
      "Text: the, Lemma: , POS: , Is stop word: True\n",
      "Text: lazy, Lemma: , POS: , Is stop word: False\n",
      "Text: dog, Lemma: , POS: , Is stop word: False\n",
      "Text: ., Lemma: , POS: , Is stop word: False\n"
     ]
    }
   ],
   "source": [
    "# Test text\n",
    "text = \"#The %quick > brown-fox jum!ps over' 34 case1 the lazy dog.\"\n",
    "\n",
    "# Process the text\n",
    "doc = nlp(text.lower())\n",
    "\n",
    "print([token.text for token in doc if token.is_alpha])\n",
    "print()\n",
    "\n",
    "# Inspect tokens\n",
    "for token in doc:\n",
    "    print(f\"Text: {token.text}, Lemma: {token.lemma_}, POS: {token.pos_}, Is stop word: {token.is_stop}\")\n"
   ]
  },
  {
   "cell_type": "markdown",
   "metadata": {},
   "source": [
    "Clean and tokenize"
   ]
  },
  {
   "cell_type": "code",
   "execution_count": null,
   "metadata": {},
   "outputs": [
    {
     "name": "stderr",
     "output_type": "stream",
     "text": [
      "100%|██████████| 39102/39102 [01:41<00:00, 386.73it/s]\n",
      "C:\\Users\\agust\\AppData\\Local\\Temp\\ipykernel_29856\\812643878.py:2: SettingWithCopyWarning: \n",
      "A value is trying to be set on a copy of a slice from a DataFrame.\n",
      "Try using .loc[row_indexer,col_indexer] = value instead\n",
      "\n",
      "See the caveats in the documentation: https://pandas.pydata.org/pandas-docs/stable/user_guide/indexing.html#returning-a-view-versus-a-copy\n",
      "  econ_inequ_df['cleaned_tokens'] = econ_inequ_df['text'].progress_apply(clean_and_tokenize_spacy)\n"
     ]
    }
   ],
   "source": [
    "# Apply the function to the 'text' column\n",
    "econ_inequ_df['cleaned_tokens'] = econ_inequ_df['text'].progress_apply(clean_and_tokenize_spacy)"
   ]
  },
  {
   "cell_type": "code",
   "execution_count": null,
   "metadata": {},
   "outputs": [
    {
     "data": {
      "text/html": [
       "<div>\n",
       "<style scoped>\n",
       "    .dataframe tbody tr th:only-of-type {\n",
       "        vertical-align: middle;\n",
       "    }\n",
       "\n",
       "    .dataframe tbody tr th {\n",
       "        vertical-align: top;\n",
       "    }\n",
       "\n",
       "    .dataframe thead th {\n",
       "        text-align: right;\n",
       "    }\n",
       "</style>\n",
       "<table border=\"1\" class=\"dataframe\">\n",
       "  <thead>\n",
       "    <tr style=\"text-align: right;\">\n",
       "      <th></th>\n",
       "      <th>text</th>\n",
       "      <th>cleaned_tokens</th>\n",
       "    </tr>\n",
       "  </thead>\n",
       "  <tbody>\n",
       "    <tr>\n",
       "      <th>0</th>\n",
       "      <td>Mr. Speaker, today I have introduced the Guam ...</td>\n",
       "      <td>[Speaker, today, I, have, introduced, the, Gua...</td>\n",
       "    </tr>\n",
       "    <tr>\n",
       "      <th>1</th>\n",
       "      <td>Mr. Speaker, I thank my colleague. Mr. Speaker...</td>\n",
       "      <td>[Speaker, I, thank, my, colleague, Speaker, it...</td>\n",
       "    </tr>\n",
       "    <tr>\n",
       "      <th>3</th>\n",
       "      <td>Mr. President, today, I am pleased to reintrod...</td>\n",
       "      <td>[President, today, I, am, pleased, to, reintro...</td>\n",
       "    </tr>\n",
       "    <tr>\n",
       "      <th>4</th>\n",
       "      <td>The Senator from Colorado, Michael Bennet, and...</td>\n",
       "      <td>[The, Senator, from, Colorado, Michael, Bennet...</td>\n",
       "    </tr>\n",
       "    <tr>\n",
       "      <th>5</th>\n",
       "      <td>Mr. Speaker, today I introduced legislation to...</td>\n",
       "      <td>[Speaker, today, I, introduced, legislation, t...</td>\n",
       "    </tr>\n",
       "  </tbody>\n",
       "</table>\n",
       "</div>"
      ],
      "text/plain": [
       "                                                text  \\\n",
       "0  Mr. Speaker, today I have introduced the Guam ...   \n",
       "1  Mr. Speaker, I thank my colleague. Mr. Speaker...   \n",
       "3  Mr. President, today, I am pleased to reintrod...   \n",
       "4  The Senator from Colorado, Michael Bennet, and...   \n",
       "5  Mr. Speaker, today I introduced legislation to...   \n",
       "\n",
       "                                      cleaned_tokens  \n",
       "0  [Speaker, today, I, have, introduced, the, Gua...  \n",
       "1  [Speaker, I, thank, my, colleague, Speaker, it...  \n",
       "3  [President, today, I, am, pleased, to, reintro...  \n",
       "4  [The, Senator, from, Colorado, Michael, Bennet...  \n",
       "5  [Speaker, today, I, introduced, legislation, t...  "
      ]
     },
     "execution_count": 33,
     "metadata": {},
     "output_type": "execute_result"
    }
   ],
   "source": [
    "# Show the result\n",
    "econ_inequ_df[['text', 'cleaned_tokens']].head()"
   ]
  },
  {
   "cell_type": "markdown",
   "metadata": {},
   "source": [
    "### Apply window query condition"
   ]
  },
  {
   "cell_type": "markdown",
   "metadata": {},
   "source": [
    "With tokenized text create matching boolean in df"
   ]
  },
  {
   "cell_type": "code",
   "execution_count": null,
   "metadata": {},
   "outputs": [],
   "source": [
    "# Function to check if pattern1 and pattern2 are within 5 words\n",
    "def check_patterns_in_window(tokens):\n",
    "    # Find positions of words matching pattern1 and pattern2\n",
    "    pattern1_positions = [i for i, token in enumerate(tokens) if re.match(pattern1, token, re.IGNORECASE)]\n",
    "    pattern2_positions = [i for i, token in enumerate(tokens) if re.match(pattern2, token, re.IGNORECASE)]\n",
    "    \n",
    "    # Check if any of the pattern1 words are within 5 words of any pattern2 word\n",
    "    for p1_pos in pattern1_positions:\n",
    "        for p2_pos in pattern2_positions:\n",
    "            if abs(p1_pos - p2_pos) <= 5:\n",
    "                return True  # Found a match within the window\n",
    "    return False  # No match found within the window"
   ]
  },
  {
   "cell_type": "code",
   "execution_count": null,
   "metadata": {},
   "outputs": [
    {
     "name": "stderr",
     "output_type": "stream",
     "text": [
      "100%|██████████| 39102/39102 [01:23<00:00, 467.39it/s]\n",
      "C:\\Users\\agust\\AppData\\Local\\Temp\\ipykernel_29856\\4151181999.py:1: SettingWithCopyWarning: \n",
      "A value is trying to be set on a copy of a slice from a DataFrame.\n",
      "Try using .loc[row_indexer,col_indexer] = value instead\n",
      "\n",
      "See the caveats in the documentation: https://pandas.pydata.org/pandas-docs/stable/user_guide/indexing.html#returning-a-view-versus-a-copy\n",
      "  econ_inequ_df['pattern_match_within_window'] = econ_inequ_df['cleaned_tokens'].progress_apply(check_patterns_in_window)\n"
     ]
    }
   ],
   "source": [
    "econ_inequ_df['pattern_match_within_window'] = econ_inequ_df['cleaned_tokens'].progress_apply(check_patterns_in_window)"
   ]
  },
  {
   "cell_type": "code",
   "execution_count": null,
   "metadata": {},
   "outputs": [
    {
     "data": {
      "text/plain": [
       "5270"
      ]
     },
     "execution_count": 36,
     "metadata": {},
     "output_type": "execute_result"
    }
   ],
   "source": [
    "econ_inequ_df[\"pattern_match_within_window\"].sum() #5333"
   ]
  },
  {
   "cell_type": "code",
   "execution_count": null,
   "metadata": {},
   "outputs": [
    {
     "name": "stdout",
     "output_type": "stream",
     "text": [
      "Ineq speeches: 63330\n",
      "Econ ineq speeches: 39102\n",
      "Econ ineq window speeches: 5270\n",
      "Econ ineq vs. ineq: 61.74 %\n",
      "\n",
      "Ineq vs. total speeches: 1.28 %\n",
      "\n",
      "Econ ineq vs. total speeches: 0.79 %\n",
      "Econ ineq window vs. total speeches: 0.11 %\n",
      "% difference: 0.684 %\n"
     ]
    }
   ],
   "source": [
    "print(\"Ineq speeches:\",ineq_speeches_n)\n",
    "print(\"Econ ineq speeches:\", econ_ineq_speeches_n)\n",
    "\n",
    "econ_inequ_window_speeches_n = econ_inequ_df[\"pattern_match_within_window\"].sum()\n",
    "print(\"Econ ineq window speeches:\", econ_inequ_window_speeches_n)\n",
    "\n",
    "print(\"Econ ineq vs. ineq:\", round(econ_ineq_speeches_n/ineq_speeches_n*100, 2),\"%\")\n",
    "print()\n",
    "\n",
    "print(\"Ineq vs. total speeches:\", round(ineq_speeches_percent, 2),\"%\")\n",
    "print()\n",
    "print(\"Econ ineq vs. total speeches:\", round(econ_ineq_speeches_percent, 2),\"%\")\n",
    "econ_ineq_window_speeches_percent = econ_inequ_window_speeches_n/total39_speeches*100\n",
    "print(\"Econ ineq window vs. total speeches:\", round(econ_ineq_window_speeches_percent, 2),\"%\")\n",
    "\n",
    "print(\"% difference:\", round(econ_ineq_speeches_percent - econ_ineq_window_speeches_percent, 3),\"%\")"
   ]
  },
  {
   "cell_type": "code",
   "execution_count": null,
   "metadata": {},
   "outputs": [],
   "source": [
    "econ_inequ_df.to_csv('python_objects/congress39_econ_ineq_2401.csv', index=False)"
   ]
  },
  {
   "cell_type": "markdown",
   "metadata": {},
   "source": [
    "## Analyze dataset"
   ]
  },
  {
   "cell_type": "code",
   "execution_count": null,
   "metadata": {},
   "outputs": [],
   "source": [
    "#Load econ ineq dataset\n",
    "econ_inequ_df = pd.read_csv('python_objects/congress39_econ_ineq_2401.csv')"
   ]
  },
  {
   "cell_type": "code",
   "execution_count": null,
   "metadata": {},
   "outputs": [],
   "source": [
    "mean_length = econ_inequ_df[\"cleaned_tokens\"].apply(len).mean()\n",
    "print(mean_length)"
   ]
  },
  {
   "cell_type": "markdown",
   "metadata": {},
   "source": [
    "### Read examples"
   ]
  },
  {
   "cell_type": "code",
   "execution_count": null,
   "metadata": {},
   "outputs": [
    {
     "name": "stdout",
     "output_type": "stream",
     "text": [
      "Index 130:\n",
      "...men. And Latinas earn a mere 44 cents. this persistent wage gap is a reflection of our economy, which is leaving too many w...\n",
      "Index 131:\n",
      "...d Equal Pay Day--a day that highlights the disparaging wage gap between women and men in the United States. Equal Pay Day m...\n",
      "...man makes for doing the exact same work. all told, the wage gap that latina women face results in a loss of over $25,000 a ...\n",
      "...men sustain their families. To make matters worse, the wage gaps that exist between latina women and their male counterpart...\n",
      "...p of approval on unequal paychecks across america. the wage gap latina women endure is a disgrace to this Nation. No woman ...\n",
      "Index 132:\n",
      "...cial workers constantly seek solutions that reduce economic inequality, racism, hunger, and all forms of discrimination. They...\n",
      "Index 133:\n",
      "...ies that increase integration, and address issues of income inequality and poverty that keep too many people and families tra...\n",
      "Index 134:\n",
      "... of other things that are going on that are creating income inequality. this will exacerbate income inequality. This amendmen...\n",
      "...ality. This will exacerbate income inequality. this amendment should be defeated. Mr. Chairman, I yi...\n",
      "Index 135:\n",
      "...k children are born into poverty. this cycle of poverty and inequality continues in our school system where Black students ac...\n",
      "...f mass incarceration or premature death. and this crisis of inequality extends to the structures of the community and have pe...\n",
      "...e country. We have the Whip's task force on poverty, income inequality, and opportunity, which I am proud to chair with our w...\n",
      "Index 136:\n",
      "... part, on where people live and how they move around. a big gap still separates high income countries from low and middle i...\n",
      "Index 137:\n",
      "...e in this economy. If you want to do something about income inequality, you must say ``no'' to this bill. Join the National A...\n",
      "Index 138:\n",
      "...ps, that we are not doing enough. why do you think a wealth gap exists? it exists because these fraudulent schemes are supp...\n",
      "Index 139:\n",
      "...ommunities the impact of economic challenges and persistent inequities facing african american communities across the country...\n"
     ]
    }
   ],
   "source": [
    "# Sample data\n",
    "window_texts = econ_inequ_df[econ_inequ_df[\"pattern_match_within_window\"] == True]['text']\n",
    "econ_texts = econ_inequ_df['text']\n",
    "\n",
    "for i in range(130,140):\n",
    "    text = window_texts.iloc[i]\n",
    "    print(f\"Index {i}:\")\n",
    "\n",
    "    # Search for \"inequ\" or \"gap\" and get the surrounding context (30 characters before and after)\n",
    "    matches = re.finditer(r'.{0,30}(inequ|gap).{0,30}', text.lower())  # .{0,30} matches up to 30 chars before and after\n",
    "\n",
    "    for match in matches:\n",
    "        start, end = match.span()  # Get start and end of the match\n",
    "        # Show 30 chars before and after, ensuring the bounds don't go out of range\n",
    "        context_before = text[max(0, start - 30):start]\n",
    "        context_after = text[end:end + 30]\n",
    "        print(f\"...{context_before}{match.group(0)}{context_after}...\")\n"
   ]
  },
  {
   "cell_type": "markdown",
   "metadata": {},
   "source": [
    "#### Get a few random spechees from all years"
   ]
  },
  {
   "cell_type": "code",
   "execution_count": null,
   "metadata": {},
   "outputs": [],
   "source": [
    "random_speeches_df = econ_inequ_df[econ_inequ_df[\"pattern_match_within_window\"] == True].groupby('year', group_keys=False).apply(lambda x: x.sample(min(len(x), 5)))"
   ]
  },
  {
   "cell_type": "code",
   "execution_count": null,
   "metadata": {},
   "outputs": [
    {
     "name": "stdout",
     "output_type": "stream",
     "text": [
      "Index 0:\n",
      "...amber to legislate away the domestic. economic. or military inequalities of other nations of the world. It is not up to us to...\n",
      "...t we do that we are unneutral by trying to equalize natural inequalities. we favor the largenavy nations in time of peace as ...\n",
      "Index 1:\n",
      "...important modifications of our incometax statute. there are inequalities which amount in some instances to discriminations. I...\n",
      "Index 2:\n",
      "...serious and most disturbing situation. in the face of these inequitable and unfair and arbitrary allotments which penalize th...\n",
      "... not only is the administration sugarcontrol policy unjust. inequitable. unfair. but it is economically and nationally suicid...\n",
      "Index 3:\n",
      "...ived for 1940. a terrible situation. instead of getting our gap between income and outgo closer together it is getting fart...\n",
      "Index 4:\n",
      "...nd are not required to pay a Federal income tax. it is this inequality that title i proposes to correct. It is an inequality ...\n",
      "...ality that title I proposes to correct. it is an inequality because every other citizen of States where a State in...\n",
      "...ised against any legislation that is designed to correct an inequity. certainly the inequity is present today. and this legis...\n",
      "Index 5:\n",
      "...ts. The Labor Committee reported a bill to take care of the inequalities in the wage and hour law more than a year ago. and y...\n",
      "Index 6:\n",
      "...ad to most serious consequences. already we have a distinct gap between the wealth produced on the one hand. and the capaci...\n",
      "Index 7:\n",
      "...ntry that there be legislation that will affect some of the inequalities and injustices of the wage and hour lawinequalities ...\n",
      "...alities and injustices of the wage and hour lawinequalities and injustices which mine. Perkins. testifying befor...\n",
      ".... Perkins. testifying before our committee. admitted exist. inequalities and injustices which colonel Fleming admitted existi...\n",
      "Index 8:\n",
      "...ore than a matter of simple justice in view of the economic inequalities between the position in which the laborer finds hims...\n",
      "Index 9:\n",
      "... plant with a lot of troops in front of it. the caption is: gap between income and living costs grows. Labor and farmers st...\n"
     ]
    }
   ],
   "source": [
    "# Loop through first 10 rows\n",
    "for i in range(0,10):\n",
    "    text = random_speeches_df['text'].iloc[i]\n",
    "    print(f\"Index {i}:\")\n",
    "\n",
    "    # Search for \"inequ\" or \"gap\" and get the surrounding context (30 characters before and after)\n",
    "    matches = re.finditer(r'.{0,30}(inequ|gap).{0,30}', text.lower())  # .{0,30} matches up to 30 chars before and after\n",
    "\n",
    "    for match in matches:\n",
    "        start, end = match.span()  # Get start and end of the match\n",
    "        # Show 30 chars before and after, ensuring the bounds don't go out of range\n",
    "        context_before = text[max(0, start - 30):start]\n",
    "        context_after = text[end:end + 30]\n",
    "        print(f\"...{context_before}{match.group(0)}{context_after}...\")"
   ]
  },
  {
   "cell_type": "code",
   "execution_count": null,
   "metadata": {},
   "outputs": [],
   "source": [
    "reduced_columns = [\"speech_id\", \"text\", \"speaker\", \"party\", \"chamber\", \"year\"]\n",
    "random_speeches_df = random_speeches_df[reduced_columns].sort_values(by='year')"
   ]
  },
  {
   "cell_type": "markdown",
   "metadata": {},
   "source": [
    "#### Graph frequency"
   ]
  },
  {
   "cell_type": "code",
   "execution_count": null,
   "metadata": {},
   "outputs": [],
   "source": [
    "#Graph from 1939\n",
    "\n",
    "#ineq (pattern1 matches)\n",
    "#cases_per_year1 = inequality_df.groupby('year', group_keys=False).size()\n",
    "\n",
    "#econ ineq (pattern1 and 2 matches)\n",
    "#cases_per_year2 = econ_inequ_df.groupby('year', group_keys=False).size()\n",
    "\n",
    "#econ ineq + window\n",
    "cases_per_year3 = econ_inequ_df[econ_inequ_df[\"pattern_match_within_window\"] == True].groupby('year', group_keys=False).size()\n",
    "\n",
    "#total_speeches_per_year object created above\n",
    "#proportion_per_year1 = cases_per_year1 / total_speeches_per_year\n",
    "#proportion_per_year2 = cases_per_year2 / total_speeches_per_year\n",
    "proportion_per_year3 = cases_per_year3 / total_speeches_per_year"
   ]
  },
  {
   "cell_type": "code",
   "execution_count": null,
   "metadata": {},
   "outputs": [
    {
     "data": {
      "image/png": "[encoded data removed]",
      "text/plain": [
       "<Figure size 1000x600 with 1 Axes>"
      ]
     },
     "metadata": {},
     "output_type": "display_data"
    }
   ],
   "source": [
    "# Step 2: Plot the results as a line graph\n",
    "plt.figure(figsize=(10, 6))\n",
    "plt.plot(proportion_per_year3.index, proportion_per_year3.values, marker='o', linestyle='-', color='b')\n",
    "plt.title('Proportion of Cases per Year')\n",
    "plt.xlabel('Year')\n",
    "plt.ylabel('Proportion of Cases')\n",
    "plt.grid(True)\n",
    "plt.show()"
   ]
  },
  {
   "cell_type": "markdown",
   "metadata": {},
   "source": [
    "Changes in df for merging"
   ]
  },
  {
   "cell_type": "code",
   "execution_count": null,
   "metadata": {},
   "outputs": [],
   "source": [
    "econ_inequ_df = pd.read_csv('python_objects/congress39_econ_ineq_2401.csv')\n",
    "#econ_inequ_df = pd.read_csv('python_objects/congress39_econ_ineq_0212_nyt_query.csv')\n",
    "#econ_inequ_df = pd.read_csv('python_objects/congress39_econ_ineq_2911_new_query.csv')"
   ]
  },
  {
   "cell_type": "code",
   "execution_count": null,
   "metadata": {},
   "outputs": [
    {
     "name": "stdout",
     "output_type": "stream",
     "text": [
      "Congress as nyt query: 3777\n"
     ]
    }
   ],
   "source": [
    "#Subset nyt query cases\n",
    "\n",
    "speeches80_econ_inequ_window = econ_inequ_df[(econ_inequ_df[\"pattern_match_within_window\"] == True) \n",
    "                                             & (econ_inequ_df[\"year\"] > 1979)].reset_index(drop=True)\n",
    "\n",
    "print(\"Congress as nyt query:\", len(speeches80_econ_inequ_window))\n",
    "\n",
    "#nyt query, 3777"
   ]
  },
  {
   "cell_type": "code",
   "execution_count": null,
   "metadata": {},
   "outputs": [
    {
     "data": {
      "text/plain": [
       "Democrat       68.662252\n",
       "Republican     31.178808\n",
       "Independent     0.158940\n",
       "Name: party, dtype: float64"
      ]
     },
     "execution_count": 26,
     "metadata": {},
     "output_type": "execute_result"
    }
   ],
   "source": [
    "speeches80_econ_inequ_window[\"party\"].value_counts(normalize=True) * 100"
   ]
  },
  {
   "cell_type": "code",
   "execution_count": null,
   "metadata": {},
   "outputs": [
    {
     "data": {
      "text/plain": [
       "9798.807254434736"
      ]
     },
     "execution_count": 28,
     "metadata": {},
     "output_type": "execute_result"
    }
   ],
   "source": [
    "speeches80_econ_inequ_window[\"cleaned_tokens\"].apply(len).mean()"
   ]
  },
  {
   "cell_type": "code",
   "execution_count": null,
   "metadata": {},
   "outputs": [],
   "source": [
    "# Convert the column to datetime format\n",
    "speeches80_econ_inequ_window[\"date\"] = pd.to_datetime(speeches80_econ_inequ_window[\"date\"], format=\"%Y-%m-%d\")\n",
    "\n",
    "# Format the column to DD-MM-YYYY\n",
    "#speeches80_econ_inequ_window[\"date\"] = speeches80_econ_inequ_window[\"date\"].dt.strftime(\"%d-%m-%Y\")"
   ]
  },
  {
   "cell_type": "code",
   "execution_count": null,
   "metadata": {},
   "outputs": [],
   "source": [
    "#Columns required\n",
    "\n",
    "# \"speech_id\": \"id_\" \n",
    "# text \n",
    "# party \n",
    "# \"speaker\": \"author\" \n",
    "# \"date\": \"date_d-m-Y\" \n",
    "# year"
   ]
  },
  {
   "cell_type": "code",
   "execution_count": null,
   "metadata": {},
   "outputs": [],
   "source": [
    "congress80_merge = speeches80_econ_inequ_window[[\"speech_id\", \"text\", \n",
    "                                                 \"party\", \"speaker\", \n",
    "                                                 \"date\", \"year\"]]"
   ]
  },
  {
   "cell_type": "code",
   "execution_count": null,
   "metadata": {},
   "outputs": [],
   "source": [
    "congress80_merge.rename(columns={\"speech_id\": \"id_\", \n",
    "                                \"speaker\": \"author\",\n",
    "                                \"date\": \"date_d-m-Y\"}, inplace=True)"
   ]
  },
  {
   "cell_type": "code",
   "execution_count": null,
   "metadata": {},
   "outputs": [
    {
     "name": "stderr",
     "output_type": "stream",
     "text": [
      "C:\\Users\\agust\\AppData\\Local\\Temp\\ipykernel_29856\\1555935699.py:3: SettingWithCopyWarning: \n",
      "A value is trying to be set on a copy of a slice from a DataFrame.\n",
      "Try using .loc[row_indexer,col_indexer] = value instead\n",
      "\n",
      "See the caveats in the documentation: https://pandas.pydata.org/pandas-docs/stable/user_guide/indexing.html#returning-a-view-versus-a-copy\n",
      "  congress80_merge[\"dataset\"] = \"Congress\"\n",
      "C:\\Users\\agust\\AppData\\Local\\Temp\\ipykernel_29856\\1555935699.py:4: SettingWithCopyWarning: \n",
      "A value is trying to be set on a copy of a slice from a DataFrame.\n",
      "Try using .loc[row_indexer,col_indexer] = value instead\n",
      "\n",
      "See the caveats in the documentation: https://pandas.pydata.org/pandas-docs/stable/user_guide/indexing.html#returning-a-view-versus-a-copy\n",
      "  congress80_merge[\"source\"] = congress80_merge[\"party\"]\n"
     ]
    }
   ],
   "source": [
    "#Columns for merging: dataset, source\n",
    "\n",
    "congress80_merge[\"dataset\"] = \"Congress\"\n",
    "congress80_merge[\"source\"] = congress80_merge[\"party\"]"
   ]
  },
  {
   "cell_type": "code",
   "execution_count": null,
   "metadata": {},
   "outputs": [
    {
     "data": {
      "text/plain": [
       "Index(['id_', 'text', 'party', 'author', 'date_d-m-Y', 'year', 'dataset',\n",
       "       'source'],\n",
       "      dtype='object')"
      ]
     },
     "execution_count": 79,
     "metadata": {},
     "output_type": "execute_result"
    }
   ],
   "source": [
    "congress80_merge.columns"
   ]
  },
  {
   "cell_type": "code",
   "execution_count": null,
   "metadata": {},
   "outputs": [
    {
     "data": {
      "text/html": [
       "<div>\n",
       "<style scoped>\n",
       "    .dataframe tbody tr th:only-of-type {\n",
       "        vertical-align: middle;\n",
       "    }\n",
       "\n",
       "    .dataframe tbody tr th {\n",
       "        vertical-align: top;\n",
       "    }\n",
       "\n",
       "    .dataframe thead th {\n",
       "        text-align: right;\n",
       "    }\n",
       "</style>\n",
       "<table border=\"1\" class=\"dataframe\">\n",
       "  <thead>\n",
       "    <tr style=\"text-align: right;\">\n",
       "      <th></th>\n",
       "      <th>id_</th>\n",
       "      <th>text</th>\n",
       "      <th>party</th>\n",
       "      <th>author</th>\n",
       "      <th>date_d-m-Y</th>\n",
       "      <th>year</th>\n",
       "      <th>dataset</th>\n",
       "      <th>source</th>\n",
       "    </tr>\n",
       "  </thead>\n",
       "  <tbody>\n",
       "    <tr>\n",
       "      <th>0</th>\n",
       "      <td>CREC-2015-01-06-pt1-PgH7-4-51</td>\n",
       "      <td>Mr. Speaker, I thank my colleague. Mr. Speaker...</td>\n",
       "      <td>Democrat</td>\n",
       "      <td>Mr. VAN HOLLEN</td>\n",
       "      <td>2015-01-06</td>\n",
       "      <td>2015</td>\n",
       "      <td>Congress</td>\n",
       "      <td>Democrat</td>\n",
       "    </tr>\n",
       "    <tr>\n",
       "      <th>1</th>\n",
       "      <td>CREC-2015-01-08-pt1-PgH115-2-30</td>\n",
       "      <td>I thank the gentleman from California and the ...</td>\n",
       "      <td>Democrat</td>\n",
       "      <td>Ms. JACKSON LEE</td>\n",
       "      <td>2015-01-08</td>\n",
       "      <td>2015</td>\n",
       "      <td>Congress</td>\n",
       "      <td>Democrat</td>\n",
       "    </tr>\n",
       "    <tr>\n",
       "      <th>2</th>\n",
       "      <td>CREC-2015-01-12-pt1-PgS136-3-16</td>\n",
       "      <td>Madam President, I rise today in opposition to...</td>\n",
       "      <td>Democrat</td>\n",
       "      <td>Mr. SCHATZ</td>\n",
       "      <td>2015-01-12</td>\n",
       "      <td>2015</td>\n",
       "      <td>Congress</td>\n",
       "      <td>Democrat</td>\n",
       "    </tr>\n",
       "    <tr>\n",
       "      <th>3</th>\n",
       "      <td>CREC-2015-01-13-pt1-PgH230-1</td>\n",
       "      <td>Mr. Speaker, last week I spoke about Puerto Ri...</td>\n",
       "      <td>Democrat</td>\n",
       "      <td>Mr. PIERLUISI</td>\n",
       "      <td>2015-01-13</td>\n",
       "      <td>2015</td>\n",
       "      <td>Congress</td>\n",
       "      <td>Democrat</td>\n",
       "    </tr>\n",
       "    <tr>\n",
       "      <th>4</th>\n",
       "      <td>CREC-2015-01-21-pt1-PgH443-5-12</td>\n",
       "      <td>I want to thank my colleague for his great wor...</td>\n",
       "      <td>Democrat</td>\n",
       "      <td>Ms. SLAUGHTER</td>\n",
       "      <td>2015-01-21</td>\n",
       "      <td>2015</td>\n",
       "      <td>Congress</td>\n",
       "      <td>Democrat</td>\n",
       "    </tr>\n",
       "  </tbody>\n",
       "</table>\n",
       "</div>"
      ],
      "text/plain": [
       "                               id_  \\\n",
       "0    CREC-2015-01-06-pt1-PgH7-4-51   \n",
       "1  CREC-2015-01-08-pt1-PgH115-2-30   \n",
       "2  CREC-2015-01-12-pt1-PgS136-3-16   \n",
       "3     CREC-2015-01-13-pt1-PgH230-1   \n",
       "4  CREC-2015-01-21-pt1-PgH443-5-12   \n",
       "\n",
       "                                                text     party  \\\n",
       "0  Mr. Speaker, I thank my colleague. Mr. Speaker...  Democrat   \n",
       "1  I thank the gentleman from California and the ...  Democrat   \n",
       "2  Madam President, I rise today in opposition to...  Democrat   \n",
       "3  Mr. Speaker, last week I spoke about Puerto Ri...  Democrat   \n",
       "4  I want to thank my colleague for his great wor...  Democrat   \n",
       "\n",
       "            author date_d-m-Y  year   dataset    source  \n",
       "0   Mr. VAN HOLLEN 2015-01-06  2015  Congress  Democrat  \n",
       "1  Ms. JACKSON LEE 2015-01-08  2015  Congress  Democrat  \n",
       "2       Mr. SCHATZ 2015-01-12  2015  Congress  Democrat  \n",
       "3    Mr. PIERLUISI 2015-01-13  2015  Congress  Democrat  \n",
       "4    Ms. SLAUGHTER 2015-01-21  2015  Congress  Democrat  "
      ]
     },
     "execution_count": 80,
     "metadata": {},
     "output_type": "execute_result"
    }
   ],
   "source": [
    "congress80_merge.head()"
   ]
  },
  {
   "cell_type": "code",
   "execution_count": null,
   "metadata": {},
   "outputs": [],
   "source": [
    "congress80_merge.to_csv('congress80_merge.csv', index=False)"
   ]
  }
 ],
 "metadata": {
  "kernelspec": {
   "display_name": "base",
   "language": "python",
   "name": "python3"
  },
  "language_info": {
   "codemirror_mode": {
    "name": "ipython",
    "version": 3
   },
   "file_extension": ".py",
   "mimetype": "text/x-python",
   "name": "python",
   "nbconvert_exporter": "python",
   "pygments_lexer": "ipython3",
   "version": "3.9.13"
  }
 },
 "nbformat": 4,
 "nbformat_minor": 2
}
