{
 "cells": [
  {
   "cell_type": "code",
   "execution_count": 23,
   "metadata": {},
   "outputs": [],
   "source": [
    "import pandas as pd\n",
    "import numpy as np\n",
    "import random\n",
    "import json"
   ]
  },
  {
   "cell_type": "code",
   "execution_count": null,
   "metadata": {},
   "outputs": [],
   "source": [
    "topics = pd.read_csv(\"../../../3_stm_fit_R/intrusion_words.csv\")"
   ]
  },
  {
   "cell_type": "code",
   "execution_count": 25,
   "metadata": {},
   "outputs": [
    {
     "data": {
      "text/html": [
       "<div>\n",
       "<style scoped>\n",
       "    .dataframe tbody tr th:only-of-type {\n",
       "        vertical-align: middle;\n",
       "    }\n",
       "\n",
       "    .dataframe tbody tr th {\n",
       "        vertical-align: top;\n",
       "    }\n",
       "\n",
       "    .dataframe thead th {\n",
       "        text-align: right;\n",
       "    }\n",
       "</style>\n",
       "<table border=\"1\" class=\"dataframe\">\n",
       "  <thead>\n",
       "    <tr style=\"text-align: right;\">\n",
       "      <th></th>\n",
       "      <th>V1</th>\n",
       "      <th>V2</th>\n",
       "      <th>V3</th>\n",
       "      <th>V4</th>\n",
       "      <th>V5</th>\n",
       "      <th>V6</th>\n",
       "      <th>V7</th>\n",
       "    </tr>\n",
       "  </thead>\n",
       "  <tbody>\n",
       "    <tr>\n",
       "      <th>0</th>\n",
       "      <td>headline</td>\n",
       "      <td>dan</td>\n",
       "      <td>edit</td>\n",
       "      <td>column</td>\n",
       "      <td>read</td>\n",
       "      <td>sunday</td>\n",
       "      <td>david</td>\n",
       "    </tr>\n",
       "    <tr>\n",
       "      <th>1</th>\n",
       "      <td>original</td>\n",
       "      <td>june</td>\n",
       "      <td>date</td>\n",
       "      <td>space</td>\n",
       "      <td>new</td>\n",
       "      <td>NaN</td>\n",
       "      <td>NaN</td>\n",
       "    </tr>\n",
       "  </tbody>\n",
       "</table>\n",
       "</div>"
      ],
      "text/plain": [
       "         V1    V2    V3      V4    V5      V6     V7\n",
       "0  headline   dan  edit  column  read  sunday  david\n",
       "1  original  june  date   space   new     NaN    NaN"
      ]
     },
     "execution_count": 25,
     "metadata": {},
     "output_type": "execute_result"
    }
   ],
   "source": [
    "topics.head(2)"
   ]
  },
  {
   "cell_type": "code",
   "execution_count": 26,
   "metadata": {},
   "outputs": [],
   "source": [
    "topic_exclusions = {\n",
    "        \"gender\": [3, 35, 43, 51],\n",
    "        \"race\": [24, 31],\n",
    "        \"debt_housing\": [14, 41, 61],\n",
    "        \"public_employment\": [9, 30],\n",
    "        \"health_insurance_&disparities\": [8, 16, 49],\n",
    "        \"militar_conflicts\": [15, 44, 53, 59]\n",
    "    }"
   ]
  },
  {
   "cell_type": "code",
   "execution_count": 27,
   "metadata": {},
   "outputs": [],
   "source": [
    "def process_topics(topics_df, exclude_topics=None):\n",
    "    # Add topic numbers starting from 1\n",
    "    topics_df = topics_df.copy()\n",
    "    topics_df[\"topic_n\"] = range(1, len(topics_df) + 1)\n",
    "\n",
    "    # Exclude specified topics\n",
    "    if exclude_topics:\n",
    "        topics_df = topics_df[~topics_df[\"topic_n\"].isin(exclude_topics)]\n",
    "\n",
    "    # Create a new column with a list of words from the first 5 columns\n",
    "    topics_df[\"topic_wlist\"] = topics_df.iloc[:, :5].apply(lambda row: list(row), axis=1)\n",
    "\n",
    "    # Get a set of all words in the dataset\n",
    "    all_words = set(topics_df.iloc[:, :5].values.flatten())\n",
    "\n",
    "    # Function to add an intruder word and its position\n",
    "    def add_intruder(row, all_words):\n",
    "        topic_num = row[\"topic_n\"]\n",
    "\n",
    "        # Find words to exclude based on the topic's category\n",
    "        exclude_words = set()\n",
    "        for category, topics in topic_exclusions.items():\n",
    "            if topic_num in topics:\n",
    "                exclude_words.update(topics_df.loc[topics_df[\"topic_n\"].isin(topics), \"topic_wlist\"].explode().tolist())\n",
    "                print(category, exclude_words)\n",
    "\n",
    "        # Ensure the intruder word is from a different topic and not in the exclusion list\n",
    "        possible_intruders = list(all_words - set(row[\"topic_wlist\"]) - exclude_words)\n",
    "        print(\"possible_intruders: \", len(possible_intruders))\n",
    "\n",
    "        intruder_word = random.choice(possible_intruders)\n",
    "\n",
    "        # Add the intruder and shuffle\n",
    "        intrusion_task = row[\"topic_wlist\"] + [intruder_word]\n",
    "        random.shuffle(intrusion_task)\n",
    "\n",
    "        # Find the position of the intruder word (1-based index)\n",
    "        intruder_pos = intrusion_task.index(intruder_word) + 1\n",
    "        return intruder_word, intrusion_task, intruder_pos\n",
    "\n",
    "    # Apply the function and unpack results into three new columns\n",
    "    topics_df[[\"intruder_word\", \"intrusion_task\", \"intruder_pos\"]] = topics_df.apply(\n",
    "        lambda row: pd.Series(add_intruder(row, all_words)), axis=1\n",
    "    )\n",
    "\n",
    "    return topics_df\n"
   ]
  },
  {
   "cell_type": "code",
   "execution_count": 28,
   "metadata": {},
   "outputs": [
    {
     "name": "stdout",
     "output_type": "stream",
     "text": [
      "gender {'rape', 'equal', 'ledbetter', 'occupational', 'amendment', 'breadwinner', 'ratify', 'occupation', 'pregnant', 'mom', 'workplace', 'constitutional', 'comparable', 'constitution', 'breast', 'profession', 'differential', 'equality', 'pregnancy', 'discrimination'}\n",
      "possible_intruders:  217\n",
      "possible_intruders:  232\n",
      "possible_intruders:  232\n",
      "possible_intruders:  232\n",
      "health_insurance_&disparities {'affordable', 'physician', 'medicare', 'patient', 'medication', 'deductible', 'care', 'uninsured', 'hospital', 'drug', 'health', 'obamacare', 'reimbursement', 'prescription', 'provider'}\n",
      "possible_intruders:  222\n",
      "public_employment {'compensation', 'readiness', 'morale', 'employee', 'services', 'civilian', 'pentagon', 'personnel', 'employees', 'overtime'}\n",
      "possible_intruders:  227\n",
      "possible_intruders:  232\n",
      "possible_intruders:  232\n",
      "possible_intruders:  232\n",
      "debt_housing {'lending', 'locality', 'tenant', 'loan', 'borrower', 'foreclosure', 'rental', 'funding', 'assistance', 'nonprofit', 'homeowner', 'renter', 'residential', 'lender', 'voucher'}\n",
      "possible_intruders:  222\n",
      "militar_conflicts {'north', 'communism', 'jews', 'detain', 'germany', 'underground', 'israel', 'diplomatic', 'south', 'korean', 'greece', 'israeli', 'missile', 'assassination', 'ireland', 'poland', 'korea', 'treaty', 'greek', 'soviet'}\n",
      "possible_intruders:  217\n",
      "health_insurance_&disparities {'affordable', 'physician', 'medicare', 'patient', 'medication', 'deductible', 'care', 'uninsured', 'hospital', 'drug', 'health', 'obamacare', 'reimbursement', 'prescription', 'provider'}\n",
      "possible_intruders:  222\n",
      "possible_intruders:  232\n",
      "possible_intruders:  232\n",
      "possible_intruders:  232\n",
      "possible_intruders:  232\n",
      "possible_intruders:  232\n",
      "race {'racist', 'commemorate', 'apartheid', 'africa', 'luther', 'beloved', 'racism', 'hatred', 'crow', 'king'}\n",
      "possible_intruders:  227\n",
      "possible_intruders:  232\n",
      "possible_intruders:  232\n",
      "possible_intruders:  232\n",
      "possible_intruders:  232\n",
      "possible_intruders:  232\n",
      "public_employment {'compensation', 'readiness', 'morale', 'employee', 'services', 'civilian', 'pentagon', 'personnel', 'employees', 'overtime'}\n",
      "possible_intruders:  227\n",
      "race {'racist', 'commemorate', 'apartheid', 'africa', 'luther', 'beloved', 'racism', 'hatred', 'crow', 'king'}\n",
      "possible_intruders:  227\n",
      "possible_intruders:  232\n",
      "gender {'rape', 'equal', 'ledbetter', 'occupational', 'amendment', 'breadwinner', 'ratify', 'occupation', 'pregnant', 'mom', 'workplace', 'constitutional', 'comparable', 'constitution', 'breast', 'profession', 'differential', 'equality', 'pregnancy', 'discrimination'}\n",
      "possible_intruders:  217\n",
      "possible_intruders:  232\n",
      "possible_intruders:  232\n",
      "debt_housing {'lending', 'locality', 'tenant', 'loan', 'borrower', 'foreclosure', 'rental', 'funding', 'assistance', 'nonprofit', 'homeowner', 'renter', 'residential', 'lender', 'voucher'}\n",
      "possible_intruders:  222\n",
      "possible_intruders:  232\n",
      "gender {'rape', 'equal', 'ledbetter', 'occupational', 'amendment', 'breadwinner', 'ratify', 'occupation', 'pregnant', 'mom', 'workplace', 'constitutional', 'comparable', 'constitution', 'breast', 'profession', 'differential', 'equality', 'pregnancy', 'discrimination'}\n",
      "possible_intruders:  217\n",
      "militar_conflicts {'north', 'communism', 'jews', 'detain', 'germany', 'underground', 'israel', 'diplomatic', 'south', 'korean', 'greece', 'israeli', 'missile', 'assassination', 'ireland', 'poland', 'korea', 'treaty', 'greek', 'soviet'}\n",
      "possible_intruders:  217\n",
      "possible_intruders:  232\n",
      "possible_intruders:  232\n",
      "health_insurance_&disparities {'affordable', 'physician', 'medicare', 'patient', 'medication', 'deductible', 'care', 'uninsured', 'hospital', 'drug', 'health', 'obamacare', 'reimbursement', 'prescription', 'provider'}\n",
      "possible_intruders:  222\n",
      "gender {'rape', 'equal', 'ledbetter', 'occupational', 'amendment', 'breadwinner', 'ratify', 'occupation', 'pregnant', 'mom', 'workplace', 'constitutional', 'comparable', 'constitution', 'breast', 'profession', 'differential', 'equality', 'pregnancy', 'discrimination'}\n",
      "possible_intruders:  217\n",
      "possible_intruders:  232\n",
      "militar_conflicts {'north', 'communism', 'jews', 'detain', 'germany', 'underground', 'israel', 'diplomatic', 'south', 'korean', 'greece', 'israeli', 'missile', 'assassination', 'ireland', 'poland', 'korea', 'treaty', 'greek', 'soviet'}\n",
      "possible_intruders:  217\n",
      "possible_intruders:  232\n",
      "possible_intruders:  232\n",
      "militar_conflicts {'north', 'communism', 'jews', 'detain', 'germany', 'underground', 'israel', 'diplomatic', 'south', 'korean', 'greece', 'israeli', 'missile', 'assassination', 'ireland', 'poland', 'korea', 'treaty', 'greek', 'soviet'}\n",
      "possible_intruders:  217\n",
      "possible_intruders:  232\n",
      "debt_housing {'lending', 'locality', 'tenant', 'loan', 'borrower', 'foreclosure', 'rental', 'funding', 'assistance', 'nonprofit', 'homeowner', 'renter', 'residential', 'lender', 'voucher'}\n",
      "possible_intruders:  222\n",
      "possible_intruders:  232\n",
      "possible_intruders:  232\n",
      "possible_intruders:  232\n",
      "possible_intruders:  232\n",
      "possible_intruders:  232\n"
     ]
    }
   ],
   "source": [
    "boilerplate =  [1, 2, 5, 11, 21, 23, 32, 33, 36, 39, 40, 46, 48, 50, 55, 57, 58, 64, 66, 67, 69]\n",
    "stm_intrusion_task = process_topics(topics, exclude_topics = boilerplate)"
   ]
  },
  {
   "cell_type": "code",
   "execution_count": 29,
   "metadata": {},
   "outputs": [
    {
     "data": {
      "text/html": [
       "<div>\n",
       "<style scoped>\n",
       "    .dataframe tbody tr th:only-of-type {\n",
       "        vertical-align: middle;\n",
       "    }\n",
       "\n",
       "    .dataframe tbody tr th {\n",
       "        vertical-align: top;\n",
       "    }\n",
       "\n",
       "    .dataframe thead th {\n",
       "        text-align: right;\n",
       "    }\n",
       "</style>\n",
       "<table border=\"1\" class=\"dataframe\">\n",
       "  <thead>\n",
       "    <tr style=\"text-align: right;\">\n",
       "      <th></th>\n",
       "      <th>V1</th>\n",
       "      <th>V2</th>\n",
       "      <th>V3</th>\n",
       "      <th>V4</th>\n",
       "      <th>V5</th>\n",
       "      <th>V6</th>\n",
       "      <th>V7</th>\n",
       "      <th>topic_n</th>\n",
       "      <th>topic_wlist</th>\n",
       "      <th>intruder_word</th>\n",
       "      <th>intrusion_task</th>\n",
       "      <th>intruder_pos</th>\n",
       "    </tr>\n",
       "  </thead>\n",
       "  <tbody>\n",
       "    <tr>\n",
       "      <th>2</th>\n",
       "      <td>ledbetter</td>\n",
       "      <td>breadwinner</td>\n",
       "      <td>discrimination</td>\n",
       "      <td>workplace</td>\n",
       "      <td>equal</td>\n",
       "      <td>gender</td>\n",
       "      <td>discriminatory</td>\n",
       "      <td>3</td>\n",
       "      <td>[ledbetter, breadwinner, discrimination, workp...</td>\n",
       "      <td>trade</td>\n",
       "      <td>[discrimination, breadwinner, equal, trade, wo...</td>\n",
       "      <td>4</td>\n",
       "    </tr>\n",
       "    <tr>\n",
       "      <th>3</th>\n",
       "      <td>communism</td>\n",
       "      <td>faction</td>\n",
       "      <td>liberty</td>\n",
       "      <td>authoritarian</td>\n",
       "      <td>revolution</td>\n",
       "      <td>welfare</td>\n",
       "      <td>centrist</td>\n",
       "      <td>4</td>\n",
       "      <td>[communism, faction, liberty, authoritarian, r...</td>\n",
       "      <td>ward</td>\n",
       "      <td>[communism, ward, liberty, authoritarian, revo...</td>\n",
       "      <td>2</td>\n",
       "    </tr>\n",
       "  </tbody>\n",
       "</table>\n",
       "</div>"
      ],
      "text/plain": [
       "          V1           V2              V3             V4          V5       V6  \\\n",
       "2  ledbetter  breadwinner  discrimination      workplace       equal   gender   \n",
       "3  communism      faction         liberty  authoritarian  revolution  welfare   \n",
       "\n",
       "               V7  topic_n                                        topic_wlist  \\\n",
       "2  discriminatory        3  [ledbetter, breadwinner, discrimination, workp...   \n",
       "3        centrist        4  [communism, faction, liberty, authoritarian, r...   \n",
       "\n",
       "  intruder_word                                     intrusion_task  \\\n",
       "2         trade  [discrimination, breadwinner, equal, trade, wo...   \n",
       "3          ward  [communism, ward, liberty, authoritarian, revo...   \n",
       "\n",
       "   intruder_pos  \n",
       "2             4  \n",
       "3             2  "
      ]
     },
     "execution_count": 29,
     "metadata": {},
     "output_type": "execute_result"
    }
   ],
   "source": [
    "stm_intrusion_task.head(2)"
   ]
  },
  {
   "cell_type": "code",
   "execution_count": 30,
   "metadata": {},
   "outputs": [
    {
     "name": "stdout",
     "output_type": "stream",
     "text": [
      "['policing', 'peaceful', 'detain', 'greece', 'patrol', 'police']\n",
      "greece\n"
     ]
    }
   ],
   "source": [
    "n = 6\n",
    "print(stm_intrusion_task[\"intrusion_task\"][n])\n",
    "print(stm_intrusion_task[\"intruder_word\"][n])"
   ]
  },
  {
   "cell_type": "code",
   "execution_count": 31,
   "metadata": {},
   "outputs": [],
   "source": [
    "#save processed_df as pandas df\n",
    "stm_intrusion_task.to_csv('stm_intrusion_task.csv')  "
   ]
  },
  {
   "cell_type": "markdown",
   "metadata": {},
   "source": [
    "#### Dynamic-lables .json"
   ]
  },
  {
   "cell_type": "code",
   "execution_count": 32,
   "metadata": {},
   "outputs": [],
   "source": [
    "def create_json_from_df(topics_df, filename=\"stm_intrusion_items.jsonl\"):\n",
    "    # Ensure the necessary columns exist\n",
    "    if \"topic_n\" not in topics_df or \"intrusion_task\" not in topics_df:\n",
    "        raise ValueError(\"DataFrame must contain 'topic_n' and 'intrusion_task' columns\")\n",
    "\n",
    "    # Open the file in write mode\n",
    "    with open(filename, 'w') as f:\n",
    "        for _, row in topics_df.iterrows():\n",
    "            data = {\n",
    "                \"id\": str(row[\"topic_n\"]),\n",
    "                \"text\": \" - \".join(row[\"intrusion_task\"]),\n",
    "                \"labels\": row[\"intrusion_task\"]\n",
    "            }\n",
    "            # Write each dictionary as a line\n",
    "            json.dump(data, f)\n",
    "            f.write(\"\\n\")\n",
    "\n",
    "    print(f\"JSON file saved to {filename}\")"
   ]
  },
  {
   "cell_type": "code",
   "execution_count": 33,
   "metadata": {},
   "outputs": [
    {
     "name": "stdout",
     "output_type": "stream",
     "text": [
      "JSON file saved to stm_intrusion_items.jsonl\n"
     ]
    }
   ],
   "source": [
    "create_json_from_df(stm_intrusion_task, \"stm_intrusion_items.jsonl\")"
   ]
  }
 ],
 "metadata": {
  "kernelspec": {
   "display_name": "base",
   "language": "python",
   "name": "python3"
  },
  "language_info": {
   "codemirror_mode": {
    "name": "ipython",
    "version": 3
   },
   "file_extension": ".py",
   "mimetype": "text/x-python",
   "name": "python",
   "nbconvert_exporter": "python",
   "pygments_lexer": "ipython3",
   "version": "3.9.13"
  }
 },
 "nbformat": 4,
 "nbformat_minor": 2
}
