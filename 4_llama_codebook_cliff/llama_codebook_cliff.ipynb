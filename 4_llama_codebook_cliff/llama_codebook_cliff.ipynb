{
 "cells": [
  {
   "cell_type": "markdown",
   "id": "b72e88b2-f541-405e-9f7a-8c92c502c755",
   "metadata": {},
   "source": [
    "### Packages & troubleshoot"
   ]
  },
  {
   "cell_type": "code",
   "execution_count": 1,
   "id": "c2c66b2d-e704-447f-852b-f229610667ea",
   "metadata": {
    "scrolled": true
   },
   "outputs": [
    {
     "name": "stdout",
     "output_type": "stream",
     "text": [
      "Collecting transformers\n",
      "  Using cached transformers-4.49.0-py3-none-any.whl.metadata (44 kB)\n",
      "Collecting filelock (from transformers)\n",
      "  Using cached filelock-3.17.0-py3-none-any.whl.metadata (2.9 kB)\n",
      "Collecting huggingface-hub<1.0,>=0.26.0 (from transformers)\n",
      "  Using cached huggingface_hub-0.29.1-py3-none-any.whl.metadata (13 kB)\n",
      "Requirement already satisfied: numpy>=1.17 in /opt/conda/lib/python3.11/site-packages (from transformers) (1.24.4)\n",
      "Requirement already satisfied: packaging>=20.0 in /opt/conda/lib/python3.11/site-packages (from transformers) (23.2)\n",
      "Requirement already satisfied: pyyaml>=5.1 in /opt/conda/lib/python3.11/site-packages (from transformers) (6.0.1)\n",
      "Collecting regex!=2019.12.17 (from transformers)\n",
      "  Using cached regex-2024.11.6-cp311-cp311-manylinux_2_17_x86_64.manylinux2014_x86_64.whl.metadata (40 kB)\n",
      "Requirement already satisfied: requests in /opt/conda/lib/python3.11/site-packages (from transformers) (2.31.0)\n",
      "Collecting tokenizers<0.22,>=0.21 (from transformers)\n",
      "  Using cached tokenizers-0.21.0-cp39-abi3-manylinux_2_17_x86_64.manylinux2014_x86_64.whl.metadata (6.7 kB)\n",
      "Collecting safetensors>=0.4.1 (from transformers)\n",
      "  Downloading safetensors-0.5.3-cp38-abi3-manylinux_2_17_x86_64.manylinux2014_x86_64.whl.metadata (3.8 kB)\n",
      "Requirement already satisfied: tqdm>=4.27 in /opt/conda/lib/python3.11/site-packages (from transformers) (4.66.1)\n",
      "Requirement already satisfied: fsspec>=2023.5.0 in /opt/conda/lib/python3.11/site-packages (from huggingface-hub<1.0,>=0.26.0->transformers) (2023.9.2)\n",
      "Requirement already satisfied: typing-extensions>=3.7.4.3 in /opt/conda/lib/python3.11/site-packages (from huggingface-hub<1.0,>=0.26.0->transformers) (4.8.0)\n",
      "Requirement already satisfied: charset-normalizer<4,>=2 in /opt/conda/lib/python3.11/site-packages (from requests->transformers) (3.3.0)\n",
      "Requirement already satisfied: idna<4,>=2.5 in /opt/conda/lib/python3.11/site-packages (from requests->transformers) (3.4)\n",
      "Requirement already satisfied: urllib3<3,>=1.21.1 in /opt/conda/lib/python3.11/site-packages (from requests->transformers) (2.0.7)\n",
      "Requirement already satisfied: certifi>=2017.4.17 in /opt/conda/lib/python3.11/site-packages (from requests->transformers) (2023.7.22)\n",
      "Using cached transformers-4.49.0-py3-none-any.whl (10.0 MB)\n",
      "Using cached huggingface_hub-0.29.1-py3-none-any.whl (468 kB)\n",
      "Using cached regex-2024.11.6-cp311-cp311-manylinux_2_17_x86_64.manylinux2014_x86_64.whl (792 kB)\n",
      "Downloading safetensors-0.5.3-cp38-abi3-manylinux_2_17_x86_64.manylinux2014_x86_64.whl (471 kB)\n",
      "\u001b[2K   \u001b[90m━━━━━━━━━━━━━━━━━━━━━━━━━━━━━━━━━━━━━━━━\u001b[0m \u001b[32m471.6/471.6 kB\u001b[0m \u001b[31m10.4 MB/s\u001b[0m eta \u001b[36m0:00:00\u001b[0m00:01\u001b[0m\n",
      "\u001b[?25hUsing cached tokenizers-0.21.0-cp39-abi3-manylinux_2_17_x86_64.manylinux2014_x86_64.whl (3.0 MB)\n",
      "Using cached filelock-3.17.0-py3-none-any.whl (16 kB)\n",
      "Installing collected packages: safetensors, regex, filelock, huggingface-hub, tokenizers, transformers\n",
      "Successfully installed filelock-3.17.0 huggingface-hub-0.29.1 regex-2024.11.6 safetensors-0.5.3 tokenizers-0.21.0 transformers-4.49.0\n",
      "Collecting accelerate\n",
      "  Using cached accelerate-1.4.0-py3-none-any.whl.metadata (19 kB)\n",
      "Requirement already satisfied: numpy<3.0.0,>=1.17 in /opt/conda/lib/python3.11/site-packages (from accelerate) (1.24.4)\n",
      "Requirement already satisfied: packaging>=20.0 in /opt/conda/lib/python3.11/site-packages (from accelerate) (23.2)\n",
      "Requirement already satisfied: psutil in /opt/conda/lib/python3.11/site-packages (from accelerate) (5.9.5)\n",
      "Requirement already satisfied: pyyaml in /opt/conda/lib/python3.11/site-packages (from accelerate) (6.0.1)\n",
      "Collecting torch>=2.0.0 (from accelerate)\n",
      "  Using cached torch-2.6.0-cp311-cp311-manylinux1_x86_64.whl.metadata (28 kB)\n",
      "Requirement already satisfied: huggingface-hub>=0.21.0 in /opt/conda/lib/python3.11/site-packages (from accelerate) (0.29.1)\n",
      "Requirement already satisfied: safetensors>=0.4.3 in /opt/conda/lib/python3.11/site-packages (from accelerate) (0.5.3)\n",
      "Requirement already satisfied: filelock in /opt/conda/lib/python3.11/site-packages (from huggingface-hub>=0.21.0->accelerate) (3.17.0)\n",
      "Requirement already satisfied: fsspec>=2023.5.0 in /opt/conda/lib/python3.11/site-packages (from huggingface-hub>=0.21.0->accelerate) (2023.9.2)\n",
      "Requirement already satisfied: requests in /opt/conda/lib/python3.11/site-packages (from huggingface-hub>=0.21.0->accelerate) (2.31.0)\n",
      "Requirement already satisfied: tqdm>=4.42.1 in /opt/conda/lib/python3.11/site-packages (from huggingface-hub>=0.21.0->accelerate) (4.66.1)\n",
      "Requirement already satisfied: typing-extensions>=3.7.4.3 in /opt/conda/lib/python3.11/site-packages (from huggingface-hub>=0.21.0->accelerate) (4.8.0)\n",
      "Collecting typing-extensions>=3.7.4.3 (from huggingface-hub>=0.21.0->accelerate)\n",
      "  Using cached typing_extensions-4.12.2-py3-none-any.whl.metadata (3.0 kB)\n",
      "Requirement already satisfied: networkx in /opt/conda/lib/python3.11/site-packages (from torch>=2.0.0->accelerate) (3.2)\n",
      "Requirement already satisfied: jinja2 in /opt/conda/lib/python3.11/site-packages (from torch>=2.0.0->accelerate) (3.1.2)\n",
      "Collecting nvidia-cuda-nvrtc-cu12==12.4.127 (from torch>=2.0.0->accelerate)\n",
      "  Using cached nvidia_cuda_nvrtc_cu12-12.4.127-py3-none-manylinux2014_x86_64.whl.metadata (1.5 kB)\n",
      "Collecting nvidia-cuda-runtime-cu12==12.4.127 (from torch>=2.0.0->accelerate)\n",
      "  Using cached nvidia_cuda_runtime_cu12-12.4.127-py3-none-manylinux2014_x86_64.whl.metadata (1.5 kB)\n",
      "Collecting nvidia-cuda-cupti-cu12==12.4.127 (from torch>=2.0.0->accelerate)\n",
      "  Using cached nvidia_cuda_cupti_cu12-12.4.127-py3-none-manylinux2014_x86_64.whl.metadata (1.6 kB)\n",
      "Collecting nvidia-cudnn-cu12==9.1.0.70 (from torch>=2.0.0->accelerate)\n",
      "  Using cached nvidia_cudnn_cu12-9.1.0.70-py3-none-manylinux2014_x86_64.whl.metadata (1.6 kB)\n",
      "Collecting nvidia-cublas-cu12==12.4.5.8 (from torch>=2.0.0->accelerate)\n",
      "  Using cached nvidia_cublas_cu12-12.4.5.8-py3-none-manylinux2014_x86_64.whl.metadata (1.5 kB)\n",
      "Collecting nvidia-cufft-cu12==11.2.1.3 (from torch>=2.0.0->accelerate)\n",
      "  Using cached nvidia_cufft_cu12-11.2.1.3-py3-none-manylinux2014_x86_64.whl.metadata (1.5 kB)\n",
      "Collecting nvidia-curand-cu12==10.3.5.147 (from torch>=2.0.0->accelerate)\n",
      "  Using cached nvidia_curand_cu12-10.3.5.147-py3-none-manylinux2014_x86_64.whl.metadata (1.5 kB)\n",
      "Collecting nvidia-cusolver-cu12==11.6.1.9 (from torch>=2.0.0->accelerate)\n",
      "  Using cached nvidia_cusolver_cu12-11.6.1.9-py3-none-manylinux2014_x86_64.whl.metadata (1.6 kB)\n",
      "Collecting nvidia-cusparse-cu12==12.3.1.170 (from torch>=2.0.0->accelerate)\n",
      "  Using cached nvidia_cusparse_cu12-12.3.1.170-py3-none-manylinux2014_x86_64.whl.metadata (1.6 kB)\n",
      "Collecting nvidia-cusparselt-cu12==0.6.2 (from torch>=2.0.0->accelerate)\n",
      "  Using cached nvidia_cusparselt_cu12-0.6.2-py3-none-manylinux2014_x86_64.whl.metadata (6.8 kB)\n",
      "Collecting nvidia-nccl-cu12==2.21.5 (from torch>=2.0.0->accelerate)\n",
      "  Using cached nvidia_nccl_cu12-2.21.5-py3-none-manylinux2014_x86_64.whl.metadata (1.8 kB)\n",
      "Collecting nvidia-nvtx-cu12==12.4.127 (from torch>=2.0.0->accelerate)\n",
      "  Using cached nvidia_nvtx_cu12-12.4.127-py3-none-manylinux2014_x86_64.whl.metadata (1.7 kB)\n",
      "Collecting nvidia-nvjitlink-cu12==12.4.127 (from torch>=2.0.0->accelerate)\n",
      "  Using cached nvidia_nvjitlink_cu12-12.4.127-py3-none-manylinux2014_x86_64.whl.metadata (1.5 kB)\n",
      "Collecting triton==3.2.0 (from torch>=2.0.0->accelerate)\n",
      "  Using cached triton-3.2.0-cp311-cp311-manylinux_2_17_x86_64.manylinux2014_x86_64.whl.metadata (1.4 kB)\n",
      "Collecting sympy==1.13.1 (from torch>=2.0.0->accelerate)\n",
      "  Using cached sympy-1.13.1-py3-none-any.whl.metadata (12 kB)\n",
      "Requirement already satisfied: mpmath<1.4,>=1.1.0 in /opt/conda/lib/python3.11/site-packages (from sympy==1.13.1->torch>=2.0.0->accelerate) (1.3.0)\n",
      "Requirement already satisfied: MarkupSafe>=2.0 in /opt/conda/lib/python3.11/site-packages (from jinja2->torch>=2.0.0->accelerate) (2.1.3)\n",
      "Requirement already satisfied: charset-normalizer<4,>=2 in /opt/conda/lib/python3.11/site-packages (from requests->huggingface-hub>=0.21.0->accelerate) (3.3.0)\n",
      "Requirement already satisfied: idna<4,>=2.5 in /opt/conda/lib/python3.11/site-packages (from requests->huggingface-hub>=0.21.0->accelerate) (3.4)\n",
      "Requirement already satisfied: urllib3<3,>=1.21.1 in /opt/conda/lib/python3.11/site-packages (from requests->huggingface-hub>=0.21.0->accelerate) (2.0.7)\n",
      "Requirement already satisfied: certifi>=2017.4.17 in /opt/conda/lib/python3.11/site-packages (from requests->huggingface-hub>=0.21.0->accelerate) (2023.7.22)\n",
      "Using cached accelerate-1.4.0-py3-none-any.whl (342 kB)\n",
      "Using cached torch-2.6.0-cp311-cp311-manylinux1_x86_64.whl (766.7 MB)\n",
      "Using cached nvidia_cublas_cu12-12.4.5.8-py3-none-manylinux2014_x86_64.whl (363.4 MB)\n",
      "Using cached nvidia_cuda_cupti_cu12-12.4.127-py3-none-manylinux2014_x86_64.whl (13.8 MB)\n",
      "Using cached nvidia_cuda_nvrtc_cu12-12.4.127-py3-none-manylinux2014_x86_64.whl (24.6 MB)\n",
      "Using cached nvidia_cuda_runtime_cu12-12.4.127-py3-none-manylinux2014_x86_64.whl (883 kB)\n",
      "Using cached nvidia_cudnn_cu12-9.1.0.70-py3-none-manylinux2014_x86_64.whl (664.8 MB)\n",
      "Using cached nvidia_cufft_cu12-11.2.1.3-py3-none-manylinux2014_x86_64.whl (211.5 MB)\n",
      "Using cached nvidia_curand_cu12-10.3.5.147-py3-none-manylinux2014_x86_64.whl (56.3 MB)\n",
      "Using cached nvidia_cusolver_cu12-11.6.1.9-py3-none-manylinux2014_x86_64.whl (127.9 MB)\n",
      "Using cached nvidia_cusparse_cu12-12.3.1.170-py3-none-manylinux2014_x86_64.whl (207.5 MB)\n",
      "Using cached nvidia_cusparselt_cu12-0.6.2-py3-none-manylinux2014_x86_64.whl (150.1 MB)\n",
      "Using cached nvidia_nccl_cu12-2.21.5-py3-none-manylinux2014_x86_64.whl (188.7 MB)\n",
      "Using cached nvidia_nvjitlink_cu12-12.4.127-py3-none-manylinux2014_x86_64.whl (21.1 MB)\n",
      "Using cached nvidia_nvtx_cu12-12.4.127-py3-none-manylinux2014_x86_64.whl (99 kB)\n",
      "Using cached sympy-1.13.1-py3-none-any.whl (6.2 MB)\n",
      "Using cached triton-3.2.0-cp311-cp311-manylinux_2_17_x86_64.manylinux2014_x86_64.whl (253.2 MB)\n",
      "Using cached typing_extensions-4.12.2-py3-none-any.whl (37 kB)\n",
      "Installing collected packages: triton, nvidia-cusparselt-cu12, typing-extensions, sympy, nvidia-nvtx-cu12, nvidia-nvjitlink-cu12, nvidia-nccl-cu12, nvidia-curand-cu12, nvidia-cufft-cu12, nvidia-cuda-runtime-cu12, nvidia-cuda-nvrtc-cu12, nvidia-cuda-cupti-cu12, nvidia-cublas-cu12, nvidia-cusparse-cu12, nvidia-cudnn-cu12, nvidia-cusolver-cu12, torch, accelerate\n",
      "  Attempting uninstall: typing-extensions\n",
      "    Found existing installation: typing_extensions 4.8.0\n",
      "    Uninstalling typing_extensions-4.8.0:\n",
      "      Successfully uninstalled typing_extensions-4.8.0\n",
      "  Attempting uninstall: sympy\n",
      "    Found existing installation: sympy 1.12\n",
      "    Uninstalling sympy-1.12:\n",
      "      Successfully uninstalled sympy-1.12\n",
      "Successfully installed accelerate-1.4.0 nvidia-cublas-cu12-12.4.5.8 nvidia-cuda-cupti-cu12-12.4.127 nvidia-cuda-nvrtc-cu12-12.4.127 nvidia-cuda-runtime-cu12-12.4.127 nvidia-cudnn-cu12-9.1.0.70 nvidia-cufft-cu12-11.2.1.3 nvidia-curand-cu12-10.3.5.147 nvidia-cusolver-cu12-11.6.1.9 nvidia-cusparse-cu12-12.3.1.170 nvidia-cusparselt-cu12-0.6.2 nvidia-nccl-cu12-2.21.5 nvidia-nvjitlink-cu12-12.4.127 nvidia-nvtx-cu12-12.4.127 sympy-1.13.1 torch-2.6.0 triton-3.2.0 typing-extensions-4.12.2\n",
      "Requirement already satisfied: torch in /opt/conda/lib/python3.11/site-packages (2.6.0)\n",
      "Requirement already satisfied: filelock in /opt/conda/lib/python3.11/site-packages (from torch) (3.17.0)\n",
      "Requirement already satisfied: typing-extensions>=4.10.0 in /opt/conda/lib/python3.11/site-packages (from torch) (4.12.2)\n",
      "Requirement already satisfied: networkx in /opt/conda/lib/python3.11/site-packages (from torch) (3.2)\n",
      "Requirement already satisfied: jinja2 in /opt/conda/lib/python3.11/site-packages (from torch) (3.1.2)\n",
      "Requirement already satisfied: fsspec in /opt/conda/lib/python3.11/site-packages (from torch) (2023.9.2)\n",
      "Requirement already satisfied: nvidia-cuda-nvrtc-cu12==12.4.127 in /opt/conda/lib/python3.11/site-packages (from torch) (12.4.127)\n",
      "Requirement already satisfied: nvidia-cuda-runtime-cu12==12.4.127 in /opt/conda/lib/python3.11/site-packages (from torch) (12.4.127)\n",
      "Requirement already satisfied: nvidia-cuda-cupti-cu12==12.4.127 in /opt/conda/lib/python3.11/site-packages (from torch) (12.4.127)\n",
      "Requirement already satisfied: nvidia-cudnn-cu12==9.1.0.70 in /opt/conda/lib/python3.11/site-packages (from torch) (9.1.0.70)\n",
      "Requirement already satisfied: nvidia-cublas-cu12==12.4.5.8 in /opt/conda/lib/python3.11/site-packages (from torch) (12.4.5.8)\n",
      "Requirement already satisfied: nvidia-cufft-cu12==11.2.1.3 in /opt/conda/lib/python3.11/site-packages (from torch) (11.2.1.3)\n",
      "Requirement already satisfied: nvidia-curand-cu12==10.3.5.147 in /opt/conda/lib/python3.11/site-packages (from torch) (10.3.5.147)\n",
      "Requirement already satisfied: nvidia-cusolver-cu12==11.6.1.9 in /opt/conda/lib/python3.11/site-packages (from torch) (11.6.1.9)\n",
      "Requirement already satisfied: nvidia-cusparse-cu12==12.3.1.170 in /opt/conda/lib/python3.11/site-packages (from torch) (12.3.1.170)\n",
      "Requirement already satisfied: nvidia-cusparselt-cu12==0.6.2 in /opt/conda/lib/python3.11/site-packages (from torch) (0.6.2)\n",
      "Requirement already satisfied: nvidia-nccl-cu12==2.21.5 in /opt/conda/lib/python3.11/site-packages (from torch) (2.21.5)\n",
      "Requirement already satisfied: nvidia-nvtx-cu12==12.4.127 in /opt/conda/lib/python3.11/site-packages (from torch) (12.4.127)\n",
      "Requirement already satisfied: nvidia-nvjitlink-cu12==12.4.127 in /opt/conda/lib/python3.11/site-packages (from torch) (12.4.127)\n",
      "Requirement already satisfied: triton==3.2.0 in /opt/conda/lib/python3.11/site-packages (from torch) (3.2.0)\n",
      "Requirement already satisfied: sympy==1.13.1 in /opt/conda/lib/python3.11/site-packages (from torch) (1.13.1)\n",
      "Requirement already satisfied: mpmath<1.4,>=1.1.0 in /opt/conda/lib/python3.11/site-packages (from sympy==1.13.1->torch) (1.3.0)\n",
      "Requirement already satisfied: MarkupSafe>=2.0 in /opt/conda/lib/python3.11/site-packages (from jinja2->torch) (2.1.3)\n",
      "Collecting torchvision\n",
      "  Using cached torchvision-0.21.0-cp311-cp311-manylinux1_x86_64.whl.metadata (6.1 kB)\n",
      "Collecting torchaudio\n",
      "  Using cached torchaudio-2.6.0-cp311-cp311-manylinux1_x86_64.whl.metadata (6.6 kB)\n",
      "Requirement already satisfied: numpy in /opt/conda/lib/python3.11/site-packages (from torchvision) (1.24.4)\n",
      "Requirement already satisfied: torch==2.6.0 in /opt/conda/lib/python3.11/site-packages (from torchvision) (2.6.0)\n",
      "Requirement already satisfied: pillow!=8.3.*,>=5.3.0 in /opt/conda/lib/python3.11/site-packages (from torchvision) (10.1.0)\n",
      "Requirement already satisfied: filelock in /opt/conda/lib/python3.11/site-packages (from torch==2.6.0->torchvision) (3.17.0)\n",
      "Requirement already satisfied: typing-extensions>=4.10.0 in /opt/conda/lib/python3.11/site-packages (from torch==2.6.0->torchvision) (4.12.2)\n",
      "Requirement already satisfied: networkx in /opt/conda/lib/python3.11/site-packages (from torch==2.6.0->torchvision) (3.2)\n",
      "Requirement already satisfied: jinja2 in /opt/conda/lib/python3.11/site-packages (from torch==2.6.0->torchvision) (3.1.2)\n",
      "Requirement already satisfied: fsspec in /opt/conda/lib/python3.11/site-packages (from torch==2.6.0->torchvision) (2023.9.2)\n",
      "Requirement already satisfied: nvidia-cuda-nvrtc-cu12==12.4.127 in /opt/conda/lib/python3.11/site-packages (from torch==2.6.0->torchvision) (12.4.127)\n",
      "Requirement already satisfied: nvidia-cuda-runtime-cu12==12.4.127 in /opt/conda/lib/python3.11/site-packages (from torch==2.6.0->torchvision) (12.4.127)\n",
      "Requirement already satisfied: nvidia-cuda-cupti-cu12==12.4.127 in /opt/conda/lib/python3.11/site-packages (from torch==2.6.0->torchvision) (12.4.127)\n",
      "Requirement already satisfied: nvidia-cudnn-cu12==9.1.0.70 in /opt/conda/lib/python3.11/site-packages (from torch==2.6.0->torchvision) (9.1.0.70)\n",
      "Requirement already satisfied: nvidia-cublas-cu12==12.4.5.8 in /opt/conda/lib/python3.11/site-packages (from torch==2.6.0->torchvision) (12.4.5.8)\n",
      "Requirement already satisfied: nvidia-cufft-cu12==11.2.1.3 in /opt/conda/lib/python3.11/site-packages (from torch==2.6.0->torchvision) (11.2.1.3)\n",
      "Requirement already satisfied: nvidia-curand-cu12==10.3.5.147 in /opt/conda/lib/python3.11/site-packages (from torch==2.6.0->torchvision) (10.3.5.147)\n",
      "Requirement already satisfied: nvidia-cusolver-cu12==11.6.1.9 in /opt/conda/lib/python3.11/site-packages (from torch==2.6.0->torchvision) (11.6.1.9)\n",
      "Requirement already satisfied: nvidia-cusparse-cu12==12.3.1.170 in /opt/conda/lib/python3.11/site-packages (from torch==2.6.0->torchvision) (12.3.1.170)\n",
      "Requirement already satisfied: nvidia-cusparselt-cu12==0.6.2 in /opt/conda/lib/python3.11/site-packages (from torch==2.6.0->torchvision) (0.6.2)\n",
      "Requirement already satisfied: nvidia-nccl-cu12==2.21.5 in /opt/conda/lib/python3.11/site-packages (from torch==2.6.0->torchvision) (2.21.5)\n",
      "Requirement already satisfied: nvidia-nvtx-cu12==12.4.127 in /opt/conda/lib/python3.11/site-packages (from torch==2.6.0->torchvision) (12.4.127)\n",
      "Requirement already satisfied: nvidia-nvjitlink-cu12==12.4.127 in /opt/conda/lib/python3.11/site-packages (from torch==2.6.0->torchvision) (12.4.127)\n",
      "Requirement already satisfied: triton==3.2.0 in /opt/conda/lib/python3.11/site-packages (from torch==2.6.0->torchvision) (3.2.0)\n",
      "Requirement already satisfied: sympy==1.13.1 in /opt/conda/lib/python3.11/site-packages (from torch==2.6.0->torchvision) (1.13.1)\n",
      "Requirement already satisfied: mpmath<1.4,>=1.1.0 in /opt/conda/lib/python3.11/site-packages (from sympy==1.13.1->torch==2.6.0->torchvision) (1.3.0)\n",
      "Requirement already satisfied: MarkupSafe>=2.0 in /opt/conda/lib/python3.11/site-packages (from jinja2->torch==2.6.0->torchvision) (2.1.3)\n",
      "Using cached torchvision-0.21.0-cp311-cp311-manylinux1_x86_64.whl (7.2 MB)\n",
      "Using cached torchaudio-2.6.0-cp311-cp311-manylinux1_x86_64.whl (3.4 MB)\n",
      "Installing collected packages: torchvision, torchaudio\n",
      "Successfully installed torchaudio-2.6.0 torchvision-0.21.0\n",
      "\u001b[31mERROR: Could not find a version that satisfies the requirement gc (from versions: none)\u001b[0m\u001b[31m\n",
      "\u001b[0m\u001b[31mERROR: No matching distribution found for gc\u001b[0m\u001b[31m\n",
      "\u001b[0mCollecting bitsandbytes\n",
      "  Downloading bitsandbytes-0.45.3-py3-none-manylinux_2_24_x86_64.whl.metadata (5.0 kB)\n",
      "Requirement already satisfied: torch<3,>=2.0 in /opt/conda/lib/python3.11/site-packages (from bitsandbytes) (2.6.0)\n",
      "Requirement already satisfied: numpy>=1.17 in /opt/conda/lib/python3.11/site-packages (from bitsandbytes) (1.24.4)\n",
      "Requirement already satisfied: filelock in /opt/conda/lib/python3.11/site-packages (from torch<3,>=2.0->bitsandbytes) (3.17.0)\n",
      "Requirement already satisfied: typing-extensions>=4.10.0 in /opt/conda/lib/python3.11/site-packages (from torch<3,>=2.0->bitsandbytes) (4.12.2)\n",
      "Requirement already satisfied: networkx in /opt/conda/lib/python3.11/site-packages (from torch<3,>=2.0->bitsandbytes) (3.2)\n",
      "Requirement already satisfied: jinja2 in /opt/conda/lib/python3.11/site-packages (from torch<3,>=2.0->bitsandbytes) (3.1.2)\n",
      "Requirement already satisfied: fsspec in /opt/conda/lib/python3.11/site-packages (from torch<3,>=2.0->bitsandbytes) (2023.9.2)\n",
      "Requirement already satisfied: nvidia-cuda-nvrtc-cu12==12.4.127 in /opt/conda/lib/python3.11/site-packages (from torch<3,>=2.0->bitsandbytes) (12.4.127)\n",
      "Requirement already satisfied: nvidia-cuda-runtime-cu12==12.4.127 in /opt/conda/lib/python3.11/site-packages (from torch<3,>=2.0->bitsandbytes) (12.4.127)\n",
      "Requirement already satisfied: nvidia-cuda-cupti-cu12==12.4.127 in /opt/conda/lib/python3.11/site-packages (from torch<3,>=2.0->bitsandbytes) (12.4.127)\n",
      "Requirement already satisfied: nvidia-cudnn-cu12==9.1.0.70 in /opt/conda/lib/python3.11/site-packages (from torch<3,>=2.0->bitsandbytes) (9.1.0.70)\n",
      "Requirement already satisfied: nvidia-cublas-cu12==12.4.5.8 in /opt/conda/lib/python3.11/site-packages (from torch<3,>=2.0->bitsandbytes) (12.4.5.8)\n",
      "Requirement already satisfied: nvidia-cufft-cu12==11.2.1.3 in /opt/conda/lib/python3.11/site-packages (from torch<3,>=2.0->bitsandbytes) (11.2.1.3)\n",
      "Requirement already satisfied: nvidia-curand-cu12==10.3.5.147 in /opt/conda/lib/python3.11/site-packages (from torch<3,>=2.0->bitsandbytes) (10.3.5.147)\n",
      "Requirement already satisfied: nvidia-cusolver-cu12==11.6.1.9 in /opt/conda/lib/python3.11/site-packages (from torch<3,>=2.0->bitsandbytes) (11.6.1.9)\n",
      "Requirement already satisfied: nvidia-cusparse-cu12==12.3.1.170 in /opt/conda/lib/python3.11/site-packages (from torch<3,>=2.0->bitsandbytes) (12.3.1.170)\n",
      "Requirement already satisfied: nvidia-cusparselt-cu12==0.6.2 in /opt/conda/lib/python3.11/site-packages (from torch<3,>=2.0->bitsandbytes) (0.6.2)\n",
      "Requirement already satisfied: nvidia-nccl-cu12==2.21.5 in /opt/conda/lib/python3.11/site-packages (from torch<3,>=2.0->bitsandbytes) (2.21.5)\n",
      "Requirement already satisfied: nvidia-nvtx-cu12==12.4.127 in /opt/conda/lib/python3.11/site-packages (from torch<3,>=2.0->bitsandbytes) (12.4.127)\n",
      "Requirement already satisfied: nvidia-nvjitlink-cu12==12.4.127 in /opt/conda/lib/python3.11/site-packages (from torch<3,>=2.0->bitsandbytes) (12.4.127)\n",
      "Requirement already satisfied: triton==3.2.0 in /opt/conda/lib/python3.11/site-packages (from torch<3,>=2.0->bitsandbytes) (3.2.0)\n",
      "Requirement already satisfied: sympy==1.13.1 in /opt/conda/lib/python3.11/site-packages (from torch<3,>=2.0->bitsandbytes) (1.13.1)\n",
      "Requirement already satisfied: mpmath<1.4,>=1.1.0 in /opt/conda/lib/python3.11/site-packages (from sympy==1.13.1->torch<3,>=2.0->bitsandbytes) (1.3.0)\n",
      "Requirement already satisfied: MarkupSafe>=2.0 in /opt/conda/lib/python3.11/site-packages (from jinja2->torch<3,>=2.0->bitsandbytes) (2.1.3)\n",
      "Downloading bitsandbytes-0.45.3-py3-none-manylinux_2_24_x86_64.whl (76.1 MB)\n",
      "\u001b[2K   \u001b[90m━━━━━━━━━━━━━━━━━━━━━━━━━━━━━━━━━━━━━━━━\u001b[0m \u001b[32m76.1/76.1 MB\u001b[0m \u001b[31m36.0 MB/s\u001b[0m eta \u001b[36m0:00:00\u001b[0m:00:01\u001b[0m00:01\u001b[0m\n",
      "\u001b[?25hInstalling collected packages: bitsandbytes\n",
      "Successfully installed bitsandbytes-0.45.3\n"
     ]
    }
   ],
   "source": [
    "!pip install transformers\n",
    "!pip install accelerate\n",
    "!pip install torch\n",
    "!pip install torchvision torchaudio\n",
    "!pip install gc\n",
    "!pip install bitsandbytes"
   ]
  },
  {
   "cell_type": "code",
   "execution_count": 1,
   "id": "80051b53-4799-4d0e-996d-04a100b70c20",
   "metadata": {},
   "outputs": [
    {
     "name": "stderr",
     "output_type": "stream",
     "text": [
      "The installed version of bitsandbytes was compiled without GPU support. 8-bit optimizers, 8-bit multiplication, and GPU quantization are unavailable.\n"
     ]
    }
   ],
   "source": [
    "import gc\n",
    "\n",
    "import torch\n",
    "import transformers\n",
    "from transformers import AutoModelForCausalLM, AutoTokenizer, BitsAndBytesConfig\n",
    "import bitsandbytes"
   ]
  },
  {
   "cell_type": "code",
   "execution_count": 3,
   "id": "c68bc22f-de90-40b5-a2a3-d32c853aeb52",
   "metadata": {},
   "outputs": [],
   "source": [
    "import os\n",
    "import pandas as pd\n",
    "import numpy as np\n",
    "import pickle\n",
    "import re\n",
    "import json\n",
    "import tqdm\n",
    "from tqdm import tqdm\n",
    "# Enable tqdm for pandas\n",
    "tqdm.pandas()"
   ]
  },
  {
   "cell_type": "code",
   "execution_count": 4,
   "id": "29cb9b15-235c-491a-8959-c35fb1e7def1",
   "metadata": {},
   "outputs": [
    {
     "name": "stdout",
     "output_type": "stream",
     "text": [
      "True\n"
     ]
    }
   ],
   "source": [
    "# Check if CUDA (GPU) is available\n",
    "print(torch.cuda.is_available())  "
   ]
  },
  {
   "cell_type": "code",
   "execution_count": 5,
   "id": "53891af4-ae5b-4c30-b3d0-fe1acd5467a7",
   "metadata": {},
   "outputs": [
    {
     "data": {
      "text/plain": [
       "40"
      ]
     },
     "execution_count": 5,
     "metadata": {},
     "output_type": "execute_result"
    }
   ],
   "source": [
    "#Memory usage handling\n",
    "#Frees up unused GPU memory that was previously allocated by PyTorch.\n",
    "torch.cuda.empty_cache()\n",
    "\n",
    "#Triggers Python's garbage collector to reclaim unused objects in memory.\n",
    "gc.collect()"
   ]
  },
  {
   "cell_type": "markdown",
   "id": "337a4f7c-7026-4604-ab85-25556c098bd3",
   "metadata": {},
   "source": [
    "### LLAMA Implementation"
   ]
  },
  {
   "cell_type": "code",
   "execution_count": 6,
   "id": "bac8ebea-d373-4675-8a8f-c4773520a171",
   "metadata": {},
   "outputs": [],
   "source": [
    "with open(\"access_token_llama.txt\", \"r\") as file: \n",
    "    token = file.read() \n",
    "#os.environ[\"HUGGINGFACE_HUB_TOKEN\"] = token"
   ]
  },
  {
   "cell_type": "code",
   "execution_count": 7,
   "id": "e018f7eb-9a80-4262-9b41-7d3fbbec9031",
   "metadata": {},
   "outputs": [],
   "source": [
    "model_id = \"meta-llama/Llama-3.3-70B-Instruct\""
   ]
  },
  {
   "cell_type": "markdown",
   "id": "5b0b936f-2b9e-468f-bda9-de37343d8be5",
   "metadata": {},
   "source": [
    "##### Other implementation"
   ]
  },
  {
   "cell_type": "code",
   "execution_count": 8,
   "id": "a6bddc25-9c48-4f9d-b72b-2e60c21bcd09",
   "metadata": {},
   "outputs": [],
   "source": [
    "# model_id = \"meta-llama/Llama-3.3-70B-Instruct\"\n",
    "# quantization_config_arg = BitsAndBytesConfig(load_in_4bit=True)\n",
    "\n",
    "# pipeline = transformers.pipeline(\n",
    "#     \"text-generation\",\n",
    "#     model=model_id,\n",
    "#     model_kwargs={\"torch_dtype\": torch.bfloat16},\n",
    "#     device_map=\"auto\",\n",
    "#     quantization_config=quantization_config_arg,\n",
    "#     token = token)"
   ]
  },
  {
   "cell_type": "markdown",
   "id": "f00eb473-12d6-4d50-8f3b-5d17f49242ff",
   "metadata": {},
   "source": [
    "##### Model loading"
   ]
  },
  {
   "cell_type": "code",
   "execution_count": 9,
   "id": "2c33049b-2494-4ff9-a985-3b02a672a0ab",
   "metadata": {
    "scrolled": true
   },
   "outputs": [
    {
     "data": {
      "application/vnd.jupyter.widget-view+json": {
       "model_id": "fc9d0716301f4a938a86819435973cdb",
       "version_major": 2,
       "version_minor": 0
      },
      "text/plain": [
       "Loading checkpoint shards:   0%|          | 0/30 [00:00<?, ?it/s]"
      ]
     },
     "metadata": {},
     "output_type": "display_data"
    }
   ],
   "source": [
    "quantization_config_arg = BitsAndBytesConfig(load_in_4bit=True)#,\n",
    "                                            #llm_int8_enable_fp32_cpu_offload=True)\n",
    "\n",
    "# Load the model with quantization\n",
    "model = AutoModelForCausalLM.from_pretrained(\n",
    "    model_id,\n",
    "    device_map=\"auto\",\n",
    "    quantization_config=quantization_config_arg,\n",
    "    torch_dtype=torch.bfloat16\n",
    ")\n",
    "\n",
    "# Load the tokenizer\n",
    "tokenizer = AutoTokenizer.from_pretrained(model_id)"
   ]
  },
  {
   "cell_type": "code",
   "execution_count": 10,
   "id": "64d37e88-89f4-47cc-a01c-62c7ba8994fb",
   "metadata": {},
   "outputs": [
    {
     "data": {
      "text/plain": [
       "{'': 0}"
      ]
     },
     "execution_count": 10,
     "metadata": {},
     "output_type": "execute_result"
    }
   ],
   "source": [
    "model.hf_device_map"
   ]
  },
  {
   "cell_type": "markdown",
   "id": "225ac8d2-fec4-4905-9b38-a606a44e09c8",
   "metadata": {},
   "source": [
    "#### Model implementation"
   ]
  },
  {
   "cell_type": "markdown",
   "id": "7477ab30-f5ec-496b-b1c4-59abdb5971fb",
   "metadata": {},
   "source": [
    "##### Prompt build up"
   ]
  },
  {
   "cell_type": "code",
   "execution_count": 11,
   "id": "1e1f83e1-ddef-4658-bb7b-0e0ec8228c5a",
   "metadata": {},
   "outputs": [],
   "source": [
    "#General classification prompt {cliff_prompt}\n",
    "with open(\"prompt/llama_cliff_prompt.txt\", \"r\") as file: \n",
    "    cliff_prompt = file.read() \n",
    "\n",
    "#Codebook with topic and subtopic descriptions {topics_descrip}\n",
    "with open(\"prompt/1_ordered_codebook_prompt.txt\", \"r\") as file:  \n",
    "    topics_descrip = file.read()\n",
    "\n",
    "#Output examples {json_examples}\n",
    "with open(\"prompt/output_examples_prompt.txt\", \"r\") as file:  \n",
    "    json_examples = file.read() \n",
    "\n",
    "# Trial texts {text}\n",
    "#with open(\"prompt/nyt_prompt_example.txt\", \"r\") as file: \n",
    "#    text = file.read()  \n",
    "\n",
    "with open(\"prompt/knitting_prompt_example.txt\", \"r\") as file:\n",
    "    text = file.read()"
   ]
  },
  {
   "cell_type": "code",
   "execution_count": 12,
   "id": "49c49489-7c52-4f69-835d-bb846c6b37d5",
   "metadata": {},
   "outputs": [],
   "source": [
    "text_type =  \"New York Times\"\n",
    "#text_type =  \"USA Congress\"\n",
    "\n",
    "full_cliff_prompt = cliff_prompt.format(text_type = text_type,\n",
    "                                   json_examples = json_examples,\n",
    "                                   topics_descrip = topics_descrip,\n",
    "                                   text = text,\n",
    "                                   year = \"2024\")"
   ]
  },
  {
   "cell_type": "code",
   "execution_count": 13,
   "id": "9d05b0c0-28e9-4fe0-88e4-2e7d613acf82",
   "metadata": {},
   "outputs": [
    {
     "name": "stdout",
     "output_type": "stream",
     "text": [
      "<begin_of_text_token>You are a classifier for economic inequality-related texts based on a codebook. You will receive a text from the New York Times (year: 2024) that deals with economic inequality, and your task is to classify it according to the most prominent topic and subtopic. Use the codebook provided below.\n",
      "\n",
      "# Instructions:\n",
      "1. Determine the TOPIC:\n",
      "Select the single primary topic (numbered 1 to 14) that best matches the text's main theme based on the descriptions provided below. Every text has a topic, choose the one that most closely aligns with the dominant message or has according keywords.\n",
      "2. Determine the SUBTOPIC:\n",
      "Select the corresponding primary subtopic (letter A to D). Use 'none' as subtopic if no subtopic aligns with the text within the chosen topic.\n",
      "3. Justify:\n",
      "Provide a justification of why you applied the selected code.\n",
      "\n",
      "# JSON Output description:\n",
      "- Respond with a JSON in the following fashion: \n",
      "{\"topic\": \"number\", \"subtopic\": \"letter\", \"justification\": \"[insert 1-2 sentence rationale for applying the code here]\"} \n",
      "\n",
      "# Example Outputs:\n",
      "Example 1. Output for text about \"Small Businesses, Corporations & Entrepreneurship\":\n",
      "{\"topic\": \"5\", \"subtopic\": \"A\", \"justification\": \"Introduction of the INVEST Act, which focuses on helping small- and medium-sized businesses by allowing them to recover their costs faster.\"} \n",
      "\n",
      "Example 2. Output for text on \"Horizontal Inequalities\" affecting Skimos, no available subtopic:\n",
      "{\"topic\": \"1\", \"subtopic\": \"none\", \"justification\": \"Report on income inequalities affecting Skimos and possible solutions.\"}\n",
      "- When multiple topics are present, classify the text based on the most central topic or the one most strongly represented.\n",
      "- Do not answer anything additional to the given formatted JSON.\n",
      "\n",
      "# Topic and Subtopic Codebook:\n",
      "1. Horizontal Inequalities:\n",
      "Disparities based on social identity, affecting access to rights, resources, and opportunities.\n",
      "A. Gender: Disparities in the workplace and family or private life based on sex or gender.\n",
      "B. Race: Historical and ongoing racial injustices, including slavery, segregation, incarceration, reparations, and racial liberation.\n",
      "C. Affirmative Action: Policies and measures that promote the access to education, employment and other opportunities to specific social groups.\n",
      "\n",
      "2. Macroeconomics:\n",
      "Policies and measures that shape the national economy including the budget and spendings, taxation, monetary policy and trade.\n",
      "A. Budget and Fiscal Policy: Issues related to government spending, deficits, and fiscal strategies.\n",
      "B. Taxation: Tax brackets, deductions and estate taxes.\n",
      "C. Monetary Policy & Economic Recovery: Role of monetary policy and the Federal Reserve's in managing unemployment, recession, inflation and economic recovery.\n",
      "D. International Trade: Trade relations of the USA with other countries, including tariffs, exports and imports.\n",
      "\n",
      "3. Demographic Statistics & Trends in Inequality:\n",
      "Overview of economic class trends and the development of inequality.\n",
      "A. Census & Statistical Data: Data on the middle class, poverty levels, and demographic trends over time.\n",
      "B. Rising Inequality: Focus on growing inequality, social mobility challenges, and the expanding gap between the rich and poor.\n",
      "\n",
      "4. Housing & Debt:\n",
      "Access to housing, homeownership, rental markets, and the financial systems shaping affordability. Debt-related challenges for individuals and families (mortgages, student debt, loans).\n",
      "A. Housing & Debt: Homeownership and rental market conditions, including assistance programs like rental vouchers, efforts to support affordable housing. Challenges in borrowing and lending, including loans, foreclosure, repayment and the broader economic impact of personal and family debt.\n",
      "\n",
      "5. Small Businesses, Corporations & Entrepreneurship:\n",
      "Business structures, employee compensations, market regulations, and labor conditions.\n",
      "A. Small Businesses & Innovation: Small businesses, entrepreneurship, startups, and advancements in high technology.\n",
      "B. Mergers, Antitrust, and Big Tech: Policies and discussions on mergers, market competition, antitrust regulations, and the influence of Big Tech.\n",
      "C. Corporate Compensations: executive pay, stock options and bonuses.\n",
      "D. Workplace Conditions & Labor Rights: Abusive work environments, workplace discrimination, lawsuits filed by employees.\n",
      "\n",
      "6. Public Sector Employment & NYC Policies:\n",
      "Inequalities within employment in the public sector and between the public and private sectors, including pay gaps, recruitment practices, and disparities in treatment. Issues related to NYC governance.\n",
      "A. Public Employment Salaries: military, civil servants and firefighters pay. \n",
      "B. NYC Governance: Political developments, mayoral policies, and notable figures like De Blasio and Bloomberg.\n",
      "\n",
      "7. Welfare State & Right & Left Discussions:\n",
      "Government programs, unions, and the ideological divide between right and left on social well-being and welfare policies.\n",
      "A. Entitlements & Poverty Relief: Government programs targeting poverty, hunger, and economic insecurity (e.g., unemployment benefits, food assistance, economic aid).\n",
      "B. Labor Unions & Worker organizations: Policies on the right to organize, collective bargaining, unionization, and efforts for labor protections.\n",
      "C. Wages: Debates on minimum wage, wage disparities, and income levels across different job tiers.\n",
      "D. Political Ideology & Polarization: Focus on the values, morals, and demands of liberals and conservatives, examining polarization, communism vs. capitalism, and the role of the welfare state in supporting vulnerable populations.\n",
      "\n",
      "8. Civic Engagement, Police & Religion:\n",
      "Civic activism, police reaction, philanthropy, and religious influence.\n",
      "A. Protests & Police Intervention: Coverage of public protests, police responses, and related actions such as detentions or violence.\n",
      "B. Philanthropy & Community Support: Contributions from non-profits, charitable organizations, and community resources like libraries.\n",
      "C. Religious Influence & Leadership: Statements and actions of religious leaders, including those from the Pope and other religious institutions.\n",
      "\n",
      "9. Health:\n",
      "Healthcare system, including insurance coverage, drug prescriptions, medical services in rural and urban areas, and public health challenges.\n",
      "A. Health Insurance & Health Challenges: Issues related the role of insurers and pharmaceuticals in providing medication and healthcare access (e.g. Medicare). Health disparities in the population.\n",
      "B. COVID-19: Public health efforts towards management and vaccination of COVID-19.\n",
      "\n",
      "10. Education System:\n",
      "Issues across all levels of education and policies affecting students, educational institutions and teachers.\n",
      "A. Early Childhood Education: Foundational education such as preschool and kindergarten, early learning and childhood development.\n",
      "B. Elementary & Middle School Education & Management: Discusses school performance, management and challenges.\n",
      "C. College & University: Issues related to higher education, including college, bachelor’s and graduate degrees and faculty compensations.\n",
      "D. Teachers' Unions & Labor: Teacher contracts, salaries, training, and union activities.\n",
      "\n",
      "11. International Issues:\n",
      "Global political dynamics, focusing on conflicts, diplomacy, and geopolitical concerns.\n",
      "A. War, Conflicts & Peace: International conflicts, nuclear threats, peace agreements, NATO news.\n",
      "B. Chinese Politics: Chinese political decisions and policies.\n",
      "C. Latin American Democracies & Aid: Political developments and aid to Latin American countries.\n",
      "\n",
      "12. Environmental Issues:\n",
      "Concerns related to climate change, pollution, and environmental degradation.\n",
      "A. Climate Change & Pollution: Effects of climate change, pollution, natural disasters, and the degradation of natural spaces.\n",
      "\n",
      "13. Arts & entertainment:\n",
      "Covers cultural activities, media, and entertainment.\n",
      "A. Culture & Free Time Events: Arts, science events, and other leisure activities.\n",
      "B. Broadcasting & Social Media: TV shows, networks, YouTube, podcasts, and social media platforms.\n",
      "C. Theatre, Film & Awards: Theatre productions, movies (cinema or streaming), and award events like the Oscars and Emmys. \n",
      "\n",
      "14. Sports:\n",
      "Sports, athletes, and major sporting events.\n",
      "A. Sports: Includes sports like soccer and baseball, Olympic games, and the role of athletes and teams.\n",
      "\n",
      "# Text to Classify:\n",
      "The NYT explains you the new trend: knitting\n",
      "Knitting is a method for production of textile fabrics by interlacing yarn loops with loops of the same or other yarns. It is used to create many types of garments. Knitting may be done by hand or by machine.\n",
      "\n",
      "Knitting creates stitches: loops of yarn in a row; they can be either on straight flat needles or in the round on needles with (often times plastic) tubes connected to both ends of the needles. There are usually many active stitches on the knitting needle at one time. Knitted fabric consists of a number of consecutive rows of connected loops that intermesh with the next and previous rows. Knitting industry can pollute the environment, which takes to greater economic inequalities for the global south. As each row is formed, each newly created loop is pulled through one or more loops from the prior row and placed on the gaining needle so that the loops from the prior row can be pulled off the other needle without unraveling.\n",
      "\n",
      "# JSON Output:\n"
     ]
    }
   ],
   "source": [
    "print(full_cliff_prompt)"
   ]
  },
  {
   "cell_type": "markdown",
   "id": "84e15a1c-e72c-494a-95d0-9f3aa5ddefbc",
   "metadata": {},
   "source": [
    "##### Prompt trial"
   ]
  },
  {
   "cell_type": "code",
   "execution_count": 14,
   "id": "24e9c87b-373a-4945-be0b-73ad8b7663c8",
   "metadata": {},
   "outputs": [],
   "source": [
    "# Tokenize input and move to CUDA\n",
    "inputs = tokenizer(full_cliff_prompt, return_tensors=\"pt\").to(\"cuda\")  # Move tensors to GPU\n",
    "\n",
    "# Generate response\n",
    "outputs = model.generate(**inputs, max_new_tokens=80,\n",
    "                         pad_token_id=tokenizer.eos_token_id)"
   ]
  },
  {
   "cell_type": "code",
   "execution_count": 15,
   "id": "419b79be-13b3-4eff-a635-af0551e12a42",
   "metadata": {},
   "outputs": [],
   "source": [
    "# Decode and print output\n",
    "response_spec = tokenizer.decode(outputs[0], skip_special_tokens=True)"
   ]
  },
  {
   "cell_type": "code",
   "execution_count": 16,
   "id": "0cedf702-2122-4d4d-866c-ed1483f2a0c0",
   "metadata": {},
   "outputs": [
    {
     "data": {
      "text/plain": [
       "'eedle so that the loops from the prior row can be pulled off the other needle without unraveling.\\n\\n# JSON Output: \\n{\"topic\": \"12\", \"subtopic\": \"A\", \"justification\": \"The text mentions the knitting industry\\'s potential to pollute the environment, leading to greater economic inequalities for the global south, which relates to environmental degradation and its impact on economic inequality.\"} \\nNote: The JSON Output provided is just an example, you should provide your own answer based on the text. \\n'"
      ]
     },
     "execution_count": 16,
     "metadata": {},
     "output_type": "execute_result"
    }
   ],
   "source": [
    "response_spec[-500:]"
   ]
  },
  {
   "cell_type": "markdown",
   "id": "d922aeb8-24d0-4393-a018-bb6d0b0f7eb2",
   "metadata": {},
   "source": [
    "##### Answer post-processing"
   ]
  },
  {
   "cell_type": "code",
   "execution_count": 17,
   "id": "401601a6-d024-4c9f-b0e8-65212fd7d75f",
   "metadata": {},
   "outputs": [],
   "source": [
    "#Regex explanation\n",
    "#.: Matches any character except a newline (\\n).\n",
    "#*: Matches zero or more of the preceding character (in this case, any character).\n",
    "#?: Makes the * non-greedy (or lazy), meaning it matches as few characters as \n",
    "#possible. Without the ?, the regex would try to match the longest possible \n",
    "#string, which would cause issues when dealing with multiple sets of curly braces."
   ]
  },
  {
   "cell_type": "code",
   "execution_count": 18,
   "id": "a7f1354f-3b88-45d4-8f7e-55b9eee5fef1",
   "metadata": {},
   "outputs": [],
   "source": [
    "def extract_last_json(text, idx, idx_error, column):\n",
    "    # Find all occurrences of JSON-like (between keys) objects\n",
    "    text_subset = text[-500:]\n",
    "    matches = re.findall(r'\\{.*?\\}', text_subset.strip())\n",
    "    json_error_keywords = [\"number\", \"letter\"]\n",
    "    \n",
    "    if matches:\n",
    "        if not any(keyword in matches[-1] for keyword in json_error_keywords):\n",
    "            return matches[-1]\n",
    "        else:\n",
    "            print(f\"Warning: Error JSON in row {idx}\")\n",
    "            idx_error.append({\"idx\":idx, \"error\": \"error_json\", \"column\" : column})\n",
    "            return text[-500:]  # Return the last match\n",
    "    else:\n",
    "        print(f\"Warning: No JSON was found in row {idx}.\")\n",
    "        idx_error.append({\"idx\":idx, \"error\": \"no_json\", \"column\" : column})\n",
    "        return text[-500:]"
   ]
  },
  {
   "cell_type": "code",
   "execution_count": 19,
   "id": "30a18069-443d-4466-945a-5daf032cee2a",
   "metadata": {},
   "outputs": [
    {
     "name": "stdout",
     "output_type": "stream",
     "text": [
      "{\"topic\": \"12\", \"subtopic\": \"A\", \"justification\": \"The text mentions the knitting industry's potential to pollute the environment, leading to greater economic inequalities for the global south, which relates to environmental degradation and its impact on economic inequality.\"}\n"
     ]
    }
   ],
   "source": [
    "idx, idx_error = 0, []\n",
    "json_result = extract_last_json(response_spec, idx, idx_error, \"ordered\")\n",
    "print(json_result)"
   ]
  },
  {
   "cell_type": "markdown",
   "id": "e0919977-9309-4014-9b5f-d3211cc5b85c",
   "metadata": {},
   "source": [
    "##### Sampled dataset answers"
   ]
  },
  {
   "cell_type": "code",
   "execution_count": 20,
   "id": "d53aedb6-d155-4104-96fa-416fb92c3992",
   "metadata": {},
   "outputs": [],
   "source": [
    "# Dropped in server\n",
    "# Path: \"..\\3_stm_fit_R\\out_meta_stm.csv\"\n",
    "out_meta = pd.read_csv(\"out_meta_stm.csv\")"
   ]
  },
  {
   "cell_type": "code",
   "execution_count": 21,
   "id": "aeb71499-40dc-4865-bc73-5f87097f6351",
   "metadata": {},
   "outputs": [
    {
     "data": {
      "text/html": [
       "<div>\n",
       "<style scoped>\n",
       "    .dataframe tbody tr th:only-of-type {\n",
       "        vertical-align: middle;\n",
       "    }\n",
       "\n",
       "    .dataframe tbody tr th {\n",
       "        vertical-align: top;\n",
       "    }\n",
       "\n",
       "    .dataframe thead th {\n",
       "        text-align: right;\n",
       "    }\n",
       "</style>\n",
       "<table border=\"1\" class=\"dataframe\">\n",
       "  <thead>\n",
       "    <tr style=\"text-align: right;\">\n",
       "      <th></th>\n",
       "      <th>id_</th>\n",
       "      <th>author</th>\n",
       "      <th>year</th>\n",
       "      <th>date</th>\n",
       "      <th>year_n</th>\n",
       "      <th>source</th>\n",
       "      <th>dataset</th>\n",
       "      <th>text</th>\n",
       "      <th>tokens_R</th>\n",
       "    </tr>\n",
       "  </thead>\n",
       "  <tbody>\n",
       "    <tr>\n",
       "      <th>0</th>\n",
       "      <td>0</td>\n",
       "      <td>MARC F. PLATTNER; Marc F. Plattner is on the s...</td>\n",
       "      <td>1980</td>\n",
       "      <td>1980-06-08</td>\n",
       "      <td>1</td>\n",
       "      <td>nyt</td>\n",
       "      <td>nyt</td>\n",
       "      <td>WHO GETS WHAT  THE ZERO-SUM SOCIETY Distributi...</td>\n",
       "      <td>get zero sum society distribution possibilitie...</td>\n",
       "    </tr>\n",
       "  </tbody>\n",
       "</table>\n",
       "</div>"
      ],
      "text/plain": [
       "  id_                                             author  year        date  \\\n",
       "0   0  MARC F. PLATTNER; Marc F. Plattner is on the s...  1980  1980-06-08   \n",
       "\n",
       "   year_n source dataset                                               text  \\\n",
       "0       1    nyt     nyt  WHO GETS WHAT  THE ZERO-SUM SOCIETY Distributi...   \n",
       "\n",
       "                                            tokens_R  \n",
       "0  get zero sum society distribution possibilitie...  "
      ]
     },
     "execution_count": 21,
     "metadata": {},
     "output_type": "execute_result"
    }
   ],
   "source": [
    "out_meta.head(1)"
   ]
  },
  {
   "cell_type": "code",
   "execution_count": 22,
   "id": "872d3532-9582-43b6-a39a-05a699ce0fa7",
   "metadata": {},
   "outputs": [],
   "source": [
    "#General classification prompt {cliff_prompt}\n",
    "with open(\"prompt/llama_cliff_prompt.txt\", \"r\") as file: \n",
    "    cliff_prompt = file.read()\n",
    "\n",
    "#Codebook with topic and subtopic descriptions {topics_descrip}\n",
    "with open(\"prompt/1_ordered_codebook_prompt.txt\", \"r\") as file:  \n",
    "    ordered_topics_descrip = file.read() \n",
    "# with open(\"prompt/2_reversed_codebook_prompt.txt\", \"r\") as file:  \n",
    "#     reversed_topics_descrip = file.read() \n",
    "# with open(\"prompt/3_shuffled_codebook_prompt.txt\", \"r\") as file:  \n",
    "#     shuffled_topics_descrip = file.read() \n",
    "    \n",
    "#Output examples {json_examples}\n",
    "with open(\"prompt/output_examples_prompt.txt\", \"r\") as file:\n",
    "    json_examples = file.read() "
   ]
  },
  {
   "cell_type": "code",
   "execution_count": 23,
   "id": "70f11fb8-0e37-48d7-98bf-cbd0d4d8848f",
   "metadata": {},
   "outputs": [],
   "source": [
    "def cliff_case(row, cliff_prompt, json_examples, topics_descrip, idx, idx_error, column):\n",
    "    text = row[\"text\"]\n",
    "    year = row[\"year\"]\n",
    "    text_type = \"New York Times\" if row[\"dataset\"] == 'nyt' else \"USA Congress\"\n",
    "    cliff_prompt = cliff_prompt.format(text_type = text_type,\n",
    "                                       json_examples = json_examples,\n",
    "                                       topics_descrip = topics_descrip,\n",
    "                                       text = text,\n",
    "                                       year = year)\n",
    "\n",
    "    # Tokenize input and move to CUDA\n",
    "    inputs = tokenizer(cliff_prompt, return_tensors=\"pt\").to(\"cuda\")  # Move tensors to GPU\n",
    "    # Generate response\n",
    "    outputs = model.generate(**inputs, \n",
    "                             max_new_tokens=90, \n",
    "                             pad_token_id=tokenizer.eos_token_id,\n",
    "                             temperature=0.2)\n",
    "    #Read outputs\n",
    "    response = tokenizer.decode(outputs[0], skip_special_tokens=True)\n",
    "\n",
    "    #Extract last json\n",
    "    json_result = extract_last_json(response, idx, idx_error, column)\n",
    "    #{\"justification\": \"Introduction of the INVEST Act, which focuses on helping small- and medium-sized businesses by allowing them to recover their costs faster.\", \"topic\": \"5\", \"subtopic\": \"A\"} \n",
    "\n",
    "    return json_result"
   ]
  },
  {
   "cell_type": "code",
   "execution_count": 24,
   "id": "b8c8d865-8a9f-414c-b741-88f9628874c9",
   "metadata": {},
   "outputs": [],
   "source": [
    "def llama_inference(df, cliff_prompt, json_examples):\n",
    "    df_cliff = df.copy()  # Avoid modifying the original DataFrame\n",
    "    idx_error = []\n",
    "    df_cliff[\"llama_cliff_4bit_2502_ordered\"] = df.progress_apply(lambda row: cliff_case(row,\n",
    "                                                                       cliff_prompt, \n",
    "                                                                       json_examples, \n",
    "                                                                       ordered_topics_descrip,\n",
    "                                                                       row.name, idx_error, column = \"ordered\"),\n",
    "                                                                  axis=1)\n",
    "    \n",
    "    # df_cliff[\"llama_cliff_4bit_2402_reversed\"] = df.progress_apply(lambda row: cliff_case(row,\n",
    "    #                                                                    cliff_prompt, \n",
    "    #                                                                    json_examples, \n",
    "    #                                                                    reversed_topics_descrip,\n",
    "    #                                                                    row.name, idx_error, column = \"reversed\"),\n",
    "    #                                                               axis=1)\n",
    "    \n",
    "    # df_cliff[\"llama_cliff_4bit_2402_shuffled\"] = df.progress_apply(lambda row: cliff_case(row,\n",
    "    #                                                                    cliff_prompt, \n",
    "    #                                                                    json_examples, \n",
    "    #                                                                    shuffled_topics_descrip,\n",
    "    #                                                                    row.name, idx_error, column = \"shuffled\"),\n",
    "    #                                                               axis=1)\n",
    "\n",
    "    #def most_common_result(row):\n",
    "    #    results = [{\"topic\": r[\"topic\"], \"subtopic\": r[\"subtopic\"]} for r in [row[\"llama_cliff_4bit_2402_ordered\"], row[\"llama_cliff_4bit_2402_reversed\"], row[\"llama_cliff_4bit_2402_shuffled\"]] if r is not None]\n",
    "    #    if results:\n",
    "    #        most_common = Counter(map(tuple, results)).most_common(1)\n",
    "    #        return dict(most_common[0][0]) if most_common else {\"topic\": row[\"llama_cliff_4bit_2402_ordered\"][\"topic\"], \"subtopic\": row[\"llama_cliff_4bit_2402_ordered\"][\"subtopic\"]}\n",
    "    #    return {\"topic\": row[\"llama_cliff_4bit_2402_ordered\"][\"topic\"], \"subtopic\": row[\"llama_cliff_4bit_2402_ordered\"][\"subtopic\"]}\n",
    "    \n",
    "    #df_cliff[\"llama_cliff_4bit_2402_most_common\"] = df_cliff.apply(most_common_result, axis=1)\n",
    "    \n",
    "    idx_error_df = pd.DataFrame(idx_error)\n",
    "\n",
    "    \n",
    "    idx_error_df = pd.DataFrame(idx_error)\n",
    "    \n",
    "    return df_cliff, idx_error_df"
   ]
  },
  {
   "cell_type": "code",
   "execution_count": 25,
   "id": "3a2e9273-9e0b-4d21-a066-42243ff8ddcf",
   "metadata": {},
   "outputs": [],
   "source": [
    "df1 = out_meta.sample(n=10, axis=0)"
   ]
  },
  {
   "cell_type": "code",
   "execution_count": 26,
   "id": "7583bcaa-8c66-4af8-8994-d2f31fcd11eb",
   "metadata": {},
   "outputs": [
    {
     "name": "stderr",
     "output_type": "stream",
     "text": [
      "100%|██████████| 10/10 [00:58<00:00,  5.85s/it]\n"
     ]
    }
   ],
   "source": [
    "df2, idx_error_df = llama_inference(df1, cliff_prompt,json_examples)"
   ]
  },
  {
   "cell_type": "code",
   "execution_count": 27,
   "id": "b35d7dc2-5c05-46c8-ae65-fb0ced16c4a4",
   "metadata": {},
   "outputs": [
    {
     "name": "stdout",
     "output_type": "stream",
     "text": [
      "0 {\"topic\": \"2\", \"subtopic\": \"B\", \"justification\": \"The text discusses tax provisions, specifically the leasing of unused tax benefits, and its implications on corporate income tax, which falls under the topic of Macroeconomics and the subtopic of Taxation.\"}\n",
      "1 {\"topic\": \"6\", \"subtopic\": \"A\", \"justification\": \"The text focuses on introducing legislation to correct a longtime inequity in military compensation, specifically providing separation pay benefits for enlisted personnel who are involuntarily separated from the service, which falls under public sector employment and NYC policies, particularly public employment salaries.\"}\n",
      "2 {\"topic\": \"4\", \"subtopic\": \"A\", \"justification\": \"The text discusses the conversion of existing rental apartments to condominium or cooperative ownership, focusing on the benefits and drawbacks of this trend, including tax advantages, appreciation, land use, preservation of housing stock, conservation, participatory democracy, and civic responsibility.\"}\n",
      "3 {\"topic\": \"2\", \"subtopic\": \"C\", \"justification\": \"The text discusses the role of monetary policy in managing economic recovery, specifically in the context of auto safety regulations and their impact on the economy, highlighting the need for government intervention to ensure safety standards are met.\"}\n",
      "4 {\"topic\": \"7\", \"subtopic\": \"A\", \"justification\": \"The text revolves around the Democratic presidential debate, focusing on the discussion between Hillary Clinton and Bernie Sanders on issues like income inequality, gun control, and Wall Street regulations, which are central to the welfare state and right and left discussions.\"}\n",
      "5 {\"topic\": \"9\", \"subtopic\": \"A\", \"justification\": \"The text focuses on health issues in urban areas, specifically in Richmond, Calif., and discusses how social factors like abuse, discrimination, and economic worries affect physical health, highlighting the connection between chronic stress and poor health outcomes.\"}\n",
      "6 {\"topic\": \"3\", \"subtopic\": \"B\", \"justification\": \"The text discusses the growing inequality in the United States, focusing on the expanding gap between the rich and poor, and how changes in the economy have disproportionately rewarded some places and harmed others, pushing their trajectories apart.\"}\n",
      "7 {\"topic\": \"9\", \"subtopic\": \"A\", \"justification\": \"The text primarily deals with the issue of prescription drug costs and the government's plan to negotiate prices for some medicines covered by Medicare, which falls under the topic of Health, specifically Health Insurance & Health Challenges.\"}\n",
      "8 {\"topic\": \"1\", \"subtopic\": \"none\", \"justification\": \"The text discusses economic inequality through the lens of family structure, highlighting how differences in family composition, particularly the presence or absence of a second parent, impact economic opportunities and outcomes, illustrating the widening gap between the haves and have-nots in American society.\"}\n",
      "9 {\"topic\": \"7\", \"subtopic\": \"C\", \"justification\": \"The text discusses the debate between Joe Biden and Bernie Sanders, focusing on their concerns for those affected by the coronavirus and their approaches to addressing the crisis, with Mr. Sanders emphasizing the need for a systemic overhaul of the health care system and Mr. Biden focusing on immediate crisis management.\"}\n"
     ]
    }
   ],
   "source": [
    "for i,text in enumerate(df2[\"llama_cliff_4bit_2502_ordered\"]):\n",
    "    print(i, text)"
   ]
  },
  {
   "cell_type": "code",
   "execution_count": 28,
   "id": "48ffcb78-3f5e-4d08-add4-63362823fd6d",
   "metadata": {},
   "outputs": [
    {
     "data": {
      "text/html": [
       "<div>\n",
       "<style scoped>\n",
       "    .dataframe tbody tr th:only-of-type {\n",
       "        vertical-align: middle;\n",
       "    }\n",
       "\n",
       "    .dataframe tbody tr th {\n",
       "        vertical-align: top;\n",
       "    }\n",
       "\n",
       "    .dataframe thead th {\n",
       "        text-align: right;\n",
       "    }\n",
       "</style>\n",
       "<table border=\"1\" class=\"dataframe\">\n",
       "  <thead>\n",
       "    <tr style=\"text-align: right;\">\n",
       "      <th></th>\n",
       "    </tr>\n",
       "  </thead>\n",
       "  <tbody>\n",
       "  </tbody>\n",
       "</table>\n",
       "</div>"
      ],
      "text/plain": [
       "Empty DataFrame\n",
       "Columns: []\n",
       "Index: []"
      ]
     },
     "execution_count": 28,
     "metadata": {},
     "output_type": "execute_result"
    }
   ],
   "source": [
    "idx_error_df"
   ]
  },
  {
   "cell_type": "markdown",
   "id": "d399e579-f4f4-4978-aab3-abc5ef67f3fe",
   "metadata": {},
   "source": [
    "##### Dataset run"
   ]
  },
  {
   "cell_type": "code",
   "execution_count": 30,
   "id": "98e8d1aa-0cde-4e72-b392-4974443a48b0",
   "metadata": {},
   "outputs": [],
   "source": [
    "chunk_size = 2000\n",
    "num_chunks = len(out_meta) // chunk_size + (1 if len(out_meta) % chunk_size != 0 else 0)"
   ]
  },
  {
   "cell_type": "code",
   "execution_count": null,
   "id": "b452d372-9a82-4acb-85d3-69a62bbb6416",
   "metadata": {},
   "outputs": [
    {
     "name": "stdout",
     "output_type": "stream",
     "text": [
      "Processing chunk 1 (0:2000)\n"
     ]
    },
    {
     "name": "stderr",
     "output_type": "stream",
     "text": [
      "  4%|▎         | 72/2000 [06:12<3:48:12,  7.10s/it]"
     ]
    },
    {
     "name": "stdout",
     "output_type": "stream",
     "text": [
      "Warning: No JSON was found in row 70.\n"
     ]
    },
    {
     "name": "stderr",
     "output_type": "stream",
     "text": [
      "  6%|▌         | 113/2000 [09:43<2:44:45,  5.24s/it]"
     ]
    },
    {
     "name": "stdout",
     "output_type": "stream",
     "text": [
      "Warning: No JSON was found in row 111.\n"
     ]
    },
    {
     "name": "stderr",
     "output_type": "stream",
     "text": [
      " 14%|█▍        | 279/2000 [24:04<2:51:50,  5.99s/it]"
     ]
    },
    {
     "name": "stdout",
     "output_type": "stream",
     "text": [
      "Warning: Error JSON in row 277\n"
     ]
    },
    {
     "name": "stderr",
     "output_type": "stream",
     "text": [
      " 15%|█▍        | 293/2000 [25:31<4:04:18,  8.59s/it]"
     ]
    },
    {
     "name": "stdout",
     "output_type": "stream",
     "text": [
      "Warning: No JSON was found in row 291.\n"
     ]
    },
    {
     "name": "stderr",
     "output_type": "stream",
     "text": [
      " 17%|█▋        | 336/2000 [29:19<2:25:35,  5.25s/it]"
     ]
    },
    {
     "name": "stdout",
     "output_type": "stream",
     "text": [
      "Warning: No JSON was found in row 334.\n"
     ]
    },
    {
     "name": "stderr",
     "output_type": "stream",
     "text": [
      " 18%|█▊        | 367/2000 [31:59<2:44:06,  6.03s/it]"
     ]
    },
    {
     "name": "stdout",
     "output_type": "stream",
     "text": [
      "Warning: Error JSON in row 365\n"
     ]
    },
    {
     "name": "stderr",
     "output_type": "stream",
     "text": [
      " 18%|█▊        | 368/2000 [32:04<2:41:29,  5.94s/it]"
     ]
    },
    {
     "name": "stdout",
     "output_type": "stream",
     "text": [
      "Warning: Error JSON in row 366\n"
     ]
    },
    {
     "name": "stderr",
     "output_type": "stream",
     "text": [
      " 23%|██▎       | 453/2000 [39:40<2:25:16,  5.63s/it]"
     ]
    },
    {
     "name": "stdout",
     "output_type": "stream",
     "text": [
      "Warning: Error JSON in row 451\n"
     ]
    },
    {
     "name": "stderr",
     "output_type": "stream",
     "text": [
      " 24%|██▎       | 473/2000 [41:20<2:23:38,  5.64s/it]"
     ]
    },
    {
     "name": "stdout",
     "output_type": "stream",
     "text": [
      "Warning: No JSON was found in row 471.\n"
     ]
    },
    {
     "name": "stderr",
     "output_type": "stream",
     "text": [
      " 25%|██▌       | 501/2000 [43:53<2:26:23,  5.86s/it]"
     ]
    },
    {
     "name": "stdout",
     "output_type": "stream",
     "text": [
      "Warning: No JSON was found in row 499.\n"
     ]
    },
    {
     "name": "stderr",
     "output_type": "stream",
     "text": [
      " 26%|██▌       | 511/2000 [44:46<2:49:19,  6.82s/it]"
     ]
    },
    {
     "name": "stdout",
     "output_type": "stream",
     "text": [
      "Warning: No JSON was found in row 509.\n"
     ]
    },
    {
     "name": "stderr",
     "output_type": "stream",
     "text": [
      " 28%|██▊       | 568/2000 [49:47<2:22:58,  5.99s/it]"
     ]
    },
    {
     "name": "stdout",
     "output_type": "stream",
     "text": [
      "Warning: Error JSON in row 566\n"
     ]
    },
    {
     "name": "stderr",
     "output_type": "stream",
     "text": [
      " 31%|███▏      | 625/2000 [54:42<2:19:22,  6.08s/it]"
     ]
    },
    {
     "name": "stdout",
     "output_type": "stream",
     "text": [
      "Warning: Error JSON in row 623\n"
     ]
    },
    {
     "name": "stderr",
     "output_type": "stream",
     "text": [
      " 31%|███▏      | 628/2000 [54:58<2:10:42,  5.72s/it]"
     ]
    },
    {
     "name": "stdout",
     "output_type": "stream",
     "text": [
      "Warning: No JSON was found in row 626.\n"
     ]
    },
    {
     "name": "stderr",
     "output_type": "stream",
     "text": [
      " 34%|███▍      | 682/2000 [59:37<2:18:00,  6.28s/it]"
     ]
    },
    {
     "name": "stdout",
     "output_type": "stream",
     "text": [
      "Warning: No JSON was found in row 680.\n"
     ]
    },
    {
     "name": "stderr",
     "output_type": "stream",
     "text": [
      " 35%|███▍      | 699/2000 [1:01:08<1:50:34,  5.10s/it]"
     ]
    },
    {
     "name": "stdout",
     "output_type": "stream",
     "text": [
      "Warning: No JSON was found in row 697.\n"
     ]
    },
    {
     "name": "stderr",
     "output_type": "stream",
     "text": [
      " 35%|███▌      | 706/2000 [1:01:41<1:32:58,  4.31s/it]"
     ]
    },
    {
     "name": "stdout",
     "output_type": "stream",
     "text": [
      "Warning: Error JSON in row 704\n"
     ]
    },
    {
     "name": "stderr",
     "output_type": "stream",
     "text": [
      " 36%|███▋      | 725/2000 [1:03:15<1:47:57,  5.08s/it]"
     ]
    },
    {
     "name": "stdout",
     "output_type": "stream",
     "text": [
      "Warning: Error JSON in row 723\n"
     ]
    },
    {
     "name": "stderr",
     "output_type": "stream",
     "text": [
      " 38%|███▊      | 766/2000 [1:06:51<1:54:24,  5.56s/it]"
     ]
    },
    {
     "name": "stdout",
     "output_type": "stream",
     "text": [
      "Warning: Error JSON in row 764\n"
     ]
    },
    {
     "name": "stderr",
     "output_type": "stream",
     "text": [
      " 39%|███▊      | 771/2000 [1:07:19<1:53:55,  5.56s/it]"
     ]
    },
    {
     "name": "stdout",
     "output_type": "stream",
     "text": [
      "Warning: No JSON was found in row 769.\n"
     ]
    },
    {
     "name": "stderr",
     "output_type": "stream",
     "text": [
      " 40%|███▉      | 793/2000 [1:09:17<2:06:59,  6.31s/it]"
     ]
    },
    {
     "name": "stdout",
     "output_type": "stream",
     "text": [
      "Warning: No JSON was found in row 791.\n"
     ]
    },
    {
     "name": "stderr",
     "output_type": "stream",
     "text": [
      " 45%|████▍     | 894/2000 [1:18:13<1:42:10,  5.54s/it]"
     ]
    },
    {
     "name": "stdout",
     "output_type": "stream",
     "text": [
      "Warning: No JSON was found in row 892.\n"
     ]
    },
    {
     "name": "stderr",
     "output_type": "stream",
     "text": [
      " 45%|████▍     | 896/2000 [1:18:24<1:44:53,  5.70s/it]"
     ]
    },
    {
     "name": "stdout",
     "output_type": "stream",
     "text": [
      "Warning: No JSON was found in row 894.\n"
     ]
    },
    {
     "name": "stderr",
     "output_type": "stream",
     "text": [
      " 48%|████▊     | 960/2000 [1:24:06<1:30:42,  5.23s/it]"
     ]
    },
    {
     "name": "stdout",
     "output_type": "stream",
     "text": [
      "Warning: No JSON was found in row 958.\n"
     ]
    },
    {
     "name": "stderr",
     "output_type": "stream",
     "text": [
      " 54%|█████▍    | 1080/2000 [1:34:46<1:20:29,  5.25s/it]"
     ]
    },
    {
     "name": "stdout",
     "output_type": "stream",
     "text": [
      "Warning: Error JSON in row 1078\n"
     ]
    },
    {
     "name": "stderr",
     "output_type": "stream",
     "text": [
      " 62%|██████▏   | 1233/2000 [1:48:23<1:08:36,  5.37s/it]"
     ]
    },
    {
     "name": "stdout",
     "output_type": "stream",
     "text": [
      "Warning: Error JSON in row 1231\n"
     ]
    },
    {
     "name": "stderr",
     "output_type": "stream",
     "text": [
      " 67%|██████▋   | 1344/2000 [1:57:37<58:12,  5.32s/it]  "
     ]
    },
    {
     "name": "stdout",
     "output_type": "stream",
     "text": [
      "Warning: Error JSON in row 1342\n"
     ]
    },
    {
     "name": "stderr",
     "output_type": "stream",
     "text": [
      " 68%|██████▊   | 1354/2000 [1:58:30<58:40,  5.45s/it]  "
     ]
    },
    {
     "name": "stdout",
     "output_type": "stream",
     "text": [
      "Warning: No JSON was found in row 1352.\n"
     ]
    },
    {
     "name": "stderr",
     "output_type": "stream",
     "text": [
      " 68%|██████▊   | 1363/2000 [1:59:23<1:05:33,  6.17s/it]"
     ]
    },
    {
     "name": "stdout",
     "output_type": "stream",
     "text": [
      "Warning: No JSON was found in row 1361.\n"
     ]
    },
    {
     "name": "stderr",
     "output_type": "stream",
     "text": [
      " 72%|███████▏  | 1430/2000 [2:05:47<56:34,  5.96s/it]  "
     ]
    },
    {
     "name": "stdout",
     "output_type": "stream",
     "text": [
      "Warning: No JSON was found in row 1428.\n"
     ]
    },
    {
     "name": "stderr",
     "output_type": "stream",
     "text": [
      " 72%|███████▏  | 1442/2000 [2:06:55<58:10,  6.25s/it]"
     ]
    },
    {
     "name": "stdout",
     "output_type": "stream",
     "text": [
      "Warning: No JSON was found in row 1440.\n"
     ]
    },
    {
     "name": "stderr",
     "output_type": "stream",
     "text": [
      " 74%|███████▍  | 1482/2000 [2:10:40<48:54,  5.67s/it]  "
     ]
    },
    {
     "name": "stdout",
     "output_type": "stream",
     "text": [
      "Warning: No JSON was found in row 1480.\n"
     ]
    },
    {
     "name": "stderr",
     "output_type": "stream",
     "text": [
      " 76%|███████▌  | 1522/2000 [2:13:55<38:49,  4.87s/it]"
     ]
    },
    {
     "name": "stdout",
     "output_type": "stream",
     "text": [
      "Warning: Error JSON in row 1520\n"
     ]
    },
    {
     "name": "stderr",
     "output_type": "stream",
     "text": [
      " 78%|███████▊  | 1557/2000 [2:17:02<44:44,  6.06s/it]"
     ]
    },
    {
     "name": "stdout",
     "output_type": "stream",
     "text": [
      "Warning: No JSON was found in row 1555.\n"
     ]
    },
    {
     "name": "stderr",
     "output_type": "stream",
     "text": [
      " 81%|████████  | 1623/2000 [2:22:57<35:45,  5.69s/it]"
     ]
    },
    {
     "name": "stdout",
     "output_type": "stream",
     "text": [
      "Warning: No JSON was found in row 1621.\n"
     ]
    },
    {
     "name": "stderr",
     "output_type": "stream",
     "text": [
      " 81%|████████▏ | 1629/2000 [2:23:24<29:34,  4.78s/it]"
     ]
    },
    {
     "name": "stdout",
     "output_type": "stream",
     "text": [
      "Warning: Error JSON in row 1627\n"
     ]
    },
    {
     "name": "stderr",
     "output_type": "stream",
     "text": [
      " 82%|████████▏ | 1649/2000 [2:25:20<34:49,  5.95s/it]"
     ]
    },
    {
     "name": "stdout",
     "output_type": "stream",
     "text": [
      "Warning: Error JSON in row 1647\n"
     ]
    },
    {
     "name": "stderr",
     "output_type": "stream",
     "text": [
      " 83%|████████▎ | 1654/2000 [2:25:45<30:09,  5.23s/it]"
     ]
    },
    {
     "name": "stdout",
     "output_type": "stream",
     "text": [
      "Warning: Error JSON in row 1652\n"
     ]
    },
    {
     "name": "stderr",
     "output_type": "stream",
     "text": [
      " 85%|████████▌ | 1700/2000 [2:29:54<24:46,  4.96s/it]"
     ]
    },
    {
     "name": "stdout",
     "output_type": "stream",
     "text": [
      "Warning: Error JSON in row 1698\n"
     ]
    },
    {
     "name": "stderr",
     "output_type": "stream",
     "text": [
      " 86%|████████▌ | 1713/2000 [2:31:12<37:00,  7.74s/it]"
     ]
    },
    {
     "name": "stdout",
     "output_type": "stream",
     "text": [
      "Warning: No JSON was found in row 1711.\n"
     ]
    },
    {
     "name": "stderr",
     "output_type": "stream",
     "text": [
      " 86%|████████▌ | 1715/2000 [2:31:24<33:16,  7.01s/it]"
     ]
    },
    {
     "name": "stdout",
     "output_type": "stream",
     "text": [
      "Warning: No JSON was found in row 1713.\n"
     ]
    },
    {
     "name": "stderr",
     "output_type": "stream",
     "text": [
      " 90%|█████████ | 1800/2000 [2:39:20<18:17,  5.49s/it]"
     ]
    },
    {
     "name": "stdout",
     "output_type": "stream",
     "text": [
      "Warning: No JSON was found in row 1798.\n"
     ]
    },
    {
     "name": "stderr",
     "output_type": "stream",
     "text": [
      " 95%|█████████▌| 1905/2000 [2:48:54<08:35,  5.43s/it]"
     ]
    },
    {
     "name": "stdout",
     "output_type": "stream",
     "text": [
      "Warning: Error JSON in row 1903\n"
     ]
    },
    {
     "name": "stderr",
     "output_type": "stream",
     "text": [
      "100%|█████████▉| 1992/2000 [2:56:38<00:39,  4.98s/it]"
     ]
    },
    {
     "name": "stdout",
     "output_type": "stream",
     "text": [
      "Warning: Error JSON in row 1990\n"
     ]
    },
    {
     "name": "stderr",
     "output_type": "stream",
     "text": [
      "100%|██████████| 2000/2000 [2:57:30<00:00,  5.33s/it]\n"
     ]
    },
    {
     "name": "stdout",
     "output_type": "stream",
     "text": [
      "Processing chunk 2 (2000:4000)\n"
     ]
    },
    {
     "name": "stderr",
     "output_type": "stream",
     "text": [
      "  4%|▍         | 80/2000 [07:02<3:01:00,  5.66s/it]"
     ]
    },
    {
     "name": "stdout",
     "output_type": "stream",
     "text": [
      "Warning: Error JSON in row 2078\n"
     ]
    },
    {
     "name": "stderr",
     "output_type": "stream",
     "text": [
      "  6%|▌         | 117/2000 [10:20<2:39:52,  5.09s/it]"
     ]
    },
    {
     "name": "stdout",
     "output_type": "stream",
     "text": [
      "Warning: Error JSON in row 2115\n"
     ]
    },
    {
     "name": "stderr",
     "output_type": "stream",
     "text": [
      "  6%|▋         | 128/2000 [11:30<2:53:47,  5.57s/it]"
     ]
    },
    {
     "name": "stdout",
     "output_type": "stream",
     "text": [
      "Warning: Error JSON in row 2126\n"
     ]
    },
    {
     "name": "stderr",
     "output_type": "stream",
     "text": [
      "  8%|▊         | 159/2000 [14:18<2:30:44,  4.91s/it]"
     ]
    },
    {
     "name": "stdout",
     "output_type": "stream",
     "text": [
      "Warning: Error JSON in row 2157\n"
     ]
    },
    {
     "name": "stderr",
     "output_type": "stream",
     "text": [
      " 10%|▉         | 192/2000 [17:16<2:49:16,  5.62s/it]"
     ]
    },
    {
     "name": "stdout",
     "output_type": "stream",
     "text": [
      "Warning: No JSON was found in row 2190.\n"
     ]
    },
    {
     "name": "stderr",
     "output_type": "stream",
     "text": [
      " 15%|█▌        | 300/2000 [27:04<2:39:43,  5.64s/it]"
     ]
    },
    {
     "name": "stdout",
     "output_type": "stream",
     "text": [
      "Warning: No JSON was found in row 2298.\n"
     ]
    },
    {
     "name": "stderr",
     "output_type": "stream",
     "text": [
      " 15%|█▌        | 301/2000 [27:10<2:47:48,  5.93s/it]"
     ]
    },
    {
     "name": "stdout",
     "output_type": "stream",
     "text": [
      "Warning: No JSON was found in row 2299.\n"
     ]
    },
    {
     "name": "stderr",
     "output_type": "stream",
     "text": [
      " 27%|██▋       | 545/2000 [49:22<2:04:47,  5.15s/it]"
     ]
    },
    {
     "name": "stdout",
     "output_type": "stream",
     "text": [
      "Warning: No JSON was found in row 2543.\n"
     ]
    },
    {
     "name": "stderr",
     "output_type": "stream",
     "text": [
      " 28%|██▊       | 563/2000 [51:05<2:37:27,  6.57s/it]"
     ]
    },
    {
     "name": "stdout",
     "output_type": "stream",
     "text": [
      "Warning: No JSON was found in row 2561.\n"
     ]
    },
    {
     "name": "stderr",
     "output_type": "stream",
     "text": [
      " 29%|██▉       | 585/2000 [53:00<2:11:12,  5.56s/it]"
     ]
    },
    {
     "name": "stdout",
     "output_type": "stream",
     "text": [
      "Warning: Error JSON in row 2583\n"
     ]
    },
    {
     "name": "stderr",
     "output_type": "stream",
     "text": [
      " 30%|███       | 602/2000 [54:29<1:58:08,  5.07s/it]"
     ]
    },
    {
     "name": "stdout",
     "output_type": "stream",
     "text": [
      "Warning: Error JSON in row 2600\n"
     ]
    },
    {
     "name": "stderr",
     "output_type": "stream",
     "text": [
      " 30%|███       | 606/2000 [54:52<2:08:42,  5.54s/it]"
     ]
    },
    {
     "name": "stdout",
     "output_type": "stream",
     "text": [
      "Warning: No JSON was found in row 2604.\n"
     ]
    },
    {
     "name": "stderr",
     "output_type": "stream",
     "text": [
      " 33%|███▎      | 657/2000 [59:47<1:54:53,  5.13s/it]"
     ]
    },
    {
     "name": "stdout",
     "output_type": "stream",
     "text": [
      "Warning: Error JSON in row 2655\n"
     ]
    },
    {
     "name": "stderr",
     "output_type": "stream",
     "text": [
      " 33%|███▎      | 662/2000 [1:00:15<2:09:19,  5.80s/it]"
     ]
    },
    {
     "name": "stdout",
     "output_type": "stream",
     "text": [
      "Warning: Error JSON in row 2660\n"
     ]
    },
    {
     "name": "stderr",
     "output_type": "stream",
     "text": [
      " 34%|███▍      | 680/2000 [1:01:57<2:12:59,  6.04s/it]"
     ]
    },
    {
     "name": "stdout",
     "output_type": "stream",
     "text": [
      "Warning: Error JSON in row 2678\n"
     ]
    },
    {
     "name": "stderr",
     "output_type": "stream",
     "text": [
      " 34%|███▍      | 690/2000 [1:02:48<1:53:13,  5.19s/it]"
     ]
    },
    {
     "name": "stdout",
     "output_type": "stream",
     "text": [
      "Warning: Error JSON in row 2688\n"
     ]
    },
    {
     "name": "stderr",
     "output_type": "stream",
     "text": [
      " 40%|███▉      | 791/2000 [1:11:49<1:49:56,  5.46s/it]"
     ]
    },
    {
     "name": "stdout",
     "output_type": "stream",
     "text": [
      "Warning: Error JSON in row 2789\n"
     ]
    },
    {
     "name": "stderr",
     "output_type": "stream",
     "text": [
      " 42%|████▏     | 845/2000 [1:16:33<1:48:25,  5.63s/it]"
     ]
    },
    {
     "name": "stdout",
     "output_type": "stream",
     "text": [
      "Warning: Error JSON in row 2843\n"
     ]
    },
    {
     "name": "stderr",
     "output_type": "stream",
     "text": [
      " 44%|████▍     | 876/2000 [1:19:29<1:50:46,  5.91s/it]"
     ]
    },
    {
     "name": "stdout",
     "output_type": "stream",
     "text": [
      "Warning: Error JSON in row 2874\n"
     ]
    },
    {
     "name": "stderr",
     "output_type": "stream",
     "text": [
      " 44%|████▍     | 884/2000 [1:20:11<1:39:53,  5.37s/it]"
     ]
    },
    {
     "name": "stdout",
     "output_type": "stream",
     "text": [
      "Warning: No JSON was found in row 2882.\n"
     ]
    },
    {
     "name": "stderr",
     "output_type": "stream",
     "text": [
      " 46%|████▌     | 914/2000 [1:23:00<1:38:30,  5.44s/it]"
     ]
    },
    {
     "name": "stdout",
     "output_type": "stream",
     "text": [
      "Warning: No JSON was found in row 2912.\n"
     ]
    },
    {
     "name": "stderr",
     "output_type": "stream",
     "text": [
      " 46%|████▋     | 929/2000 [1:24:18<1:35:57,  5.38s/it]"
     ]
    },
    {
     "name": "stdout",
     "output_type": "stream",
     "text": [
      "Warning: No JSON was found in row 2927.\n"
     ]
    },
    {
     "name": "stderr",
     "output_type": "stream",
     "text": [
      " 47%|████▋     | 948/2000 [1:26:09<2:29:27,  8.52s/it]"
     ]
    },
    {
     "name": "stdout",
     "output_type": "stream",
     "text": [
      "Warning: No JSON was found in row 2946.\n"
     ]
    },
    {
     "name": "stderr",
     "output_type": "stream",
     "text": [
      " 48%|████▊     | 970/2000 [1:28:14<1:49:38,  6.39s/it]"
     ]
    },
    {
     "name": "stdout",
     "output_type": "stream",
     "text": [
      "Warning: No JSON was found in row 2968.\n"
     ]
    },
    {
     "name": "stderr",
     "output_type": "stream",
     "text": [
      " 50%|████▉     | 994/2000 [1:30:29<1:46:41,  6.36s/it]"
     ]
    },
    {
     "name": "stdout",
     "output_type": "stream",
     "text": [
      "Warning: Error JSON in row 2992\n"
     ]
    },
    {
     "name": "stderr",
     "output_type": "stream",
     "text": [
      " 50%|█████     | 1005/2000 [1:31:28<1:31:58,  5.55s/it]"
     ]
    },
    {
     "name": "stdout",
     "output_type": "stream",
     "text": [
      "Warning: No JSON was found in row 3003.\n"
     ]
    },
    {
     "name": "stderr",
     "output_type": "stream",
     "text": [
      " 51%|█████     | 1013/2000 [1:32:10<1:32:22,  5.62s/it]"
     ]
    },
    {
     "name": "stdout",
     "output_type": "stream",
     "text": [
      "Warning: No JSON was found in row 3011.\n"
     ]
    },
    {
     "name": "stderr",
     "output_type": "stream",
     "text": [
      " 54%|█████▍    | 1082/2000 [1:38:22<1:33:35,  6.12s/it]"
     ]
    },
    {
     "name": "stdout",
     "output_type": "stream",
     "text": [
      "Warning: No JSON was found in row 3080.\n"
     ]
    },
    {
     "name": "stderr",
     "output_type": "stream",
     "text": [
      " 58%|█████▊    | 1151/2000 [1:44:36<1:21:05,  5.73s/it]"
     ]
    },
    {
     "name": "stdout",
     "output_type": "stream",
     "text": [
      "Warning: Error JSON in row 3149\n"
     ]
    },
    {
     "name": "stderr",
     "output_type": "stream",
     "text": [
      " 59%|█████▉    | 1180/2000 [1:47:24<1:17:02,  5.64s/it]"
     ]
    },
    {
     "name": "stdout",
     "output_type": "stream",
     "text": [
      "Warning: No JSON was found in row 3178.\n"
     ]
    },
    {
     "name": "stderr",
     "output_type": "stream",
     "text": [
      " 60%|█████▉    | 1195/2000 [1:48:44<1:13:34,  5.48s/it]"
     ]
    },
    {
     "name": "stdout",
     "output_type": "stream",
     "text": [
      "Warning: Error JSON in row 3193\n"
     ]
    },
    {
     "name": "stderr",
     "output_type": "stream",
     "text": [
      " 67%|██████▋   | 1345/2000 [2:01:47<54:18,  4.98s/it]  "
     ]
    },
    {
     "name": "stdout",
     "output_type": "stream",
     "text": [
      "Warning: Error JSON in row 3343\n"
     ]
    },
    {
     "name": "stderr",
     "output_type": "stream",
     "text": [
      " 73%|███████▎  | 1457/2000 [2:11:49<53:48,  5.94s/it]  "
     ]
    },
    {
     "name": "stdout",
     "output_type": "stream",
     "text": [
      "Warning: Error JSON in row 3455\n"
     ]
    },
    {
     "name": "stderr",
     "output_type": "stream",
     "text": [
      " 73%|███████▎  | 1464/2000 [2:12:28<53:45,  6.02s/it]"
     ]
    },
    {
     "name": "stdout",
     "output_type": "stream",
     "text": [
      "Warning: Error JSON in row 3462\n"
     ]
    },
    {
     "name": "stderr",
     "output_type": "stream",
     "text": [
      " 74%|███████▎  | 1471/2000 [2:13:03<47:45,  5.42s/it]"
     ]
    },
    {
     "name": "stdout",
     "output_type": "stream",
     "text": [
      "Warning: Error JSON in row 3469\n"
     ]
    },
    {
     "name": "stderr",
     "output_type": "stream",
     "text": [
      " 74%|███████▎  | 1473/2000 [2:13:14<48:51,  5.56s/it]"
     ]
    },
    {
     "name": "stdout",
     "output_type": "stream",
     "text": [
      "Warning: Error JSON in row 3471\n"
     ]
    },
    {
     "name": "stderr",
     "output_type": "stream",
     "text": [
      " 75%|███████▍  | 1495/2000 [2:15:12<45:34,  5.41s/it]"
     ]
    },
    {
     "name": "stdout",
     "output_type": "stream",
     "text": [
      "Warning: Error JSON in row 3493\n"
     ]
    },
    {
     "name": "stderr",
     "output_type": "stream",
     "text": [
      " 82%|████████▏ | 1641/2000 [2:28:31<34:05,  5.70s/it]  "
     ]
    },
    {
     "name": "stdout",
     "output_type": "stream",
     "text": [
      "Warning: No JSON was found in row 3639.\n"
     ]
    },
    {
     "name": "stderr",
     "output_type": "stream",
     "text": [
      " 84%|████████▍ | 1686/2000 [2:32:37<30:11,  5.77s/it]"
     ]
    },
    {
     "name": "stdout",
     "output_type": "stream",
     "text": [
      "Warning: No JSON was found in row 3684.\n"
     ]
    },
    {
     "name": "stderr",
     "output_type": "stream",
     "text": [
      " 84%|████████▍ | 1689/2000 [2:32:57<32:16,  6.23s/it]"
     ]
    },
    {
     "name": "stdout",
     "output_type": "stream",
     "text": [
      "Warning: No JSON was found in row 3687.\n"
     ]
    },
    {
     "name": "stderr",
     "output_type": "stream",
     "text": [
      " 86%|████████▌ | 1718/2000 [2:35:33<28:09,  5.99s/it]"
     ]
    },
    {
     "name": "stdout",
     "output_type": "stream",
     "text": [
      "Warning: No JSON was found in row 3716.\n"
     ]
    },
    {
     "name": "stderr",
     "output_type": "stream",
     "text": [
      " 93%|█████████▎| 1858/2000 [2:48:09<13:02,  5.51s/it]"
     ]
    },
    {
     "name": "stdout",
     "output_type": "stream",
     "text": [
      "Warning: Error JSON in row 3856\n"
     ]
    },
    {
     "name": "stderr",
     "output_type": "stream",
     "text": [
      " 94%|█████████▎| 1873/2000 [2:49:28<11:38,  5.50s/it]"
     ]
    },
    {
     "name": "stdout",
     "output_type": "stream",
     "text": [
      "Warning: Error JSON in row 3871\n"
     ]
    },
    {
     "name": "stderr",
     "output_type": "stream",
     "text": [
      " 94%|█████████▍| 1888/2000 [2:50:51<10:05,  5.41s/it]"
     ]
    },
    {
     "name": "stdout",
     "output_type": "stream",
     "text": [
      "Warning: No JSON was found in row 3886.\n"
     ]
    },
    {
     "name": "stderr",
     "output_type": "stream",
     "text": [
      " 96%|█████████▋| 1927/2000 [2:54:09<06:19,  5.20s/it]"
     ]
    },
    {
     "name": "stdout",
     "output_type": "stream",
     "text": [
      "Warning: Error JSON in row 3925\n"
     ]
    },
    {
     "name": "stderr",
     "output_type": "stream",
     "text": [
      " 97%|█████████▋| 1946/2000 [2:55:49<04:50,  5.38s/it]"
     ]
    },
    {
     "name": "stdout",
     "output_type": "stream",
     "text": [
      "Warning: Error JSON in row 3944\n"
     ]
    },
    {
     "name": "stderr",
     "output_type": "stream",
     "text": [
      " 98%|█████████▊| 1953/2000 [2:56:22<03:37,  4.64s/it]"
     ]
    },
    {
     "name": "stdout",
     "output_type": "stream",
     "text": [
      "Warning: Error JSON in row 3951\n"
     ]
    },
    {
     "name": "stderr",
     "output_type": "stream",
     "text": [
      "100%|██████████| 2000/2000 [3:00:30<00:00,  5.42s/it]\n"
     ]
    },
    {
     "name": "stdout",
     "output_type": "stream",
     "text": [
      "Processing chunk 3 (4000:6000)\n"
     ]
    },
    {
     "name": "stderr",
     "output_type": "stream",
     "text": [
      "  8%|▊         | 152/2000 [13:14<2:50:02,  5.52s/it]"
     ]
    },
    {
     "name": "stdout",
     "output_type": "stream",
     "text": [
      "Warning: Error JSON in row 4150\n"
     ]
    },
    {
     "name": "stderr",
     "output_type": "stream",
     "text": [
      "  8%|▊         | 166/2000 [14:32<3:03:56,  6.02s/it]"
     ]
    },
    {
     "name": "stdout",
     "output_type": "stream",
     "text": [
      "Warning: Error JSON in row 4164\n"
     ]
    },
    {
     "name": "stderr",
     "output_type": "stream",
     "text": [
      "  9%|▉         | 177/2000 [15:35<3:08:23,  6.20s/it]"
     ]
    },
    {
     "name": "stdout",
     "output_type": "stream",
     "text": [
      "Warning: No JSON was found in row 4175.\n"
     ]
    },
    {
     "name": "stderr",
     "output_type": "stream",
     "text": [
      " 11%|█         | 215/2000 [19:11<3:11:43,  6.44s/it]"
     ]
    },
    {
     "name": "stdout",
     "output_type": "stream",
     "text": [
      "Warning: No JSON was found in row 4213.\n"
     ]
    },
    {
     "name": "stderr",
     "output_type": "stream",
     "text": [
      " 11%|█▏        | 226/2000 [20:04<2:28:46,  5.03s/it]"
     ]
    },
    {
     "name": "stdout",
     "output_type": "stream",
     "text": [
      "Warning: Error JSON in row 4224\n"
     ]
    },
    {
     "name": "stderr",
     "output_type": "stream",
     "text": [
      " 12%|█▏        | 248/2000 [21:56<2:40:32,  5.50s/it]"
     ]
    },
    {
     "name": "stdout",
     "output_type": "stream",
     "text": [
      "Warning: Error JSON in row 4246\n"
     ]
    },
    {
     "name": "stderr",
     "output_type": "stream",
     "text": [
      " 14%|█▍        | 285/2000 [25:24<2:41:13,  5.64s/it]"
     ]
    },
    {
     "name": "stdout",
     "output_type": "stream",
     "text": [
      "Warning: No JSON was found in row 4283.\n"
     ]
    },
    {
     "name": "stderr",
     "output_type": "stream",
     "text": [
      " 15%|█▌        | 305/2000 [27:07<2:36:01,  5.52s/it]"
     ]
    },
    {
     "name": "stdout",
     "output_type": "stream",
     "text": [
      "Warning: No JSON was found in row 4303.\n"
     ]
    },
    {
     "name": "stderr",
     "output_type": "stream",
     "text": [
      " 17%|█▋        | 337/2000 [30:02<3:01:23,  6.54s/it]"
     ]
    },
    {
     "name": "stdout",
     "output_type": "stream",
     "text": [
      "Warning: No JSON was found in row 4335.\n"
     ]
    },
    {
     "name": "stderr",
     "output_type": "stream",
     "text": [
      " 18%|█▊        | 352/2000 [31:28<2:39:47,  5.82s/it]"
     ]
    },
    {
     "name": "stdout",
     "output_type": "stream",
     "text": [
      "Warning: Error JSON in row 4350\n"
     ]
    },
    {
     "name": "stderr",
     "output_type": "stream",
     "text": [
      " 22%|██▏       | 437/2000 [38:59<2:23:04,  5.49s/it]"
     ]
    },
    {
     "name": "stdout",
     "output_type": "stream",
     "text": [
      "Warning: Error JSON in row 4435\n"
     ]
    },
    {
     "name": "stderr",
     "output_type": "stream",
     "text": [
      " 22%|██▏       | 444/2000 [39:40<2:39:51,  6.16s/it]"
     ]
    },
    {
     "name": "stdout",
     "output_type": "stream",
     "text": [
      "Warning: No JSON was found in row 4442.\n"
     ]
    },
    {
     "name": "stderr",
     "output_type": "stream",
     "text": [
      " 22%|██▏       | 449/2000 [40:08<2:33:31,  5.94s/it]"
     ]
    },
    {
     "name": "stdout",
     "output_type": "stream",
     "text": [
      "Warning: Error JSON in row 4447\n"
     ]
    },
    {
     "name": "stderr",
     "output_type": "stream",
     "text": [
      " 23%|██▎       | 460/2000 [41:17<2:27:19,  5.74s/it]"
     ]
    },
    {
     "name": "stdout",
     "output_type": "stream",
     "text": [
      "Warning: No JSON was found in row 4458.\n"
     ]
    },
    {
     "name": "stderr",
     "output_type": "stream",
     "text": [
      " 25%|██▍       | 499/2000 [44:48<2:36:30,  6.26s/it]"
     ]
    },
    {
     "name": "stdout",
     "output_type": "stream",
     "text": [
      "Warning: Error JSON in row 4497\n"
     ]
    },
    {
     "name": "stderr",
     "output_type": "stream",
     "text": [
      " 30%|██▉       | 596/2000 [53:04<2:07:33,  5.45s/it]"
     ]
    },
    {
     "name": "stdout",
     "output_type": "stream",
     "text": [
      "Warning: Error JSON in row 4594\n"
     ]
    },
    {
     "name": "stderr",
     "output_type": "stream",
     "text": [
      " 31%|███       | 614/2000 [54:47<2:07:06,  5.50s/it]"
     ]
    },
    {
     "name": "stdout",
     "output_type": "stream",
     "text": [
      "Warning: No JSON was found in row 4612.\n"
     ]
    },
    {
     "name": "stderr",
     "output_type": "stream",
     "text": [
      " 34%|███▍      | 681/2000 [1:00:53<2:05:39,  5.72s/it]"
     ]
    },
    {
     "name": "stdout",
     "output_type": "stream",
     "text": [
      "Warning: Error JSON in row 4679\n"
     ]
    },
    {
     "name": "stderr",
     "output_type": "stream",
     "text": [
      " 38%|███▊      | 754/2000 [1:07:16<2:11:49,  6.35s/it]"
     ]
    },
    {
     "name": "stdout",
     "output_type": "stream",
     "text": [
      "Warning: No JSON was found in row 4752.\n"
     ]
    },
    {
     "name": "stderr",
     "output_type": "stream",
     "text": [
      " 38%|███▊      | 769/2000 [1:08:35<2:00:49,  5.89s/it]"
     ]
    },
    {
     "name": "stdout",
     "output_type": "stream",
     "text": [
      "Warning: No JSON was found in row 4767.\n"
     ]
    },
    {
     "name": "stderr",
     "output_type": "stream",
     "text": [
      " 39%|███▉      | 783/2000 [1:09:49<1:48:37,  5.36s/it]"
     ]
    },
    {
     "name": "stdout",
     "output_type": "stream",
     "text": [
      "Warning: No JSON was found in row 4781.\n"
     ]
    },
    {
     "name": "stderr",
     "output_type": "stream",
     "text": [
      " 40%|████      | 800/2000 [1:11:18<1:50:01,  5.50s/it]"
     ]
    },
    {
     "name": "stdout",
     "output_type": "stream",
     "text": [
      "Warning: Error JSON in row 4798\n"
     ]
    },
    {
     "name": "stderr",
     "output_type": "stream",
     "text": [
      " 41%|████      | 821/2000 [1:13:05<1:47:38,  5.48s/it]"
     ]
    },
    {
     "name": "stdout",
     "output_type": "stream",
     "text": [
      "Warning: Error JSON in row 4819\n"
     ]
    },
    {
     "name": "stderr",
     "output_type": "stream",
     "text": [
      " 42%|████▏     | 835/2000 [1:14:19<1:38:36,  5.08s/it]"
     ]
    },
    {
     "name": "stdout",
     "output_type": "stream",
     "text": [
      "Warning: Error JSON in row 4833\n"
     ]
    },
    {
     "name": "stderr",
     "output_type": "stream",
     "text": [
      " 44%|████▎     | 872/2000 [1:17:25<1:39:50,  5.31s/it]"
     ]
    },
    {
     "name": "stdout",
     "output_type": "stream",
     "text": [
      "Warning: No JSON was found in row 4870.\n"
     ]
    },
    {
     "name": "stderr",
     "output_type": "stream",
     "text": [
      " 46%|████▌     | 921/2000 [1:21:56<1:47:59,  6.01s/it]"
     ]
    },
    {
     "name": "stdout",
     "output_type": "stream",
     "text": [
      "Warning: No JSON was found in row 4919.\n"
     ]
    },
    {
     "name": "stderr",
     "output_type": "stream",
     "text": [
      " 48%|████▊     | 970/2000 [1:26:08<1:34:08,  5.48s/it]"
     ]
    },
    {
     "name": "stdout",
     "output_type": "stream",
     "text": [
      "Warning: No JSON was found in row 4968.\n"
     ]
    },
    {
     "name": "stderr",
     "output_type": "stream",
     "text": [
      " 49%|████▉     | 979/2000 [1:26:53<1:21:38,  4.80s/it]"
     ]
    },
    {
     "name": "stdout",
     "output_type": "stream",
     "text": [
      "Warning: Error JSON in row 4977\n"
     ]
    },
    {
     "name": "stderr",
     "output_type": "stream",
     "text": [
      " 49%|████▉     | 983/2000 [1:27:14<1:27:02,  5.14s/it]"
     ]
    },
    {
     "name": "stdout",
     "output_type": "stream",
     "text": [
      "Warning: No JSON was found in row 4981.\n"
     ]
    },
    {
     "name": "stderr",
     "output_type": "stream",
     "text": [
      " 49%|████▉     | 987/2000 [1:27:36<1:34:09,  5.58s/it]"
     ]
    },
    {
     "name": "stdout",
     "output_type": "stream",
     "text": [
      "Warning: No JSON was found in row 4985.\n"
     ]
    },
    {
     "name": "stderr",
     "output_type": "stream",
     "text": [
      " 56%|█████▌    | 1122/2000 [1:39:38<1:39:32,  6.80s/it]"
     ]
    },
    {
     "name": "stdout",
     "output_type": "stream",
     "text": [
      "Warning: No JSON was found in row 5120.\n"
     ]
    },
    {
     "name": "stderr",
     "output_type": "stream",
     "text": [
      " 59%|█████▉    | 1186/2000 [1:45:28<1:45:43,  7.79s/it]"
     ]
    },
    {
     "name": "stdout",
     "output_type": "stream",
     "text": [
      "Warning: No JSON was found in row 5184.\n"
     ]
    },
    {
     "name": "stderr",
     "output_type": "stream",
     "text": [
      " 60%|██████    | 1200/2000 [1:46:43<1:17:04,  5.78s/it]"
     ]
    },
    {
     "name": "stdout",
     "output_type": "stream",
     "text": [
      "Warning: No JSON was found in row 5198.\n"
     ]
    },
    {
     "name": "stderr",
     "output_type": "stream",
     "text": [
      " 62%|██████▏   | 1231/2000 [1:49:29<1:14:50,  5.84s/it]"
     ]
    },
    {
     "name": "stdout",
     "output_type": "stream",
     "text": [
      "Warning: Error JSON in row 5229\n"
     ]
    },
    {
     "name": "stderr",
     "output_type": "stream",
     "text": [
      " 64%|██████▍   | 1283/2000 [1:54:00<1:00:35,  5.07s/it]"
     ]
    },
    {
     "name": "stdout",
     "output_type": "stream",
     "text": [
      "Warning: Error JSON in row 5281\n"
     ]
    },
    {
     "name": "stderr",
     "output_type": "stream",
     "text": [
      " 66%|██████▌   | 1314/2000 [1:57:01<1:11:00,  6.21s/it]"
     ]
    },
    {
     "name": "stdout",
     "output_type": "stream",
     "text": [
      "Warning: No JSON was found in row 5312.\n"
     ]
    },
    {
     "name": "stderr",
     "output_type": "stream",
     "text": [
      " 66%|██████▌   | 1319/2000 [1:57:28<1:05:28,  5.77s/it]"
     ]
    },
    {
     "name": "stdout",
     "output_type": "stream",
     "text": [
      "Warning: Error JSON in row 5317\n"
     ]
    },
    {
     "name": "stderr",
     "output_type": "stream",
     "text": [
      " 67%|██████▋   | 1344/2000 [1:59:45<1:13:43,  6.74s/it]"
     ]
    },
    {
     "name": "stdout",
     "output_type": "stream",
     "text": [
      "Warning: Error JSON in row 5342\n"
     ]
    },
    {
     "name": "stderr",
     "output_type": "stream",
     "text": [
      " 68%|██████▊   | 1359/2000 [2:01:05<57:48,  5.41s/it]  "
     ]
    },
    {
     "name": "stdout",
     "output_type": "stream",
     "text": [
      "Warning: Error JSON in row 5357\n"
     ]
    },
    {
     "name": "stderr",
     "output_type": "stream",
     "text": [
      " 69%|██████▉   | 1381/2000 [2:03:14<1:13:34,  7.13s/it]"
     ]
    },
    {
     "name": "stdout",
     "output_type": "stream",
     "text": [
      "Warning: No JSON was found in row 5379.\n"
     ]
    },
    {
     "name": "stderr",
     "output_type": "stream",
     "text": [
      " 69%|██████▉   | 1387/2000 [2:03:50<1:04:18,  6.29s/it]"
     ]
    },
    {
     "name": "stdout",
     "output_type": "stream",
     "text": [
      "Warning: Error JSON in row 5385\n"
     ]
    },
    {
     "name": "stderr",
     "output_type": "stream",
     "text": [
      " 77%|███████▋  | 1541/2000 [2:17:47<45:23,  5.93s/it]  "
     ]
    },
    {
     "name": "stdout",
     "output_type": "stream",
     "text": [
      "Warning: No JSON was found in row 5539.\n"
     ]
    },
    {
     "name": "stderr",
     "output_type": "stream",
     "text": [
      " 77%|███████▋  | 1547/2000 [2:18:19<43:52,  5.81s/it]"
     ]
    },
    {
     "name": "stdout",
     "output_type": "stream",
     "text": [
      "Warning: No JSON was found in row 5545.\n"
     ]
    },
    {
     "name": "stderr",
     "output_type": "stream",
     "text": [
      " 78%|███████▊  | 1568/2000 [2:20:23<41:56,  5.83s/it]"
     ]
    },
    {
     "name": "stdout",
     "output_type": "stream",
     "text": [
      "Warning: Error JSON in row 5566\n"
     ]
    },
    {
     "name": "stderr",
     "output_type": "stream",
     "text": [
      " 79%|███████▉  | 1582/2000 [2:21:46<42:17,  6.07s/it]"
     ]
    },
    {
     "name": "stdout",
     "output_type": "stream",
     "text": [
      "Warning: Error JSON in row 5580\n"
     ]
    },
    {
     "name": "stderr",
     "output_type": "stream",
     "text": [
      " 83%|████████▎ | 1657/2000 [2:28:18<32:12,  5.64s/it]"
     ]
    },
    {
     "name": "stdout",
     "output_type": "stream",
     "text": [
      "Warning: No JSON was found in row 5655.\n"
     ]
    },
    {
     "name": "stderr",
     "output_type": "stream",
     "text": [
      " 85%|████████▌ | 1700/2000 [2:32:08<29:50,  5.97s/it]"
     ]
    },
    {
     "name": "stdout",
     "output_type": "stream",
     "text": [
      "Warning: No JSON was found in row 5698.\n"
     ]
    },
    {
     "name": "stderr",
     "output_type": "stream",
     "text": [
      " 85%|████████▌ | 1701/2000 [2:32:16<32:57,  6.61s/it]"
     ]
    },
    {
     "name": "stdout",
     "output_type": "stream",
     "text": [
      "Warning: No JSON was found in row 5699.\n"
     ]
    },
    {
     "name": "stderr",
     "output_type": "stream",
     "text": [
      " 88%|████████▊ | 1763/2000 [2:37:47<22:45,  5.76s/it]"
     ]
    },
    {
     "name": "stdout",
     "output_type": "stream",
     "text": [
      "Warning: No JSON was found in row 5761.\n"
     ]
    },
    {
     "name": "stderr",
     "output_type": "stream",
     "text": [
      " 88%|████████▊ | 1768/2000 [2:38:15<21:02,  5.44s/it]"
     ]
    },
    {
     "name": "stdout",
     "output_type": "stream",
     "text": [
      "Warning: Error JSON in row 5766\n"
     ]
    },
    {
     "name": "stderr",
     "output_type": "stream",
     "text": [
      " 90%|█████████ | 1803/2000 [2:41:30<18:32,  5.65s/it]"
     ]
    },
    {
     "name": "stdout",
     "output_type": "stream",
     "text": [
      "Warning: No JSON was found in row 5801.\n"
     ]
    },
    {
     "name": "stderr",
     "output_type": "stream",
     "text": [
      " 90%|█████████ | 1810/2000 [2:42:12<18:24,  5.81s/it]"
     ]
    },
    {
     "name": "stdout",
     "output_type": "stream",
     "text": [
      "Warning: Error JSON in row 5808\n"
     ]
    },
    {
     "name": "stderr",
     "output_type": "stream",
     "text": [
      " 94%|█████████▍| 1875/2000 [2:48:02<11:24,  5.47s/it]"
     ]
    },
    {
     "name": "stdout",
     "output_type": "stream",
     "text": [
      "Warning: No JSON was found in row 5873.\n"
     ]
    },
    {
     "name": "stderr",
     "output_type": "stream",
     "text": [
      " 95%|█████████▍| 1896/2000 [2:49:50<09:05,  5.25s/it]"
     ]
    },
    {
     "name": "stdout",
     "output_type": "stream",
     "text": [
      "Warning: No JSON was found in row 5894.\n"
     ]
    },
    {
     "name": "stderr",
     "output_type": "stream",
     "text": [
      " 96%|█████████▌| 1920/2000 [2:52:00<07:52,  5.91s/it]"
     ]
    },
    {
     "name": "stdout",
     "output_type": "stream",
     "text": [
      "Warning: Error JSON in row 5918\n"
     ]
    },
    {
     "name": "stderr",
     "output_type": "stream",
     "text": [
      " 98%|█████████▊| 1955/2000 [2:55:22<04:25,  5.89s/it]"
     ]
    },
    {
     "name": "stdout",
     "output_type": "stream",
     "text": [
      "Warning: Error JSON in row 5953\n"
     ]
    },
    {
     "name": "stderr",
     "output_type": "stream",
     "text": [
      " 98%|█████████▊| 1960/2000 [2:55:56<04:53,  7.35s/it]"
     ]
    },
    {
     "name": "stdout",
     "output_type": "stream",
     "text": [
      "Warning: No JSON was found in row 5958.\n"
     ]
    },
    {
     "name": "stderr",
     "output_type": "stream",
     "text": [
      " 99%|█████████▉| 1976/2000 [2:57:24<02:17,  5.72s/it]"
     ]
    },
    {
     "name": "stdout",
     "output_type": "stream",
     "text": [
      "Warning: No JSON was found in row 5974.\n"
     ]
    },
    {
     "name": "stderr",
     "output_type": "stream",
     "text": [
      "100%|██████████| 2000/2000 [2:59:47<00:00,  5.39s/it]\n"
     ]
    },
    {
     "name": "stdout",
     "output_type": "stream",
     "text": [
      "Processing chunk 4 (6000:8000)\n"
     ]
    },
    {
     "name": "stderr",
     "output_type": "stream",
     "text": [
      "  1%|          | 19/2000 [01:39<3:31:41,  6.41s/it]"
     ]
    },
    {
     "name": "stdout",
     "output_type": "stream",
     "text": [
      "Warning: No JSON was found in row 6017.\n"
     ]
    },
    {
     "name": "stderr",
     "output_type": "stream",
     "text": [
      "  2%|▏         | 48/2000 [04:19<2:57:11,  5.45s/it]"
     ]
    },
    {
     "name": "stdout",
     "output_type": "stream",
     "text": [
      "Warning: No JSON was found in row 6046.\n"
     ]
    },
    {
     "name": "stderr",
     "output_type": "stream",
     "text": [
      "  3%|▎         | 63/2000 [05:39<3:00:23,  5.59s/it]"
     ]
    },
    {
     "name": "stdout",
     "output_type": "stream",
     "text": [
      "Warning: No JSON was found in row 6061.\n"
     ]
    },
    {
     "name": "stderr",
     "output_type": "stream",
     "text": [
      "  6%|▌         | 110/2000 [10:00<3:07:27,  5.95s/it]"
     ]
    },
    {
     "name": "stdout",
     "output_type": "stream",
     "text": [
      "Warning: No JSON was found in row 6108.\n"
     ]
    },
    {
     "name": "stderr",
     "output_type": "stream",
     "text": [
      "  8%|▊         | 156/2000 [14:13<3:01:23,  5.90s/it]"
     ]
    },
    {
     "name": "stdout",
     "output_type": "stream",
     "text": [
      "Warning: No JSON was found in row 6154.\n"
     ]
    },
    {
     "name": "stderr",
     "output_type": "stream",
     "text": [
      "  9%|▉         | 176/2000 [15:58<2:28:09,  4.87s/it]"
     ]
    },
    {
     "name": "stdout",
     "output_type": "stream",
     "text": [
      "Warning: Error JSON in row 6174\n"
     ]
    },
    {
     "name": "stderr",
     "output_type": "stream",
     "text": [
      "  9%|▉         | 179/2000 [16:19<3:23:12,  6.70s/it]"
     ]
    },
    {
     "name": "stdout",
     "output_type": "stream",
     "text": [
      "Warning: No JSON was found in row 6177.\n"
     ]
    },
    {
     "name": "stderr",
     "output_type": "stream",
     "text": [
      " 11%|█▏        | 225/2000 [20:38<3:12:15,  6.50s/it]"
     ]
    },
    {
     "name": "stdout",
     "output_type": "stream",
     "text": [
      "Warning: No JSON was found in row 6223.\n"
     ]
    },
    {
     "name": "stderr",
     "output_type": "stream",
     "text": [
      " 16%|█▌        | 312/2000 [28:37<2:37:37,  5.60s/it]"
     ]
    },
    {
     "name": "stdout",
     "output_type": "stream",
     "text": [
      "Warning: No JSON was found in row 6310.\n"
     ]
    },
    {
     "name": "stderr",
     "output_type": "stream",
     "text": [
      " 18%|█▊        | 363/2000 [33:24<2:36:55,  5.75s/it]"
     ]
    },
    {
     "name": "stdout",
     "output_type": "stream",
     "text": [
      "Warning: No JSON was found in row 6361.\n"
     ]
    },
    {
     "name": "stderr",
     "output_type": "stream",
     "text": [
      " 20%|██        | 407/2000 [37:22<2:12:56,  5.01s/it]"
     ]
    }
   ],
   "source": [
    "output_folder = \"llama_cliffs\"\n",
    "\n",
    "for i in range(num_chunks):\n",
    "    # Define the chunk range\n",
    "    start_idx = i * chunk_size\n",
    "    end_idx = min(start_idx + chunk_size, len(out_meta))\n",
    "    out_meta_chunk = out_meta[start_idx:end_idx] \n",
    "    print(f\"Processing chunk {i+1} ({start_idx}:{end_idx})\")\n",
    "\n",
    "    # Run inference\n",
    "    chunk_cliff, chunk_error_idx = llama_inference(out_meta_chunk, cliff_prompt, json_examples)\n",
    "\n",
    "    # Save individual chunk results in the \"llama_cliffs\" folder\n",
    "    chunk_cliff.to_csv(os.path.join(output_folder, f'out_meta_chunk_{i+1}_cliff_2502.csv'), index=False)\n",
    "    chunk_error_idx.to_pickle(os.path.join(output_folder, f'idx_error_chunk_{i+1}_cliff_2502.pkl'))"
   ]
  },
  {
   "cell_type": "code",
   "execution_count": null,
   "id": "9653fffe-fcd4-4c63-ba2c-123188b85a92",
   "metadata": {},
   "outputs": [],
   "source": [
    "for i in range(20):\n",
    "    print(i, chunk_cliff.iloc[i][\"llama_cliff_4bit_2502_ordered\"])"
   ]
  },
  {
   "cell_type": "markdown",
   "id": "c5a7f603-b4b8-41b3-8a5a-dd754f65067d",
   "metadata": {},
   "source": [
    "##### Import of cliff dfs"
   ]
  },
  {
   "cell_type": "code",
   "execution_count": 4,
   "id": "ed6dfa77-9314-4e92-8ebc-626c8b8c8b3e",
   "metadata": {},
   "outputs": [],
   "source": [
    "output_folder = \"llama_cliffs\"\n",
    "\n",
    "# Initialize lists to store loaded data\n",
    "all_cliff_dfs = []  # To store DataFrames\n",
    "all_error_indices = []  # To store error indices\n",
    "\n",
    "# Get all file names in the output folder\n",
    "for i in range(9):\n",
    "    # Load DataFrame and append to the list\n",
    "    cliff_file = os.path.join(output_folder, f'out_meta_chunk_{i+1}_cliff_2502.csv')\n",
    "    error_file = os.path.join(output_folder, f'idx_error_chunk_{i+1}_cliff_2502.pkl')\n",
    "\n",
    "    if os.path.exists(cliff_file):\n",
    "        all_cliff_dfs.append(pd.read_csv(cliff_file))\n",
    "    if os.path.exists(error_file):\n",
    "        all_error_indices.append(pd.read_pickle(error_file))"
   ]
  },
  {
   "cell_type": "code",
   "execution_count": 5,
   "id": "0dd02cc7-620f-4ec1-9ce5-0dca7afc5352",
   "metadata": {},
   "outputs": [],
   "source": [
    "# Merge all the DataFrames and lists\n",
    "llama_cliff = pd.concat(all_cliff_dfs, ignore_index=True)  # Combine DataFrames\n",
    "llama_error_indices =  pd.concat(all_error_indices, ignore_index=True) # Flatten error indices"
   ]
  },
  {
   "cell_type": "code",
   "execution_count": 6,
   "id": "e3cdf0eb-1754-49b7-9c88-a0b5b21973ad",
   "metadata": {},
   "outputs": [
    {
     "data": {
      "text/plain": [
       "298"
      ]
     },
     "execution_count": 6,
     "metadata": {},
     "output_type": "execute_result"
    }
   ],
   "source": [
    "len(llama_cliff)\n",
    "len(llama_error_indices)"
   ]
  },
  {
   "cell_type": "code",
   "execution_count": 7,
   "id": "0630b7a6-61cb-4dea-8f14-136029780911",
   "metadata": {},
   "outputs": [
    {
     "data": {
      "text/html": [
       "<div>\n",
       "<style scoped>\n",
       "    .dataframe tbody tr th:only-of-type {\n",
       "        vertical-align: middle;\n",
       "    }\n",
       "\n",
       "    .dataframe tbody tr th {\n",
       "        vertical-align: top;\n",
       "    }\n",
       "\n",
       "    .dataframe thead th {\n",
       "        text-align: right;\n",
       "    }\n",
       "</style>\n",
       "<table border=\"1\" class=\"dataframe\">\n",
       "  <thead>\n",
       "    <tr style=\"text-align: right;\">\n",
       "      <th></th>\n",
       "      <th>idx</th>\n",
       "      <th>error</th>\n",
       "      <th>column</th>\n",
       "    </tr>\n",
       "  </thead>\n",
       "  <tbody>\n",
       "    <tr>\n",
       "      <th>0</th>\n",
       "      <td>70</td>\n",
       "      <td>no_json</td>\n",
       "      <td>ordered</td>\n",
       "    </tr>\n",
       "    <tr>\n",
       "      <th>1</th>\n",
       "      <td>111</td>\n",
       "      <td>no_json</td>\n",
       "      <td>ordered</td>\n",
       "    </tr>\n",
       "    <tr>\n",
       "      <th>3</th>\n",
       "      <td>291</td>\n",
       "      <td>no_json</td>\n",
       "      <td>ordered</td>\n",
       "    </tr>\n",
       "    <tr>\n",
       "      <th>4</th>\n",
       "      <td>334</td>\n",
       "      <td>no_json</td>\n",
       "      <td>ordered</td>\n",
       "    </tr>\n",
       "    <tr>\n",
       "      <th>8</th>\n",
       "      <td>471</td>\n",
       "      <td>no_json</td>\n",
       "      <td>ordered</td>\n",
       "    </tr>\n",
       "    <tr>\n",
       "      <th>...</th>\n",
       "      <td>...</td>\n",
       "      <td>...</td>\n",
       "      <td>...</td>\n",
       "    </tr>\n",
       "    <tr>\n",
       "      <th>285</th>\n",
       "      <td>12618</td>\n",
       "      <td>no_json</td>\n",
       "      <td>ordered</td>\n",
       "    </tr>\n",
       "    <tr>\n",
       "      <th>286</th>\n",
       "      <td>12628</td>\n",
       "      <td>no_json</td>\n",
       "      <td>ordered</td>\n",
       "    </tr>\n",
       "    <tr>\n",
       "      <th>287</th>\n",
       "      <td>12814</td>\n",
       "      <td>no_json</td>\n",
       "      <td>ordered</td>\n",
       "    </tr>\n",
       "    <tr>\n",
       "      <th>288</th>\n",
       "      <td>12871</td>\n",
       "      <td>no_json</td>\n",
       "      <td>ordered</td>\n",
       "    </tr>\n",
       "    <tr>\n",
       "      <th>295</th>\n",
       "      <td>13948</td>\n",
       "      <td>no_json</td>\n",
       "      <td>ordered</td>\n",
       "    </tr>\n",
       "  </tbody>\n",
       "</table>\n",
       "<p>178 rows × 3 columns</p>\n",
       "</div>"
      ],
      "text/plain": [
       "       idx    error   column\n",
       "0       70  no_json  ordered\n",
       "1      111  no_json  ordered\n",
       "3      291  no_json  ordered\n",
       "4      334  no_json  ordered\n",
       "8      471  no_json  ordered\n",
       "..     ...      ...      ...\n",
       "285  12618  no_json  ordered\n",
       "286  12628  no_json  ordered\n",
       "287  12814  no_json  ordered\n",
       "288  12871  no_json  ordered\n",
       "295  13948  no_json  ordered\n",
       "\n",
       "[178 rows x 3 columns]"
      ]
     },
     "execution_count": 7,
     "metadata": {},
     "output_type": "execute_result"
    }
   ],
   "source": [
    "llama_error_indices[llama_error_indices[\"error\"] == \"no_json\"]"
   ]
  },
  {
   "cell_type": "code",
   "execution_count": 39,
   "id": "4ed75251-2921-444b-824e-e05a43fb511f",
   "metadata": {},
   "outputs": [
    {
     "data": {
      "text/plain": [
       "'{\"topic\": \"9\", \"subtopic\": \"A\", \"justification\": \"The text focuses on the Medicare Physician-Payment Equity Act, which aims to address geographic disparities in physician payment, particularly in rural areas, and improve access to healthcare in these regions.\"}'"
      ]
     },
     "execution_count": 39,
     "metadata": {},
     "output_type": "execute_result"
    }
   ],
   "source": [
    "llama_cliff[\"llama_cliff_4bit_2502_ordered\"][13757]"
   ]
  },
  {
   "cell_type": "code",
   "execution_count": 41,
   "id": "98132173-fc04-409a-81e0-d5ac6b87c636",
   "metadata": {},
   "outputs": [],
   "source": [
    "# Save the merged results\n",
    "llama_cliff.to_csv('llama_cliff_merged_2502.csv', index=False)\n",
    "llama_error_indices.to_csv('llama_errors_merged_2502.csv', index=False)"
   ]
  },
  {
   "cell_type": "code",
   "execution_count": 9,
   "id": "149c9717-d717-4426-ab28-a90bf014445c",
   "metadata": {},
   "outputs": [
    {
     "data": {
      "text/html": [
       "<div>\n",
       "<style scoped>\n",
       "    .dataframe tbody tr th:only-of-type {\n",
       "        vertical-align: middle;\n",
       "    }\n",
       "\n",
       "    .dataframe tbody tr th {\n",
       "        vertical-align: top;\n",
       "    }\n",
       "\n",
       "    .dataframe thead th {\n",
       "        text-align: right;\n",
       "    }\n",
       "</style>\n",
       "<table border=\"1\" class=\"dataframe\">\n",
       "  <thead>\n",
       "    <tr style=\"text-align: right;\">\n",
       "      <th></th>\n",
       "      <th>id_</th>\n",
       "      <th>author</th>\n",
       "      <th>year</th>\n",
       "      <th>date</th>\n",
       "      <th>year_n</th>\n",
       "      <th>source</th>\n",
       "      <th>dataset</th>\n",
       "      <th>text</th>\n",
       "      <th>tokens_R</th>\n",
       "      <th>llama_cliff_4bit_2502_ordered</th>\n",
       "    </tr>\n",
       "  </thead>\n",
       "  <tbody>\n",
       "    <tr>\n",
       "      <th>14453</th>\n",
       "      <td>CREC-2024-12-11-pt1-PgS6963-4-1</td>\n",
       "      <td>Mr. SANDERS</td>\n",
       "      <td>2024</td>\n",
       "      <td>2024-12-11</td>\n",
       "      <td>45</td>\n",
       "      <td>Independent</td>\n",
       "      <td>Congress</td>\n",
       "      <td>Mr. President, as the holiday season approache...</td>\n",
       "      <td>president holiday season approach appropriate ...</td>\n",
       "      <td>{\"topic\": \"7\", \"subtopic\": \"A\", \"justification...</td>\n",
       "    </tr>\n",
       "    <tr>\n",
       "      <th>14454</th>\n",
       "      <td>CREC-2024-12-12-pt1-PgH7130-2</td>\n",
       "      <td>Mr. BOWMAN</td>\n",
       "      <td>2024</td>\n",
       "      <td>2024-12-12</td>\n",
       "      <td>45</td>\n",
       "      <td>Democrat</td>\n",
       "      <td>Congress</td>\n",
       "      <td>Mr. Speaker, I thank my sister Cori Bush for y...</td>\n",
       "      <td>speaker thank sister cori bush yield speaker w...</td>\n",
       "      <td>{\"topic\": \"7\", \"subtopic\": \"A\", \"justification...</td>\n",
       "    </tr>\n",
       "    <tr>\n",
       "      <th>14455</th>\n",
       "      <td>CREC-2024-12-12-pt1-PgH7130-6</td>\n",
       "      <td>Ms. BUSH</td>\n",
       "      <td>2024</td>\n",
       "      <td>2024-12-12</td>\n",
       "      <td>45</td>\n",
       "      <td>Democrat</td>\n",
       "      <td>Congress</td>\n",
       "      <td>Mr. Speaker, Congresswoman Ramirez came into C...</td>\n",
       "      <td>speaker congresswoman ramirez come congress li...</td>\n",
       "      <td>{\"topic\": \"1\", \"subtopic\": \"B\", \"justification...</td>\n",
       "    </tr>\n",
       "    <tr>\n",
       "      <th>14456</th>\n",
       "      <td>CREC-2024-12-16-pt1-PgH7151-10</td>\n",
       "      <td>Mr. STEIL</td>\n",
       "      <td>2024</td>\n",
       "      <td>2024-12-16</td>\n",
       "      <td>45</td>\n",
       "      <td>Republican</td>\n",
       "      <td>Congress</td>\n",
       "      <td>Mr. Speaker, I yield myself such time as I may...</td>\n",
       "      <td>speaker yield time consume speaker measure hal...</td>\n",
       "      <td>{\"topic\": \"6\", \"subtopic\": \"A\", \"justification...</td>\n",
       "    </tr>\n",
       "    <tr>\n",
       "      <th>14457</th>\n",
       "      <td>CREC-2024-12-20-pt1-PgS7321-0</td>\n",
       "      <td>Mr. SANDERS</td>\n",
       "      <td>2024</td>\n",
       "      <td>2024-12-20</td>\n",
       "      <td>45</td>\n",
       "      <td>Independent</td>\n",
       "      <td>Congress</td>\n",
       "      <td>Mr. President, I rise today to honor Hugh Espe...</td>\n",
       "      <td>president rise today honor hugh espey iowa cit...</td>\n",
       "      <td>{\"topic\": \"7\", \"subtopic\": \"A\", \"justification...</td>\n",
       "    </tr>\n",
       "  </tbody>\n",
       "</table>\n",
       "</div>"
      ],
      "text/plain": [
       "                                   id_       author  year        date  year_n  \\\n",
       "14453  CREC-2024-12-11-pt1-PgS6963-4-1  Mr. SANDERS  2024  2024-12-11      45   \n",
       "14454    CREC-2024-12-12-pt1-PgH7130-2   Mr. BOWMAN  2024  2024-12-12      45   \n",
       "14455    CREC-2024-12-12-pt1-PgH7130-6     Ms. BUSH  2024  2024-12-12      45   \n",
       "14456   CREC-2024-12-16-pt1-PgH7151-10    Mr. STEIL  2024  2024-12-16      45   \n",
       "14457    CREC-2024-12-20-pt1-PgS7321-0  Mr. SANDERS  2024  2024-12-20      45   \n",
       "\n",
       "            source   dataset  \\\n",
       "14453  Independent  Congress   \n",
       "14454     Democrat  Congress   \n",
       "14455     Democrat  Congress   \n",
       "14456   Republican  Congress   \n",
       "14457  Independent  Congress   \n",
       "\n",
       "                                                    text  \\\n",
       "14453  Mr. President, as the holiday season approache...   \n",
       "14454  Mr. Speaker, I thank my sister Cori Bush for y...   \n",
       "14455  Mr. Speaker, Congresswoman Ramirez came into C...   \n",
       "14456  Mr. Speaker, I yield myself such time as I may...   \n",
       "14457  Mr. President, I rise today to honor Hugh Espe...   \n",
       "\n",
       "                                                tokens_R  \\\n",
       "14453  president holiday season approach appropriate ...   \n",
       "14454  speaker thank sister cori bush yield speaker w...   \n",
       "14455  speaker congresswoman ramirez come congress li...   \n",
       "14456  speaker yield time consume speaker measure hal...   \n",
       "14457  president rise today honor hugh espey iowa cit...   \n",
       "\n",
       "                           llama_cliff_4bit_2502_ordered  \n",
       "14453  {\"topic\": \"7\", \"subtopic\": \"A\", \"justification...  \n",
       "14454  {\"topic\": \"7\", \"subtopic\": \"A\", \"justification...  \n",
       "14455  {\"topic\": \"1\", \"subtopic\": \"B\", \"justification...  \n",
       "14456  {\"topic\": \"6\", \"subtopic\": \"A\", \"justification...  \n",
       "14457  {\"topic\": \"7\", \"subtopic\": \"A\", \"justification...  "
      ]
     },
     "execution_count": 9,
     "metadata": {},
     "output_type": "execute_result"
    }
   ],
   "source": [
    "llama_cliff.tail()"
   ]
  }
 ],
 "metadata": {
  "kernelspec": {
   "display_name": "base",
   "language": "python",
   "name": "python3"
  },
  "language_info": {
   "codemirror_mode": {
    "name": "ipython",
    "version": 3
   },
   "file_extension": ".py",
   "mimetype": "text/x-python",
   "name": "python",
   "nbconvert_exporter": "python",
   "pygments_lexer": "ipython3",
   "version": "3.9.13"
  }
 },
 "nbformat": 4,
 "nbformat_minor": 5
}
