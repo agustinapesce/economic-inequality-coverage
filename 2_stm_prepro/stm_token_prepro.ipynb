{
 "cells": [
  {
   "cell_type": "code",
   "execution_count": 1,
   "metadata": {},
   "outputs": [
    {
     "name": "stderr",
     "output_type": "stream",
     "text": [
      "c:\\Users\\agust\\anaconda3\\lib\\site-packages\\pandas\\core\\computation\\expressions.py:21: UserWarning: Pandas requires version '2.8.4' or newer of 'numexpr' (version '2.8.3' currently installed).\n",
      "  from pandas.core.computation.check import NUMEXPR_INSTALLED\n",
      "c:\\Users\\agust\\anaconda3\\lib\\site-packages\\pandas\\core\\arrays\\masked.py:60: UserWarning: Pandas requires version '1.3.6' or newer of 'bottleneck' (version '1.3.5' currently installed).\n",
      "  from pandas.core import (\n"
     ]
    }
   ],
   "source": [
    "#Base packages\n",
    "import os\n",
    "import pickle\n",
    "\n",
    "import pandas as pd\n",
    "import numpy as np\n",
    "from tqdm import tqdm\n",
    "tqdm.pandas()"
   ]
  },
  {
   "cell_type": "code",
   "execution_count": 2,
   "metadata": {},
   "outputs": [],
   "source": [
    "#NLP and text packages\n",
    "\n",
    "#import re\n",
    "import spacy\n",
    "#nlp = spacy.blank(\"en\") # only tokenizes and creates stop word boolean\n",
    "nlp = spacy.load(\"en_core_web_sm\") #adds lemmas and POS too"
   ]
  },
  {
   "cell_type": "markdown",
   "metadata": {},
   "source": [
    "Import datasets"
   ]
  },
  {
   "cell_type": "code",
   "execution_count": 3,
   "metadata": {},
   "outputs": [],
   "source": [
    "nyt80 = pd.read_csv('../1_nyt_ineq_articles/nyt80_merge.csv')\n",
    "congress80 = pd.read_csv('../1_congress_data_proc/congress80_merge.csv')"
   ]
  },
  {
   "cell_type": "code",
   "execution_count": 4,
   "metadata": {},
   "outputs": [
    {
     "data": {
      "text/plain": [
       "3777"
      ]
     },
     "execution_count": 4,
     "metadata": {},
     "output_type": "execute_result"
    }
   ],
   "source": [
    "len(congress80)"
   ]
  },
  {
   "cell_type": "code",
   "execution_count": 5,
   "metadata": {},
   "outputs": [
    {
     "data": {
      "text/plain": [
       "10681"
      ]
     },
     "execution_count": 5,
     "metadata": {},
     "output_type": "execute_result"
    }
   ],
   "source": [
    "len(nyt80)"
   ]
  },
  {
   "cell_type": "markdown",
   "metadata": {},
   "source": [
    "Tokenize"
   ]
  },
  {
   "cell_type": "code",
   "execution_count": 6,
   "metadata": {},
   "outputs": [],
   "source": [
    "nlp = spacy.load(\"en_core_web_sm\") "
   ]
  },
  {
   "cell_type": "code",
   "execution_count": 7,
   "metadata": {},
   "outputs": [
    {
     "name": "stdout",
     "output_type": "stream",
     "text": [
      "['The', 'World', 'Brazil', 'Topples', 'Off', 'the', 'Verge', 'Tall', 'and', 'tanned', 'and', 'young', 'and', 'lovely', 'The', 'girl', 'from', 'Ipanema', 'goes', 'walking', 'And', 'when', 'she', 'passes', 'Each', 'one', 'she', 'passes', 'Goes', 'Aaah']\n",
      "\n",
      "Text: The, Lemma: the, POS: DET, Is stop word: True\n",
      "Text: World, Lemma: World, POS: PROPN, Is stop word: False\n",
      "Text: ;, Lemma: ;, POS: PUNCT, Is stop word: False\n",
      "Text: Brazil, Lemma: Brazil, POS: PROPN, Is stop word: False\n",
      "Text: Topples, Lemma: topple, POS: VERB, Is stop word: False\n",
      "Text: Off, Lemma: off, POS: ADP, Is stop word: True\n",
      "Text: the, Lemma: the, POS: DET, Is stop word: True\n",
      "Text: Verge, Lemma: Verge, POS: PROPN, Is stop word: False\n",
      "Text: Tall, Lemma: Tall, POS: PROPN, Is stop word: False\n",
      "Text: and, Lemma: and, POS: CCONJ, Is stop word: True\n",
      "Text: tanned, Lemma: tanned, POS: ADJ, Is stop word: False\n",
      "Text: and, Lemma: and, POS: CCONJ, Is stop word: True\n",
      "Text: young, Lemma: young, POS: ADJ, Is stop word: False\n",
      "Text: and, Lemma: and, POS: CCONJ, Is stop word: True\n",
      "Text: lovely, Lemma: lovely, POS: ADJ, Is stop word: False\n",
      "Text: The, Lemma: the, POS: DET, Is stop word: True\n",
      "Text: girl, Lemma: girl, POS: NOUN, Is stop word: False\n",
      "Text: from, Lemma: from, POS: ADP, Is stop word: True\n",
      "Text: Ipanema, Lemma: Ipanema, POS: PROPN, Is stop word: False\n",
      "Text: goes, Lemma: goes, POS: AUX, Is stop word: False\n",
      "Text: walking, Lemma: walk, POS: VERB, Is stop word: False\n",
      "Text: And, Lemma: and, POS: CCONJ, Is stop word: True\n",
      "Text: when, Lemma: when, POS: SCONJ, Is stop word: True\n",
      "Text: she, Lemma: she, POS: PRON, Is stop word: True\n",
      "Text: passes, Lemma: pass, POS: VERB, Is stop word: False\n",
      "Text: Each, Lemma: each, POS: DET, Is stop word: True\n",
      "Text: one, Lemma: one, POS: NOUN, Is stop word: True\n",
      "Text: she, Lemma: she, POS: PRON, Is stop word: True\n",
      "Text: passes, Lemma: pass, POS: VERB, Is stop word: False\n",
      "Text: Goes, Lemma: go, POS: VERB, Is stop word: False\n",
      "Text: \", Lemma: \", POS: PUNCT, Is stop word: False\n",
      "Text: Aaah, Lemma: Aaah, POS: PROPN, Is stop word: False\n",
      "Text: \", Lemma: \", POS: PUNCT, Is stop word: False\n"
     ]
    },
    {
     "data": {
      "text/plain": [
       "['World',\n",
       " 'Brazil',\n",
       " 'topple',\n",
       " 'Verge',\n",
       " 'Tall',\n",
       " 'tanned',\n",
       " 'young',\n",
       " 'lovely',\n",
       " 'girl',\n",
       " 'Ipanema',\n",
       " 'goes',\n",
       " 'walk',\n",
       " 'pass',\n",
       " 'pass',\n",
       " 'go',\n",
       " 'Aaah']"
      ]
     },
     "execution_count": 7,
     "metadata": {},
     "output_type": "execute_result"
    }
   ],
   "source": [
    "# Test text\n",
    "#text = \"#The %quick > brown-fox hospitals camila's dog is going to Marlon jum!ps organizer over' 34 case1 hospital organizations the lazy dog.\"\n",
    "text ='The World; Brazil Topples Off the Verge Tall and tanned and young and lovely The girl from Ipanema goes walking And when she passes Each one she passes Goes \"Aaah\"'\n",
    "\n",
    "# Process the text\n",
    "doc = nlp(text)\n",
    "\n",
    "print([token.text for token in doc if token.is_alpha])\n",
    "print()\n",
    "\n",
    "# Inspect tokens\n",
    "for token in doc:\n",
    "    print(f\"Text: {token.text}, Lemma: {token.lemma_}, POS: {token.pos_}, Is stop word: {token.is_stop}\")\n",
    "\n",
    "lemma_tokens_no_stop_words = [token.lemma_ for token in doc if not token.is_stop and token.is_alpha]\n",
    "lemma_tokens_no_stop_words\n"
   ]
  },
  {
   "cell_type": "code",
   "execution_count": 8,
   "metadata": {},
   "outputs": [],
   "source": [
    "# Load spaCy model\n",
    "nlp = spacy.load(\"en_core_web_sm\")\n",
    "\n",
    "def process_text_for_stm(text):\n",
    "    # Process text with spaCy\n",
    "    doc = nlp(text)\n",
    "\n",
    "    lemmas = [token.lemma_.lower() for token in doc if not token.is_stop and token.is_alpha]\n",
    "    \n",
    "    return lemmas"
   ]
  },
  {
   "cell_type": "code",
   "execution_count": 9,
   "metadata": {},
   "outputs": [],
   "source": [
    "def process_text_column(df, text_column=\"text\"):\n",
    "    \"\"\"\n",
    "    Processes the text column of a DataFrame, tokenizing and lemmatizing text,\n",
    "    excluding stopwords, and updating the DataFrame with the results.\n",
    "    \n",
    "    Args:\n",
    "    - df: DataFrame containing the text column\n",
    "    - text_column: Name of the column containing text to be processed\n",
    "    \n",
    "    Returns:\n",
    "    - df: Updated DataFrame with 'lemma_tokens_no_stop_words' columns\n",
    "    \"\"\"\n",
    "    lemma_tokens_no_stop_words = []\n",
    "    \n",
    "    # Use tqdm to process the text column\n",
    "    for idx, text in tqdm(enumerate(df[text_column]), desc=\"Processing text column\"):\n",
    "        try:\n",
    "            lemma_tokens = process_text_for_stm(text)\n",
    "            lemma_tokens_no_stop_words.append(lemma_tokens)\n",
    "        except Exception as e:\n",
    "            print(f\"Error processing row {idx}: {text}\")\n",
    "            print(f\"Error message: {e}\")\n",
    "            lemma_tokens_no_stop_words.append(None)\n",
    "    \n",
    "    # Add the results as new columns to the DataFrame\n",
    "    df['lemma_tokens_no_stop_words'] = lemma_tokens_no_stop_words\n",
    "    \n",
    "    return df"
   ]
  },
  {
   "cell_type": "code",
   "execution_count": 10,
   "metadata": {},
   "outputs": [
    {
     "data": {
      "text/plain": [
       "10681"
      ]
     },
     "execution_count": 10,
     "metadata": {},
     "output_type": "execute_result"
    }
   ],
   "source": [
    "len(nyt80)"
   ]
  },
  {
   "cell_type": "code",
   "execution_count": 11,
   "metadata": {},
   "outputs": [
    {
     "name": "stderr",
     "output_type": "stream",
     "text": [
      "Processing text column: 0it [00:00, ?it/s]"
     ]
    },
    {
     "name": "stderr",
     "output_type": "stream",
     "text": [
      "Processing text column: 10681it [1:01:08,  2.91it/s]\n"
     ]
    }
   ],
   "source": [
    "nyt80_tokens = process_text_column(nyt80)"
   ]
  },
  {
   "cell_type": "code",
   "execution_count": 12,
   "metadata": {},
   "outputs": [
    {
     "name": "stderr",
     "output_type": "stream",
     "text": [
      "Processing text column: 3777it [10:43,  5.87it/s]\n"
     ]
    }
   ],
   "source": [
    "congress80_tokens = process_text_column(congress80)"
   ]
  },
  {
   "cell_type": "markdown",
   "metadata": {},
   "source": [
    "Combine to implement in R"
   ]
  },
  {
   "cell_type": "code",
   "execution_count": 13,
   "metadata": {},
   "outputs": [],
   "source": [
    "combined_df = pd.concat([nyt80_tokens, congress80_tokens], ignore_index=True)"
   ]
  },
  {
   "cell_type": "code",
   "execution_count": 14,
   "metadata": {},
   "outputs": [
    {
     "data": {
      "text/plain": [
       "0        [get, zero, sum, society, distribution, possib...\n",
       "1        [fed, monetary, policy, credibility, gap, econ...\n",
       "2        [egypt, move, help, economy, cause, confusion,...\n",
       "3        [books, times, books, times, edward, cowan, ze...\n",
       "4        [john, paul, voice, peg, pope, john, paul, ii,...\n",
       "                               ...                        \n",
       "14453    [president, holiday, season, approach, appropr...\n",
       "14454    [speaker, thank, sister, cori, bush, yield, sp...\n",
       "14455    [speaker, congresswoman, ramirez, come, congre...\n",
       "14456    [speaker, yield, time, consume, speaker, measu...\n",
       "14457    [president, rise, today, honor, hugh, espey, i...\n",
       "Name: lemma_tokens_no_stop_words, Length: 14458, dtype: object"
      ]
     },
     "execution_count": 14,
     "metadata": {},
     "output_type": "execute_result"
    }
   ],
   "source": [
    "combined_df['lemma_tokens_no_stop_words']"
   ]
  },
  {
   "cell_type": "code",
   "execution_count": 15,
   "metadata": {},
   "outputs": [
    {
     "data": {
      "text/html": [
       "<div>\n",
       "<style scoped>\n",
       "    .dataframe tbody tr th:only-of-type {\n",
       "        vertical-align: middle;\n",
       "    }\n",
       "\n",
       "    .dataframe tbody tr th {\n",
       "        vertical-align: top;\n",
       "    }\n",
       "\n",
       "    .dataframe thead th {\n",
       "        text-align: right;\n",
       "    }\n",
       "</style>\n",
       "<table border=\"1\" class=\"dataframe\">\n",
       "  <thead>\n",
       "    <tr style=\"text-align: right;\">\n",
       "      <th></th>\n",
       "      <th>id_</th>\n",
       "      <th>text</th>\n",
       "      <th>author</th>\n",
       "      <th>date_d-m-Y</th>\n",
       "      <th>year</th>\n",
       "      <th>source</th>\n",
       "      <th>party</th>\n",
       "      <th>dataset</th>\n",
       "      <th>lemma_tokens_no_stop_words</th>\n",
       "      <th>tokens_R</th>\n",
       "    </tr>\n",
       "  </thead>\n",
       "  <tbody>\n",
       "    <tr>\n",
       "      <th>14453</th>\n",
       "      <td>CREC-2024-12-11-pt1-PgS6963-4-1</td>\n",
       "      <td>Mr. President, as the holiday season approache...</td>\n",
       "      <td>Mr. SANDERS</td>\n",
       "      <td>2024-12-11</td>\n",
       "      <td>2024</td>\n",
       "      <td>Independent</td>\n",
       "      <td>Independent</td>\n",
       "      <td>Congress</td>\n",
       "      <td>[president, holiday, season, approach, appropr...</td>\n",
       "      <td>president holiday season approach appropriate ...</td>\n",
       "    </tr>\n",
       "    <tr>\n",
       "      <th>14454</th>\n",
       "      <td>CREC-2024-12-12-pt1-PgH7130-2</td>\n",
       "      <td>Mr. Speaker, I thank my sister Cori Bush for y...</td>\n",
       "      <td>Mr. BOWMAN</td>\n",
       "      <td>2024-12-12</td>\n",
       "      <td>2024</td>\n",
       "      <td>Democrat</td>\n",
       "      <td>Democrat</td>\n",
       "      <td>Congress</td>\n",
       "      <td>[speaker, thank, sister, cori, bush, yield, sp...</td>\n",
       "      <td>speaker thank sister cori bush yield speaker w...</td>\n",
       "    </tr>\n",
       "    <tr>\n",
       "      <th>14455</th>\n",
       "      <td>CREC-2024-12-12-pt1-PgH7130-6</td>\n",
       "      <td>Mr. Speaker, Congresswoman Ramirez came into C...</td>\n",
       "      <td>Ms. BUSH</td>\n",
       "      <td>2024-12-12</td>\n",
       "      <td>2024</td>\n",
       "      <td>Democrat</td>\n",
       "      <td>Democrat</td>\n",
       "      <td>Congress</td>\n",
       "      <td>[speaker, congresswoman, ramirez, come, congre...</td>\n",
       "      <td>speaker congresswoman ramirez come congress li...</td>\n",
       "    </tr>\n",
       "    <tr>\n",
       "      <th>14456</th>\n",
       "      <td>CREC-2024-12-16-pt1-PgH7151-10</td>\n",
       "      <td>Mr. Speaker, I yield myself such time as I may...</td>\n",
       "      <td>Mr. STEIL</td>\n",
       "      <td>2024-12-16</td>\n",
       "      <td>2024</td>\n",
       "      <td>Republican</td>\n",
       "      <td>Republican</td>\n",
       "      <td>Congress</td>\n",
       "      <td>[speaker, yield, time, consume, speaker, measu...</td>\n",
       "      <td>speaker yield time consume speaker measure hal...</td>\n",
       "    </tr>\n",
       "    <tr>\n",
       "      <th>14457</th>\n",
       "      <td>CREC-2024-12-20-pt1-PgS7321-0</td>\n",
       "      <td>Mr. President, I rise today to honor Hugh Espe...</td>\n",
       "      <td>Mr. SANDERS</td>\n",
       "      <td>2024-12-20</td>\n",
       "      <td>2024</td>\n",
       "      <td>Independent</td>\n",
       "      <td>Independent</td>\n",
       "      <td>Congress</td>\n",
       "      <td>[president, rise, today, honor, hugh, espey, i...</td>\n",
       "      <td>president rise today honor hugh espey iowa cit...</td>\n",
       "    </tr>\n",
       "  </tbody>\n",
       "</table>\n",
       "</div>"
      ],
      "text/plain": [
       "                                   id_  \\\n",
       "14453  CREC-2024-12-11-pt1-PgS6963-4-1   \n",
       "14454    CREC-2024-12-12-pt1-PgH7130-2   \n",
       "14455    CREC-2024-12-12-pt1-PgH7130-6   \n",
       "14456   CREC-2024-12-16-pt1-PgH7151-10   \n",
       "14457    CREC-2024-12-20-pt1-PgS7321-0   \n",
       "\n",
       "                                                    text       author  \\\n",
       "14453  Mr. President, as the holiday season approache...  Mr. SANDERS   \n",
       "14454  Mr. Speaker, I thank my sister Cori Bush for y...   Mr. BOWMAN   \n",
       "14455  Mr. Speaker, Congresswoman Ramirez came into C...     Ms. BUSH   \n",
       "14456  Mr. Speaker, I yield myself such time as I may...    Mr. STEIL   \n",
       "14457  Mr. President, I rise today to honor Hugh Espe...  Mr. SANDERS   \n",
       "\n",
       "       date_d-m-Y  year       source        party   dataset  \\\n",
       "14453  2024-12-11  2024  Independent  Independent  Congress   \n",
       "14454  2024-12-12  2024     Democrat     Democrat  Congress   \n",
       "14455  2024-12-12  2024     Democrat     Democrat  Congress   \n",
       "14456  2024-12-16  2024   Republican   Republican  Congress   \n",
       "14457  2024-12-20  2024  Independent  Independent  Congress   \n",
       "\n",
       "                              lemma_tokens_no_stop_words  \\\n",
       "14453  [president, holiday, season, approach, appropr...   \n",
       "14454  [speaker, thank, sister, cori, bush, yield, sp...   \n",
       "14455  [speaker, congresswoman, ramirez, come, congre...   \n",
       "14456  [speaker, yield, time, consume, speaker, measu...   \n",
       "14457  [president, rise, today, honor, hugh, espey, i...   \n",
       "\n",
       "                                                tokens_R  \n",
       "14453  president holiday season approach appropriate ...  \n",
       "14454  speaker thank sister cori bush yield speaker w...  \n",
       "14455  speaker congresswoman ramirez come congress li...  \n",
       "14456  speaker yield time consume speaker measure hal...  \n",
       "14457  president rise today honor hugh espey iowa cit...  "
      ]
     },
     "execution_count": 15,
     "metadata": {},
     "output_type": "execute_result"
    }
   ],
   "source": [
    "# Step 3: Reformat tokens for STM (join tokens into a string)\n",
    "combined_df['tokens_R'] = combined_df['lemma_tokens_no_stop_words'].apply(lambda x: ' '.join(x))\n",
    "\n",
    "# Now, combined_df is ready for the prepDocuments function\n",
    "combined_df.tail()"
   ]
  },
  {
   "cell_type": "code",
   "execution_count": 16,
   "metadata": {},
   "outputs": [],
   "source": [
    "combined_df = combined_df.rename(columns={'date_d-m-Y': 'date'})\n",
    "combined_df['year_n'] = combined_df['year'] - 1979"
   ]
  },
  {
   "cell_type": "code",
   "execution_count": 17,
   "metadata": {},
   "outputs": [],
   "source": [
    "combined_df.to_csv('articles_speeches_dataset_r.csv', index=False)"
   ]
  },
  {
   "cell_type": "code",
   "execution_count": 22,
   "metadata": {},
   "outputs": [
    {
     "data": {
      "text/html": [
       "<div>\n",
       "<style scoped>\n",
       "    .dataframe tbody tr th:only-of-type {\n",
       "        vertical-align: middle;\n",
       "    }\n",
       "\n",
       "    .dataframe tbody tr th {\n",
       "        vertical-align: top;\n",
       "    }\n",
       "\n",
       "    .dataframe thead th {\n",
       "        text-align: right;\n",
       "    }\n",
       "</style>\n",
       "<table border=\"1\" class=\"dataframe\">\n",
       "  <thead>\n",
       "    <tr style=\"text-align: right;\">\n",
       "      <th></th>\n",
       "      <th>id_</th>\n",
       "      <th>text</th>\n",
       "      <th>author</th>\n",
       "      <th>date</th>\n",
       "      <th>year</th>\n",
       "      <th>source</th>\n",
       "      <th>party</th>\n",
       "      <th>dataset</th>\n",
       "      <th>lemma_tokens_no_stop_words</th>\n",
       "      <th>tokens_R</th>\n",
       "      <th>year_n</th>\n",
       "    </tr>\n",
       "  </thead>\n",
       "  <tbody>\n",
       "    <tr>\n",
       "      <th>0</th>\n",
       "      <td>0</td>\n",
       "      <td>WHO GETS WHAT  THE ZERO-SUM SOCIETY Distributi...</td>\n",
       "      <td>MARC F. PLATTNER; Marc F. Plattner is on the s...</td>\n",
       "      <td>1980-06-08</td>\n",
       "      <td>1980</td>\n",
       "      <td>nyt</td>\n",
       "      <td>Democrat</td>\n",
       "      <td>nyt</td>\n",
       "      <td>[get, zero, sum, society, distribution, possib...</td>\n",
       "      <td>get zero sum society distribution possibilitie...</td>\n",
       "      <td>1</td>\n",
       "    </tr>\n",
       "    <tr>\n",
       "      <th>1</th>\n",
       "      <td>1</td>\n",
       "      <td>FED MONETARY POLICY:CREDIBILITY GAP; Economic ...</td>\n",
       "      <td>ROBERT A. BENNETT</td>\n",
       "      <td>1980-06-14</td>\n",
       "      <td>1980</td>\n",
       "      <td>nyt</td>\n",
       "      <td>Democrat</td>\n",
       "      <td>nyt</td>\n",
       "      <td>[fed, monetary, policy, credibility, gap, econ...</td>\n",
       "      <td>fed monetary policy credibility gap economic a...</td>\n",
       "      <td>1</td>\n",
       "    </tr>\n",
       "    <tr>\n",
       "      <th>2</th>\n",
       "      <td>2</td>\n",
       "      <td>EGYPT'S MOVES TO HELP ECONOMY CAUSING CONFUSIO...</td>\n",
       "      <td>CHRISTOPHER S. WREN</td>\n",
       "      <td>1980-06-23</td>\n",
       "      <td>1980</td>\n",
       "      <td>nyt</td>\n",
       "      <td>Democrat</td>\n",
       "      <td>nyt</td>\n",
       "      <td>[egypt, move, help, economy, cause, confusion,...</td>\n",
       "      <td>egypt move help economy cause confusion campai...</td>\n",
       "      <td>1</td>\n",
       "    </tr>\n",
       "    <tr>\n",
       "      <th>3</th>\n",
       "      <td>3</td>\n",
       "      <td>BOOKS OF THE TIMES; Books Of The Times  By Edw...</td>\n",
       "      <td>NaN</td>\n",
       "      <td>1980-07-01</td>\n",
       "      <td>1980</td>\n",
       "      <td>nyt</td>\n",
       "      <td>Democrat</td>\n",
       "      <td>nyt</td>\n",
       "      <td>[books, times, books, times, edward, cowan, ze...</td>\n",
       "      <td>books times books times edward cowan zero sum ...</td>\n",
       "      <td>1</td>\n",
       "    </tr>\n",
       "    <tr>\n",
       "      <th>4</th>\n",
       "      <td>4</td>\n",
       "      <td>'John Paul Is Our Voice'  Those who pegged Pop...</td>\n",
       "      <td>NaN</td>\n",
       "      <td>1980-07-13</td>\n",
       "      <td>1980</td>\n",
       "      <td>nyt</td>\n",
       "      <td>Democrat</td>\n",
       "      <td>nyt</td>\n",
       "      <td>[john, paul, voice, peg, pope, john, paul, ii,...</td>\n",
       "      <td>john paul voice peg pope john paul ii conserva...</td>\n",
       "      <td>1</td>\n",
       "    </tr>\n",
       "    <tr>\n",
       "      <th>...</th>\n",
       "      <td>...</td>\n",
       "      <td>...</td>\n",
       "      <td>...</td>\n",
       "      <td>...</td>\n",
       "      <td>...</td>\n",
       "      <td>...</td>\n",
       "      <td>...</td>\n",
       "      <td>...</td>\n",
       "      <td>...</td>\n",
       "      <td>...</td>\n",
       "      <td>...</td>\n",
       "    </tr>\n",
       "    <tr>\n",
       "      <th>14453</th>\n",
       "      <td>CREC-2024-12-11-pt1-PgS6963-4-1</td>\n",
       "      <td>Mr. President, as the holiday season approache...</td>\n",
       "      <td>Mr. SANDERS</td>\n",
       "      <td>2024-12-11</td>\n",
       "      <td>2024</td>\n",
       "      <td>Independent</td>\n",
       "      <td>Independent</td>\n",
       "      <td>Congress</td>\n",
       "      <td>[president, holiday, season, approach, appropr...</td>\n",
       "      <td>president holiday season approach appropriate ...</td>\n",
       "      <td>45</td>\n",
       "    </tr>\n",
       "    <tr>\n",
       "      <th>14454</th>\n",
       "      <td>CREC-2024-12-12-pt1-PgH7130-2</td>\n",
       "      <td>Mr. Speaker, I thank my sister Cori Bush for y...</td>\n",
       "      <td>Mr. BOWMAN</td>\n",
       "      <td>2024-12-12</td>\n",
       "      <td>2024</td>\n",
       "      <td>Democrat</td>\n",
       "      <td>Democrat</td>\n",
       "      <td>Congress</td>\n",
       "      <td>[speaker, thank, sister, cori, bush, yield, sp...</td>\n",
       "      <td>speaker thank sister cori bush yield speaker w...</td>\n",
       "      <td>45</td>\n",
       "    </tr>\n",
       "    <tr>\n",
       "      <th>14455</th>\n",
       "      <td>CREC-2024-12-12-pt1-PgH7130-6</td>\n",
       "      <td>Mr. Speaker, Congresswoman Ramirez came into C...</td>\n",
       "      <td>Ms. BUSH</td>\n",
       "      <td>2024-12-12</td>\n",
       "      <td>2024</td>\n",
       "      <td>Democrat</td>\n",
       "      <td>Democrat</td>\n",
       "      <td>Congress</td>\n",
       "      <td>[speaker, congresswoman, ramirez, come, congre...</td>\n",
       "      <td>speaker congresswoman ramirez come congress li...</td>\n",
       "      <td>45</td>\n",
       "    </tr>\n",
       "    <tr>\n",
       "      <th>14456</th>\n",
       "      <td>CREC-2024-12-16-pt1-PgH7151-10</td>\n",
       "      <td>Mr. Speaker, I yield myself such time as I may...</td>\n",
       "      <td>Mr. STEIL</td>\n",
       "      <td>2024-12-16</td>\n",
       "      <td>2024</td>\n",
       "      <td>Republican</td>\n",
       "      <td>Republican</td>\n",
       "      <td>Congress</td>\n",
       "      <td>[speaker, yield, time, consume, speaker, measu...</td>\n",
       "      <td>speaker yield time consume speaker measure hal...</td>\n",
       "      <td>45</td>\n",
       "    </tr>\n",
       "    <tr>\n",
       "      <th>14457</th>\n",
       "      <td>CREC-2024-12-20-pt1-PgS7321-0</td>\n",
       "      <td>Mr. President, I rise today to honor Hugh Espe...</td>\n",
       "      <td>Mr. SANDERS</td>\n",
       "      <td>2024-12-20</td>\n",
       "      <td>2024</td>\n",
       "      <td>Independent</td>\n",
       "      <td>Independent</td>\n",
       "      <td>Congress</td>\n",
       "      <td>[president, rise, today, honor, hugh, espey, i...</td>\n",
       "      <td>president rise today honor hugh espey iowa cit...</td>\n",
       "      <td>45</td>\n",
       "    </tr>\n",
       "  </tbody>\n",
       "</table>\n",
       "<p>14458 rows × 11 columns</p>\n",
       "</div>"
      ],
      "text/plain": [
       "                                   id_  \\\n",
       "0                                    0   \n",
       "1                                    1   \n",
       "2                                    2   \n",
       "3                                    3   \n",
       "4                                    4   \n",
       "...                                ...   \n",
       "14453  CREC-2024-12-11-pt1-PgS6963-4-1   \n",
       "14454    CREC-2024-12-12-pt1-PgH7130-2   \n",
       "14455    CREC-2024-12-12-pt1-PgH7130-6   \n",
       "14456   CREC-2024-12-16-pt1-PgH7151-10   \n",
       "14457    CREC-2024-12-20-pt1-PgS7321-0   \n",
       "\n",
       "                                                    text  \\\n",
       "0      WHO GETS WHAT  THE ZERO-SUM SOCIETY Distributi...   \n",
       "1      FED MONETARY POLICY:CREDIBILITY GAP; Economic ...   \n",
       "2      EGYPT'S MOVES TO HELP ECONOMY CAUSING CONFUSIO...   \n",
       "3      BOOKS OF THE TIMES; Books Of The Times  By Edw...   \n",
       "4      'John Paul Is Our Voice'  Those who pegged Pop...   \n",
       "...                                                  ...   \n",
       "14453  Mr. President, as the holiday season approache...   \n",
       "14454  Mr. Speaker, I thank my sister Cori Bush for y...   \n",
       "14455  Mr. Speaker, Congresswoman Ramirez came into C...   \n",
       "14456  Mr. Speaker, I yield myself such time as I may...   \n",
       "14457  Mr. President, I rise today to honor Hugh Espe...   \n",
       "\n",
       "                                                  author        date  year  \\\n",
       "0      MARC F. PLATTNER; Marc F. Plattner is on the s...  1980-06-08  1980   \n",
       "1                                      ROBERT A. BENNETT  1980-06-14  1980   \n",
       "2                                    CHRISTOPHER S. WREN  1980-06-23  1980   \n",
       "3                                                    NaN  1980-07-01  1980   \n",
       "4                                                    NaN  1980-07-13  1980   \n",
       "...                                                  ...         ...   ...   \n",
       "14453                                        Mr. SANDERS  2024-12-11  2024   \n",
       "14454                                         Mr. BOWMAN  2024-12-12  2024   \n",
       "14455                                           Ms. BUSH  2024-12-12  2024   \n",
       "14456                                          Mr. STEIL  2024-12-16  2024   \n",
       "14457                                        Mr. SANDERS  2024-12-20  2024   \n",
       "\n",
       "            source        party   dataset  \\\n",
       "0              nyt     Democrat       nyt   \n",
       "1              nyt     Democrat       nyt   \n",
       "2              nyt     Democrat       nyt   \n",
       "3              nyt     Democrat       nyt   \n",
       "4              nyt     Democrat       nyt   \n",
       "...            ...          ...       ...   \n",
       "14453  Independent  Independent  Congress   \n",
       "14454     Democrat     Democrat  Congress   \n",
       "14455     Democrat     Democrat  Congress   \n",
       "14456   Republican   Republican  Congress   \n",
       "14457  Independent  Independent  Congress   \n",
       "\n",
       "                              lemma_tokens_no_stop_words  \\\n",
       "0      [get, zero, sum, society, distribution, possib...   \n",
       "1      [fed, monetary, policy, credibility, gap, econ...   \n",
       "2      [egypt, move, help, economy, cause, confusion,...   \n",
       "3      [books, times, books, times, edward, cowan, ze...   \n",
       "4      [john, paul, voice, peg, pope, john, paul, ii,...   \n",
       "...                                                  ...   \n",
       "14453  [president, holiday, season, approach, appropr...   \n",
       "14454  [speaker, thank, sister, cori, bush, yield, sp...   \n",
       "14455  [speaker, congresswoman, ramirez, come, congre...   \n",
       "14456  [speaker, yield, time, consume, speaker, measu...   \n",
       "14457  [president, rise, today, honor, hugh, espey, i...   \n",
       "\n",
       "                                                tokens_R  year_n  \n",
       "0      get zero sum society distribution possibilitie...       1  \n",
       "1      fed monetary policy credibility gap economic a...       1  \n",
       "2      egypt move help economy cause confusion campai...       1  \n",
       "3      books times books times edward cowan zero sum ...       1  \n",
       "4      john paul voice peg pope john paul ii conserva...       1  \n",
       "...                                                  ...     ...  \n",
       "14453  president holiday season approach appropriate ...      45  \n",
       "14454  speaker thank sister cori bush yield speaker w...      45  \n",
       "14455  speaker congresswoman ramirez come congress li...      45  \n",
       "14456  speaker yield time consume speaker measure hal...      45  \n",
       "14457  president rise today honor hugh espey iowa cit...      45  \n",
       "\n",
       "[14458 rows x 11 columns]"
      ]
     },
     "execution_count": 22,
     "metadata": {},
     "output_type": "execute_result"
    }
   ],
   "source": [
    "combined_df"
   ]
  }
 ],
 "metadata": {
  "kernelspec": {
   "display_name": "base",
   "language": "python",
   "name": "python3"
  },
  "language_info": {
   "codemirror_mode": {
    "name": "ipython",
    "version": 3
   },
   "file_extension": ".py",
   "mimetype": "text/x-python",
   "name": "python",
   "nbconvert_exporter": "python",
   "pygments_lexer": "ipython3",
   "version": "3.9.13"
  }
 },
 "nbformat": 4,
 "nbformat_minor": 2
}
