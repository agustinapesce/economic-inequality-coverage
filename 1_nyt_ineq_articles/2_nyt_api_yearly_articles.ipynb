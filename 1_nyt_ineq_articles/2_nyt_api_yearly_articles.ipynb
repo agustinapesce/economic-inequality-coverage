{
 "cells": [
  {
   "cell_type": "code",
   "execution_count": 1,
   "metadata": {},
   "outputs": [
    {
     "name": "stderr",
     "output_type": "stream",
     "text": [
      "c:\\Users\\agust\\anaconda3\\lib\\site-packages\\pandas\\core\\computation\\expressions.py:21: UserWarning: Pandas requires version '2.8.4' or newer of 'numexpr' (version '2.8.3' currently installed).\n",
      "  from pandas.core.computation.check import NUMEXPR_INSTALLED\n",
      "c:\\Users\\agust\\anaconda3\\lib\\site-packages\\pandas\\core\\arrays\\masked.py:60: UserWarning: Pandas requires version '1.3.6' or newer of 'bottleneck' (version '1.3.5' currently installed).\n",
      "  from pandas.core import (\n"
     ]
    }
   ],
   "source": [
    "import requests\n",
    "import time\n",
    "import os\n",
    "from tqdm import tqdm\n",
    "\n",
    "import json\n",
    "import pandas as pd\n",
    "#from concurrent.futures import ThreadPoolExecutor\n",
    "#import pickle"
   ]
  },
  {
   "cell_type": "code",
   "execution_count": 3,
   "metadata": {},
   "outputs": [
    {
     "data": {
      "text/plain": [
       "'c:\\\\Users\\\\agust\\\\Documents\\\\SEDS\\\\SEDS_thesis\\\\1_nyt_ineq_articles'"
      ]
     },
     "execution_count": 3,
     "metadata": {},
     "output_type": "execute_result"
    }
   ],
   "source": [
    "os.getcwd()"
   ]
  },
  {
   "cell_type": "markdown",
   "metadata": {},
   "source": [
    "#### Note: For 1980 articles from June onwards were counted since this is when the NexisUni Database Dataload starts"
   ]
  },
  {
   "cell_type": "markdown",
   "metadata": {},
   "source": [
    "11. Is there an API call limit?<br>\n",
    "500 requests per day <br>\n",
    "5 requests per minute <br>\n",
    "You should sleep 12 seconds between calls to avoid hitting the per minute rate limit <br>\n",
    "If you need a higher rate limit, please contact us at code@nytimes.com."
   ]
  },
  {
   "cell_type": "code",
   "execution_count": 4,
   "metadata": {},
   "outputs": [
    {
     "data": {
      "text/plain": [
       "534"
      ]
     },
     "execution_count": 4,
     "metadata": {},
     "output_type": "execute_result"
    }
   ],
   "source": [
    "#Total needed\n",
    "(2024-1980)*12+6"
   ]
  },
  {
   "cell_type": "markdown",
   "metadata": {},
   "source": [
    "API Download"
   ]
  },
  {
   "cell_type": "code",
   "execution_count": 5,
   "metadata": {},
   "outputs": [],
   "source": [
    "# Your API key\n",
    "with open(\"nyt_api_key.txt\", \"r\") as file: \n",
    "    API_KEY = file.read() \n",
    "    \n",
    "BASE_URL = \"https://api.nytimes.com/svc/archive/v1\"\n",
    "\n",
    "# Create a directory to store results\n",
    "# os.makedirs(\"nyt_archive_data\", exist_ok=True)"
   ]
  },
  {
   "cell_type": "code",
   "execution_count": 6,
   "metadata": {},
   "outputs": [],
   "source": [
    "# Retrieval\n",
    "start_year = 2024\n",
    "start_month = 12\n",
    "end_year = 2024\n",
    "end_month = 12"
   ]
  },
  {
   "cell_type": "code",
   "execution_count": 7,
   "metadata": {},
   "outputs": [
    {
     "name": "stdout",
     "output_type": "stream",
     "text": [
      "Fetching data for 2024-12\n",
      "Saved data for 2024-12 to nyt_archive_data/nyt-2024-12.json\n"
     ]
    }
   ],
   "source": [
    "# Loop through years and months\n",
    "for year in range(start_year, end_year + 1):\n",
    "    for month in range(1, 13):\n",
    "        if year == start_year and month < start_month:\n",
    "            continue\n",
    "        if year == end_year and month > end_month:\n",
    "            break\n",
    "        \n",
    "        # Construct the request URL\n",
    "        url = f\"{BASE_URL}/{year}/{month}.json?api-key={API_KEY}\"\n",
    "        print(f\"Fetching data for {year}-{month:02d}\")\n",
    "        \n",
    "        try:\n",
    "            # Make the request\n",
    "            response = requests.get(url)\n",
    "            response.raise_for_status()  # Raise an error for bad responses\n",
    "            \n",
    "            # Save the response to a file\n",
    "            file_name = f\"nyt_archive_data/nyt-{year}-{month:02d}.json\"\n",
    "            with open(file_name, \"w\") as file:\n",
    "                file.write(response.text)\n",
    "            \n",
    "            print(f\"Saved data for {year}-{month:02d} to {file_name}\")\n",
    "        \n",
    "        except requests.exceptions.RequestException as e:\n",
    "            print(f\"Failed to fetch data for {year}-{month:02d}: {e}\")\n",
    "        \n",
    "        # Respect API rate limits (e.g., 5 requests per second)\n",
    "        time.sleep(12)"
   ]
  },
  {
   "cell_type": "markdown",
   "metadata": {},
   "source": [
    "Check all folders availability"
   ]
  },
  {
   "cell_type": "code",
   "execution_count": 8,
   "metadata": {},
   "outputs": [],
   "source": [
    "def check_all_months(folder_path, start_year, end_year):\n",
    "    \"\"\"\n",
    "    Checks if all months (01 to 12) exist for each year in the specified folder.\n",
    "    The files are assumed to be named in the format 'nyt-YYYY-MM'.\n",
    "    \n",
    "    Parameters:\n",
    "        folder_path (str): Path to the folder containing files.\n",
    "        start_year (int): Starting year to check.\n",
    "        end_year (int): Ending year to check.\n",
    "    \n",
    "    Returns:\n",
    "        dict: A dictionary with years as keys and missing months as values.\n",
    "              If all months exist for a year, the value is an empty list.\n",
    "    \"\"\"\n",
    "    # Get all files in the folder\n",
    "    files_in_folder = os.listdir(folder_path)\n",
    "    \n",
    "    # Initialize a dictionary to track missing months\n",
    "    missing_months = {}\n",
    "    \n",
    "    # Loop through each year\n",
    "    for year in range(start_year, end_year + 1):\n",
    "        # Expected file names for each month\n",
    "        expected_files = [f\"nyt-{year}-{str(month).zfill(2)}\" for month in range(1, 13)]\n",
    "        \n",
    "        # Check which files are missing\n",
    "        existing_files = [f.split(\".\")[0] for f in files_in_folder if f.startswith(f\"nyt-{year}\")]\n",
    "        missing = [file for file in expected_files if file not in existing_files]\n",
    "        \n",
    "        # Record missing months\n",
    "        missing_months[year] = missing\n",
    "    \n",
    "    return missing_months"
   ]
  },
  {
   "cell_type": "code",
   "execution_count": 9,
   "metadata": {},
   "outputs": [],
   "source": [
    "# Example usage\n",
    "folder_path = \"nyt_archive_data\"  # Replace with your folder path\n",
    "start_year = 1981 #all six 1980 months are available\n",
    "end_year = 2024   # only december should be missing\n",
    "\n",
    "missing_files = check_all_months(folder_path, start_year, end_year)\n",
    "for year, missing in missing_files.items():\n",
    "    if missing:\n",
    "        print(f\"Year {year} is missing: {', '.join(missing)}\")\n",
    "\n",
    "#Year 1983 is missing: nyt-1983-02 #already retrieved"
   ]
  },
  {
   "cell_type": "markdown",
   "metadata": {},
   "source": [
    "Handling problem with document with error (redownloaded, fixed)"
   ]
  },
  {
   "cell_type": "code",
   "execution_count": 10,
   "metadata": {},
   "outputs": [],
   "source": [
    "with open(\"nyt_archive_data/nyt-2003-07.json\", \"r\") as file:\n",
    "        data = json.load(file)"
   ]
  },
  {
   "cell_type": "code",
   "execution_count": 11,
   "metadata": {},
   "outputs": [],
   "source": [
    "file_path = \"nyt_archive_data/nyt-2003-07.json\"\n",
    "\n",
    "with open(file_path, \"r\") as file:\n",
    "    content = file.read()\n",
    "\n",
    "#first was truncated document request"
   ]
  },
  {
   "cell_type": "code",
   "execution_count": 12,
   "metadata": {},
   "outputs": [
    {
     "name": "stdout",
     "output_type": "stream",
     "text": [
      "{'abstract': \"Letter from Diane Archer, Medicare Rights Center, says Congress's Medicare prescription plan will probably not provide relief to older Americans who struggle to pay for medications unless it sets fair prices; drawing (Jun 27 article)\", 'web_url': 'https://www.nytimes.com/2003/07/01/opinion/l-medicare-plan-relief-or-placebo-338575.html', 'snippet': \"Letter from Diane Archer, Medicare Rights Center, says Congress's Medicare prescription plan will probably not provide relief to older Americans who struggle to pay for medications unless it sets fair prices; drawing (Jun 27 article)\", 'lead_paragraph': 'To the Editor:', 'print_section': 'A', 'print_page': '22', 'source': 'The New York Times', 'multimedia': [], 'headline': {'main': 'Medicare Plan: Relief or Placebo?', 'kicker': None, 'content_kicker': None, 'print_headline': 'Medicare Plan: Relief or Placebo?', 'name': None, 'seo': None, 'sub': None}, 'keywords': [{'name': 'glocations', 'value': 'United States', 'rank': 1, 'major': 'N'}, {'name': 'organizations', 'value': 'Medicare Rights Center', 'rank': 2, 'major': 'N'}, {'name': 'organizations', 'value': 'MEDICARE', 'rank': 3, 'major': 'N'}, {'name': 'persons', 'value': 'ARCHER, DIANE', 'rank': 4, 'major': 'N'}, {'name': 'subject', 'value': 'Health Insurance and Managed Care', 'rank': 5, 'major': 'N'}, {'name': 'subject', 'value': 'Drugs (Pharmaceuticals)', 'rank': 6, 'major': 'N'}, {'name': 'subject', 'value': 'Prices (Fares, Fees and Rates)', 'rank': 7, 'major': 'N'}, {'name': 'subject', 'value': 'AGED', 'rank': 8, 'major': 'N'}, {'name': 'subject', 'value': 'Medicine and Health', 'rank': 9, 'major': 'N'}, {'name': 'subject', 'value': 'Law and Legislation', 'rank': 10, 'major': 'N'}, {'name': 'subject', 'value': 'Regulation and Deregulation of Industry', 'rank': 11, 'major': 'N'}], 'pub_date': '2003-07-01T05:00:00+0000', 'document_type': 'article', 'news_desk': 'Editorial Desk', 'section_name': 'Opinion', 'byline': {'original': '', 'person': [], 'organization': None}, 'type_of_material': 'Letter', '_id': 'nyt://article/01693b7e-1c15-5a1b-9828-c3bb93c10745', 'word_count': 149, 'uri': 'nyt://article/01693b7e-1c15-5a1b-9828-c3bb93c10745'}\n",
      "19\n"
     ]
    }
   ],
   "source": [
    "print(data['response']['docs'][3])\n",
    "print(len(data['response']['docs'][3]))"
   ]
  },
  {
   "cell_type": "markdown",
   "metadata": {},
   "source": [
    "Load requests from folder"
   ]
  },
  {
   "cell_type": "code",
   "execution_count": 13,
   "metadata": {},
   "outputs": [],
   "source": [
    "def count_articles_by_month(folder_path):\n",
    "    \"\"\"\n",
    "    Counts the number of articles for each month based on JSON files in the folder,\n",
    "    with a progress bar and includes a 'year' column.\n",
    "\n",
    "    Parameters:\n",
    "        folder_path (str): Path to the folder containing JSON files.\n",
    "\n",
    "    Returns:\n",
    "        pd.DataFrame: DataFrame with columns 'month_year', 'year', and 'article_count'.\n",
    "    \"\"\"\n",
    "    monthly_counts = []\n",
    "    json_files = [file_name for file_name in os.listdir(folder_path) if file_name.endswith(\".json\")]\n",
    "\n",
    "    # Use tqdm for a progress bar\n",
    "    for file_name in tqdm(json_files, desc=\"Processing files\"):\n",
    "        file_path = os.path.join(folder_path, file_name)\n",
    "        \n",
    "        try:\n",
    "            # Extract the month and year from the filename\n",
    "            # Assuming file names follow the format 'nyt-YYYY-MM.json'\n",
    "            month_year = file_name.split('-')[1] + '-' + file_name.split('-')[2].split('.')[0]\n",
    "            year = file_name.split('-')[1]  # Extract year only\n",
    "            \n",
    "            # Load the JSON content and count articles\n",
    "            with open(file_path, \"r\") as file:\n",
    "                data = json.load(file)\n",
    "                article_count = len(data.get(\"response\", {}).get(\"docs\", []))\n",
    "            \n",
    "            # Append results\n",
    "            monthly_counts.append({'month_year': month_year, 'year': year, 'article_count': article_count})\n",
    "        \n",
    "        except json.JSONDecodeError as e:\n",
    "            print(f\"Error decoding JSON in file: {file_name} - {e}\")\n",
    "        except Exception as e:\n",
    "            print(f\"Unexpected error with file: {file_name} - {e}\")\n",
    "\n",
    "    # Create a DataFrame from the results\n",
    "    df_counts = pd.DataFrame(monthly_counts)\n",
    "\n",
    "    return df_counts"
   ]
  },
  {
   "cell_type": "code",
   "execution_count": 14,
   "metadata": {},
   "outputs": [
    {
     "name": "stderr",
     "output_type": "stream",
     "text": [
      "Processing files:   0%|          | 0/535 [00:00<?, ?it/s]"
     ]
    },
    {
     "name": "stderr",
     "output_type": "stream",
     "text": [
      "Processing files:  29%|██▉       | 157/535 [00:38<01:33,  4.06it/s]\n"
     ]
    },
    {
     "ename": "KeyboardInterrupt",
     "evalue": "",
     "output_type": "error",
     "traceback": [
      "\u001b[1;31m---------------------------------------------------------------------------\u001b[0m",
      "\u001b[1;31mKeyboardInterrupt\u001b[0m                         Traceback (most recent call last)",
      "\u001b[1;32m~\\AppData\\Local\\Temp\\ipykernel_34276\\938130191.py\u001b[0m in \u001b[0;36m<module>\u001b[1;34m\u001b[0m\n\u001b[0;32m      1\u001b[0m \u001b[1;31m# Example usage\u001b[0m\u001b[1;33m\u001b[0m\u001b[1;33m\u001b[0m\u001b[0m\n\u001b[0;32m      2\u001b[0m \u001b[0mfolder_path\u001b[0m \u001b[1;33m=\u001b[0m \u001b[1;34m\"nyt_archive_data\"\u001b[0m\u001b[1;33m\u001b[0m\u001b[1;33m\u001b[0m\u001b[0m\n\u001b[1;32m----> 3\u001b[1;33m \u001b[0mmonthly_article_counts\u001b[0m \u001b[1;33m=\u001b[0m \u001b[0mcount_articles_by_month\u001b[0m\u001b[1;33m(\u001b[0m\u001b[0mfolder_path\u001b[0m\u001b[1;33m)\u001b[0m\u001b[1;33m\u001b[0m\u001b[1;33m\u001b[0m\u001b[0m\n\u001b[0m\u001b[0;32m      4\u001b[0m \u001b[1;33m\u001b[0m\u001b[0m\n\u001b[0;32m      5\u001b[0m \u001b[1;31m# Print the DataFrame\u001b[0m\u001b[1;33m\u001b[0m\u001b[1;33m\u001b[0m\u001b[0m\n",
      "\u001b[1;32m~\\AppData\\Local\\Temp\\ipykernel_34276\\4199421802.py\u001b[0m in \u001b[0;36mcount_articles_by_month\u001b[1;34m(folder_path)\u001b[0m\n\u001b[0;32m     25\u001b[0m             \u001b[1;31m# Load the JSON content and count articles\u001b[0m\u001b[1;33m\u001b[0m\u001b[1;33m\u001b[0m\u001b[0m\n\u001b[0;32m     26\u001b[0m             \u001b[1;32mwith\u001b[0m \u001b[0mopen\u001b[0m\u001b[1;33m(\u001b[0m\u001b[0mfile_path\u001b[0m\u001b[1;33m,\u001b[0m \u001b[1;34m\"r\"\u001b[0m\u001b[1;33m)\u001b[0m \u001b[1;32mas\u001b[0m \u001b[0mfile\u001b[0m\u001b[1;33m:\u001b[0m\u001b[1;33m\u001b[0m\u001b[1;33m\u001b[0m\u001b[0m\n\u001b[1;32m---> 27\u001b[1;33m                 \u001b[0mdata\u001b[0m \u001b[1;33m=\u001b[0m \u001b[0mjson\u001b[0m\u001b[1;33m.\u001b[0m\u001b[0mload\u001b[0m\u001b[1;33m(\u001b[0m\u001b[0mfile\u001b[0m\u001b[1;33m)\u001b[0m\u001b[1;33m\u001b[0m\u001b[1;33m\u001b[0m\u001b[0m\n\u001b[0m\u001b[0;32m     28\u001b[0m                 \u001b[0marticle_count\u001b[0m \u001b[1;33m=\u001b[0m \u001b[0mlen\u001b[0m\u001b[1;33m(\u001b[0m\u001b[0mdata\u001b[0m\u001b[1;33m.\u001b[0m\u001b[0mget\u001b[0m\u001b[1;33m(\u001b[0m\u001b[1;34m\"response\"\u001b[0m\u001b[1;33m,\u001b[0m \u001b[1;33m{\u001b[0m\u001b[1;33m}\u001b[0m\u001b[1;33m)\u001b[0m\u001b[1;33m.\u001b[0m\u001b[0mget\u001b[0m\u001b[1;33m(\u001b[0m\u001b[1;34m\"docs\"\u001b[0m\u001b[1;33m,\u001b[0m \u001b[1;33m[\u001b[0m\u001b[1;33m]\u001b[0m\u001b[1;33m)\u001b[0m\u001b[1;33m)\u001b[0m\u001b[1;33m\u001b[0m\u001b[1;33m\u001b[0m\u001b[0m\n\u001b[0;32m     29\u001b[0m \u001b[1;33m\u001b[0m\u001b[0m\n",
      "\u001b[1;32mc:\\Users\\agust\\anaconda3\\lib\\json\\__init__.py\u001b[0m in \u001b[0;36mload\u001b[1;34m(fp, cls, object_hook, parse_float, parse_int, parse_constant, object_pairs_hook, **kw)\u001b[0m\n\u001b[0;32m    291\u001b[0m     \u001b[0mkwarg\u001b[0m\u001b[1;33m;\u001b[0m \u001b[0motherwise\u001b[0m\u001b[0;31m \u001b[0m\u001b[0;31m`\u001b[0m\u001b[0;31m`\u001b[0m\u001b[0mJSONDecoder\u001b[0m\u001b[0;31m`\u001b[0m\u001b[0;31m`\u001b[0m \u001b[1;32mis\u001b[0m \u001b[0mused\u001b[0m\u001b[1;33m.\u001b[0m\u001b[1;33m\u001b[0m\u001b[1;33m\u001b[0m\u001b[0m\n\u001b[0;32m    292\u001b[0m     \"\"\"\n\u001b[1;32m--> 293\u001b[1;33m     return loads(fp.read(),\n\u001b[0m\u001b[0;32m    294\u001b[0m         \u001b[0mcls\u001b[0m\u001b[1;33m=\u001b[0m\u001b[0mcls\u001b[0m\u001b[1;33m,\u001b[0m \u001b[0mobject_hook\u001b[0m\u001b[1;33m=\u001b[0m\u001b[0mobject_hook\u001b[0m\u001b[1;33m,\u001b[0m\u001b[1;33m\u001b[0m\u001b[1;33m\u001b[0m\u001b[0m\n\u001b[0;32m    295\u001b[0m         \u001b[0mparse_float\u001b[0m\u001b[1;33m=\u001b[0m\u001b[0mparse_float\u001b[0m\u001b[1;33m,\u001b[0m \u001b[0mparse_int\u001b[0m\u001b[1;33m=\u001b[0m\u001b[0mparse_int\u001b[0m\u001b[1;33m,\u001b[0m\u001b[1;33m\u001b[0m\u001b[1;33m\u001b[0m\u001b[0m\n",
      "\u001b[1;32mc:\\Users\\agust\\anaconda3\\lib\\json\\__init__.py\u001b[0m in \u001b[0;36mloads\u001b[1;34m(s, cls, object_hook, parse_float, parse_int, parse_constant, object_pairs_hook, **kw)\u001b[0m\n\u001b[0;32m    344\u001b[0m             \u001b[0mparse_int\u001b[0m \u001b[1;32mis\u001b[0m \u001b[1;32mNone\u001b[0m \u001b[1;32mand\u001b[0m \u001b[0mparse_float\u001b[0m \u001b[1;32mis\u001b[0m \u001b[1;32mNone\u001b[0m \u001b[1;32mand\u001b[0m\u001b[1;33m\u001b[0m\u001b[1;33m\u001b[0m\u001b[0m\n\u001b[0;32m    345\u001b[0m             parse_constant is None and object_pairs_hook is None and not kw):\n\u001b[1;32m--> 346\u001b[1;33m         \u001b[1;32mreturn\u001b[0m \u001b[0m_default_decoder\u001b[0m\u001b[1;33m.\u001b[0m\u001b[0mdecode\u001b[0m\u001b[1;33m(\u001b[0m\u001b[0ms\u001b[0m\u001b[1;33m)\u001b[0m\u001b[1;33m\u001b[0m\u001b[1;33m\u001b[0m\u001b[0m\n\u001b[0m\u001b[0;32m    347\u001b[0m     \u001b[1;32mif\u001b[0m \u001b[0mcls\u001b[0m \u001b[1;32mis\u001b[0m \u001b[1;32mNone\u001b[0m\u001b[1;33m:\u001b[0m\u001b[1;33m\u001b[0m\u001b[1;33m\u001b[0m\u001b[0m\n\u001b[0;32m    348\u001b[0m         \u001b[0mcls\u001b[0m \u001b[1;33m=\u001b[0m \u001b[0mJSONDecoder\u001b[0m\u001b[1;33m\u001b[0m\u001b[1;33m\u001b[0m\u001b[0m\n",
      "\u001b[1;32mc:\\Users\\agust\\anaconda3\\lib\\json\\decoder.py\u001b[0m in \u001b[0;36mdecode\u001b[1;34m(self, s, _w)\u001b[0m\n\u001b[0;32m    335\u001b[0m \u001b[1;33m\u001b[0m\u001b[0m\n\u001b[0;32m    336\u001b[0m         \"\"\"\n\u001b[1;32m--> 337\u001b[1;33m         \u001b[0mobj\u001b[0m\u001b[1;33m,\u001b[0m \u001b[0mend\u001b[0m \u001b[1;33m=\u001b[0m \u001b[0mself\u001b[0m\u001b[1;33m.\u001b[0m\u001b[0mraw_decode\u001b[0m\u001b[1;33m(\u001b[0m\u001b[0ms\u001b[0m\u001b[1;33m,\u001b[0m \u001b[0midx\u001b[0m\u001b[1;33m=\u001b[0m\u001b[0m_w\u001b[0m\u001b[1;33m(\u001b[0m\u001b[0ms\u001b[0m\u001b[1;33m,\u001b[0m \u001b[1;36m0\u001b[0m\u001b[1;33m)\u001b[0m\u001b[1;33m.\u001b[0m\u001b[0mend\u001b[0m\u001b[1;33m(\u001b[0m\u001b[1;33m)\u001b[0m\u001b[1;33m)\u001b[0m\u001b[1;33m\u001b[0m\u001b[1;33m\u001b[0m\u001b[0m\n\u001b[0m\u001b[0;32m    338\u001b[0m         \u001b[0mend\u001b[0m \u001b[1;33m=\u001b[0m \u001b[0m_w\u001b[0m\u001b[1;33m(\u001b[0m\u001b[0ms\u001b[0m\u001b[1;33m,\u001b[0m \u001b[0mend\u001b[0m\u001b[1;33m)\u001b[0m\u001b[1;33m.\u001b[0m\u001b[0mend\u001b[0m\u001b[1;33m(\u001b[0m\u001b[1;33m)\u001b[0m\u001b[1;33m\u001b[0m\u001b[1;33m\u001b[0m\u001b[0m\n\u001b[0;32m    339\u001b[0m         \u001b[1;32mif\u001b[0m \u001b[0mend\u001b[0m \u001b[1;33m!=\u001b[0m \u001b[0mlen\u001b[0m\u001b[1;33m(\u001b[0m\u001b[0ms\u001b[0m\u001b[1;33m)\u001b[0m\u001b[1;33m:\u001b[0m\u001b[1;33m\u001b[0m\u001b[1;33m\u001b[0m\u001b[0m\n",
      "\u001b[1;32mc:\\Users\\agust\\anaconda3\\lib\\json\\decoder.py\u001b[0m in \u001b[0;36mraw_decode\u001b[1;34m(self, s, idx)\u001b[0m\n\u001b[0;32m    351\u001b[0m         \"\"\"\n\u001b[0;32m    352\u001b[0m         \u001b[1;32mtry\u001b[0m\u001b[1;33m:\u001b[0m\u001b[1;33m\u001b[0m\u001b[1;33m\u001b[0m\u001b[0m\n\u001b[1;32m--> 353\u001b[1;33m             \u001b[0mobj\u001b[0m\u001b[1;33m,\u001b[0m \u001b[0mend\u001b[0m \u001b[1;33m=\u001b[0m \u001b[0mself\u001b[0m\u001b[1;33m.\u001b[0m\u001b[0mscan_once\u001b[0m\u001b[1;33m(\u001b[0m\u001b[0ms\u001b[0m\u001b[1;33m,\u001b[0m \u001b[0midx\u001b[0m\u001b[1;33m)\u001b[0m\u001b[1;33m\u001b[0m\u001b[1;33m\u001b[0m\u001b[0m\n\u001b[0m\u001b[0;32m    354\u001b[0m         \u001b[1;32mexcept\u001b[0m \u001b[0mStopIteration\u001b[0m \u001b[1;32mas\u001b[0m \u001b[0merr\u001b[0m\u001b[1;33m:\u001b[0m\u001b[1;33m\u001b[0m\u001b[1;33m\u001b[0m\u001b[0m\n\u001b[0;32m    355\u001b[0m             \u001b[1;32mraise\u001b[0m \u001b[0mJSONDecodeError\u001b[0m\u001b[1;33m(\u001b[0m\u001b[1;34m\"Expecting value\"\u001b[0m\u001b[1;33m,\u001b[0m \u001b[0ms\u001b[0m\u001b[1;33m,\u001b[0m \u001b[0merr\u001b[0m\u001b[1;33m.\u001b[0m\u001b[0mvalue\u001b[0m\u001b[1;33m)\u001b[0m \u001b[1;32mfrom\u001b[0m \u001b[1;32mNone\u001b[0m\u001b[1;33m\u001b[0m\u001b[1;33m\u001b[0m\u001b[0m\n",
      "\u001b[1;31mKeyboardInterrupt\u001b[0m: "
     ]
    }
   ],
   "source": [
    "# Example usage\n",
    "folder_path = \"nyt_archive_data\"\n",
    "monthly_article_counts = count_articles_by_month(folder_path)\n",
    "\n",
    "# Print the DataFrame\n",
    "monthly_article_counts.head()"
   ]
  },
  {
   "cell_type": "code",
   "execution_count": null,
   "metadata": {},
   "outputs": [],
   "source": [
    "# monthly_article_counts.to_csv('python_objects/monthly_counts_nyt_non_ineq_article.csv', index=False)"
   ]
  },
  {
   "cell_type": "markdown",
   "metadata": {},
   "source": [
    "Articles total count"
   ]
  },
  {
   "cell_type": "code",
   "execution_count": 2,
   "metadata": {},
   "outputs": [],
   "source": [
    "nyt_article_counts = pd.read_csv('python_objects/monthly_counts_nyt_non_ineq_article.csv')"
   ]
  },
  {
   "cell_type": "code",
   "execution_count": 16,
   "metadata": {},
   "outputs": [
    {
     "data": {
      "text/plain": [
       "Index(['month_year', 'year', 'article_count'], dtype='object')"
      ]
     },
     "execution_count": 16,
     "metadata": {},
     "output_type": "execute_result"
    }
   ],
   "source": [
    "nyt_article_counts.columns"
   ]
  },
  {
   "cell_type": "code",
   "execution_count": 3,
   "metadata": {},
   "outputs": [
    {
     "data": {
      "text/html": [
       "<div>\n",
       "<style scoped>\n",
       "    .dataframe tbody tr th:only-of-type {\n",
       "        vertical-align: middle;\n",
       "    }\n",
       "\n",
       "    .dataframe tbody tr th {\n",
       "        vertical-align: top;\n",
       "    }\n",
       "\n",
       "    .dataframe thead th {\n",
       "        text-align: right;\n",
       "    }\n",
       "</style>\n",
       "<table border=\"1\" class=\"dataframe\">\n",
       "  <thead>\n",
       "    <tr style=\"text-align: right;\">\n",
       "      <th></th>\n",
       "      <th>year</th>\n",
       "      <th>total_article_count</th>\n",
       "    </tr>\n",
       "  </thead>\n",
       "  <tbody>\n",
       "    <tr>\n",
       "      <th>0</th>\n",
       "      <td>1980</td>\n",
       "      <td>47562</td>\n",
       "    </tr>\n",
       "    <tr>\n",
       "      <th>1</th>\n",
       "      <td>1981</td>\n",
       "      <td>95131</td>\n",
       "    </tr>\n",
       "    <tr>\n",
       "      <th>2</th>\n",
       "      <td>1982</td>\n",
       "      <td>99841</td>\n",
       "    </tr>\n",
       "    <tr>\n",
       "      <th>3</th>\n",
       "      <td>1983</td>\n",
       "      <td>105250</td>\n",
       "    </tr>\n",
       "    <tr>\n",
       "      <th>4</th>\n",
       "      <td>1984</td>\n",
       "      <td>111359</td>\n",
       "    </tr>\n",
       "  </tbody>\n",
       "</table>\n",
       "</div>"
      ],
      "text/plain": [
       "   year  total_article_count\n",
       "0  1980                47562\n",
       "1  1981                95131\n",
       "2  1982                99841\n",
       "3  1983               105250\n",
       "4  1984               111359"
      ]
     },
     "execution_count": 3,
     "metadata": {},
     "output_type": "execute_result"
    }
   ],
   "source": [
    "# Group by the 'year' column and sum up the 'article_count'\n",
    "total_articles_per_year = nyt_article_counts.groupby('year')['article_count'].sum().reset_index()\n",
    "\n",
    "# Rename columns for clarity\n",
    "total_articles_per_year.columns = ['year', 'total_article_count']\n",
    "\n",
    "# Display the result\n",
    "total_articles_per_year.head()"
   ]
  },
  {
   "cell_type": "code",
   "execution_count": 18,
   "metadata": {},
   "outputs": [],
   "source": [
    "# total_articles_per_year.to_csv('python_objects/yearly_counts_nyt_non_ineq_articles.csv', index=False)"
   ]
  },
  {
   "cell_type": "markdown",
   "metadata": {},
   "source": [
    "Load"
   ]
  },
  {
   "cell_type": "code",
   "execution_count": 4,
   "metadata": {},
   "outputs": [],
   "source": [
    "import pandas as pd\n",
    "import matplotlib.pyplot as plt\n",
    "import seaborn as sns\n",
    "import numpy as np\n",
    "import matplotlib.ticker as ticker\n"
   ]
  },
  {
   "cell_type": "code",
   "execution_count": 5,
   "metadata": {},
   "outputs": [],
   "source": [
    "#Import total number of speeches per year to later create proportions\n",
    "total_articles_per_year = pd.read_csv('python_objects/yearly_counts_nyt_non_ineq_articles.csv')\n",
    "\n",
    "#For 1980 articles from June onwards were counted since this is when the NexisUni Database Dataload starts"
   ]
  },
  {
   "cell_type": "code",
   "execution_count": 21,
   "metadata": {},
   "outputs": [
    {
     "data": {
      "text/html": [
       "<div>\n",
       "<style scoped>\n",
       "    .dataframe tbody tr th:only-of-type {\n",
       "        vertical-align: middle;\n",
       "    }\n",
       "\n",
       "    .dataframe tbody tr th {\n",
       "        vertical-align: top;\n",
       "    }\n",
       "\n",
       "    .dataframe thead th {\n",
       "        text-align: right;\n",
       "    }\n",
       "</style>\n",
       "<table border=\"1\" class=\"dataframe\">\n",
       "  <thead>\n",
       "    <tr style=\"text-align: right;\">\n",
       "      <th></th>\n",
       "      <th>year</th>\n",
       "      <th>total_article_count</th>\n",
       "    </tr>\n",
       "  </thead>\n",
       "  <tbody>\n",
       "    <tr>\n",
       "      <th>0</th>\n",
       "      <td>1980</td>\n",
       "      <td>47562</td>\n",
       "    </tr>\n",
       "    <tr>\n",
       "      <th>1</th>\n",
       "      <td>1981</td>\n",
       "      <td>95131</td>\n",
       "    </tr>\n",
       "    <tr>\n",
       "      <th>2</th>\n",
       "      <td>1982</td>\n",
       "      <td>99841</td>\n",
       "    </tr>\n",
       "  </tbody>\n",
       "</table>\n",
       "</div>"
      ],
      "text/plain": [
       "   year  total_article_count\n",
       "0  1980                47562\n",
       "1  1981                95131\n",
       "2  1982                99841"
      ]
     },
     "execution_count": 21,
     "metadata": {},
     "output_type": "execute_result"
    }
   ],
   "source": [
    "total_articles_per_year.head(3)"
   ]
  },
  {
   "cell_type": "code",
   "execution_count": 22,
   "metadata": {},
   "outputs": [],
   "source": [
    "# Data preparation: Filter and ensure numeric years\n",
    "#total_speeches_per_year = total_speeches_per_year[total_speeches_per_year.index >= 1980]\n",
    "years = total_articles_per_year.index.astype(int)"
   ]
  },
  {
   "cell_type": "code",
   "execution_count": null,
   "metadata": {},
   "outputs": [
    {
     "data": {
      "image/png": "[encoded data removed]",
      "text/plain": [
       "<Figure size 650x400 with 1 Axes>"
      ]
     },
     "metadata": {},
     "output_type": "display_data"
    }
   ],
   "source": [
    "# Set up the plotting theme and font\n",
    "sns.set_theme(style=\"whitegrid\")\n",
    "plt.rcParams['font.family'] = 'Times New Roman'\n",
    "\n",
    "# Create figure with size based on LaTeX's linewidth\n",
    "fig_width_inch = 6.5  # Typical figure width for LaTeX\n",
    "fig_height_inch = 4   # Adjust to maintain aspect ratio\n",
    "plt.figure(figsize=(fig_width_inch, fig_height_inch))\n",
    "\n",
    "# Define color for bars\n",
    "bar_color = \"#F7C04A\" ##EFB700\n",
    "\n",
    "# Plot the data\n",
    "plt.bar(total_articles_per_year['year'], total_articles_per_year['total_article_count'], color=bar_color, edgecolor=\"black\", width=0.8, align=\"center\")\n",
    "\n",
    "# Titles and labels\n",
    "plt.xlabel(\"Year\", fontsize=12, fontweight=\"bold\")\n",
    "plt.ylabel(\"Number of Articles\", fontsize=12, fontweight=\"bold\")\n",
    "plt.title(\"Annual distribution of articles in The New York Times\", fontsize=14, fontweight=\"bold\", pad=25)\n",
    "\n",
    "# Set x-axis ticks every 10 years (adjust to your data range)\n",
    "x_ticks = np.arange(min(total_articles_per_year['year']), max(total_articles_per_year['year']) + 1, 5).tolist()\n",
    "x_ticks.append(2024)\n",
    "plt.xticks(x_ticks, fontsize=12)\n",
    "\n",
    "# Format y-axis ticks to display values in 'k' for thousands\n",
    "y_ticks = np.arange(0, 181000, 20000).tolist()  # Set ticks every 20k\n",
    "plt.yticks(y_ticks, fontsize=12)\n",
    "plt.ylim(0, 185000)\n",
    "plt.gca().yaxis.set_major_formatter(ticker.FuncFormatter(lambda x, pos: f'{int(x*1e-3)}k' if x >= 1000 else str(int(x))))\n",
    "\n",
    "# Make tick marks stand out outside the axis\n",
    "plt.gca().tick_params(which=\"both\", bottom=True, left=True, length=6, width=1, color='#D9D9D9', labelsize=10)\n",
    "\n",
    "# Remove unnecessary spines for cleaner appearance\n",
    "plt.gca().spines['right'].set_visible(False)\n",
    "plt.gca().spines['top'].set_visible(False)\n",
    "\n",
    "# Adjust layout for better spacing\n",
    "plt.tight_layout()\n",
    "\n",
    "# Save the plot as a high-quality PNG image\n",
    "plt.savefig(\"annual_articles_distribution.png\", dpi=300, bbox_inches=\"tight\")\n",
    "\n",
    "# Display the plot\n",
    "plt.show()\n"
   ]
  }
 ],
 "metadata": {
  "kernelspec": {
   "display_name": "base",
   "language": "python",
   "name": "python3"
  },
  "language_info": {
   "codemirror_mode": {
    "name": "ipython",
    "version": 3
   },
   "file_extension": ".py",
   "mimetype": "text/x-python",
   "name": "python",
   "nbconvert_exporter": "python",
   "pygments_lexer": "ipython3",
   "version": "3.9.13"
  }
 },
 "nbformat": 4,
 "nbformat_minor": 2
}
